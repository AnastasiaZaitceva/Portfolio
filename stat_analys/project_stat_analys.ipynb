{
 "cells": [
  {
   "cell_type": "markdown",
   "id": "2427acfe-8716-46c3-a260-6b91ee2d2649",
   "metadata": {
    "editable": true,
    "slideshow": {
     "slide_type": ""
    },
    "tags": []
   },
   "source": [
    "# Анализ бизнеса GoFast\n",
    "\n",
    "***\n",
    "\n",
    "### Задача:\n",
    "\n",
    "GoFast - сервис аренды самокатов. Есть данные о некоторых пользователях из нескольких городов, а также об их поездках. \n",
    "\n",
    "Необходимо проанализировать данные и проверить некоторые предложенные гипотезы, которые могут помочь бизнесу вырасти.\n",
    "\n",
    "Гипотезы:\n",
    "\n",
    " 1) Тратят ли пользователи с подпиской больше времени на поездки? Если да, то пользователи с подпиской могут быть «выгоднее» для компании.\n",
    "\n",
    " 2) Расстояние одной поездки в 3130 метров — оптимальное с точки зрения износа самоката. Можно ли сказать, что расстояние, которое проезжают пользователи с подпиской за одну поездку, не превышает 3130 метров? \n",
    "\n",
    " 3) Будет ли помесячная выручка от пользователей с подпиской по месяцам выше, чем выручка от пользователей без подписки?\n",
    " \n",
    "***\n",
    "\n",
    "### Описание проекта и данных:\n",
    "\n",
    "Чтобы совершать поездки по городу, пользователи сервиса GoFast пользуются мобильным приложением. Сервисом можно пользоваться:\n",
    "* без подписки\n",
    "  * абонентская плата отсутствует;\n",
    "  * стоимость одной минуты поездки — 8 рублей;\n",
    "  * стоимость старта (начала поездки) — 50 рублей;\n",
    "* с подпиской Ultra\n",
    "    * абонентская плата — 199 рублей в месяц;\n",
    "    * стоимость одной минуты поездки — 6 рублей;\n",
    "    * стоимость старта — бесплатно.\n",
    "    \n",
    "Данные о пользователях в файле `users_go.csv`:\n",
    "* `user_id` - уникальный идентификатор пользователя\n",
    "* `name` - имя пользователя\n",
    "* `age` - возраст\n",
    "* `city` - город\n",
    "* `subscription_type` - тип подписки (free, ultra)\n",
    "\n",
    "Данные о поездках в файле `rides_go.csv`:\n",
    "* `user_id` - уникальный идентификатор пользователя\n",
    "* `distance` - расстояние, которое пользователь проехал в текущей сессии (в метрах)\n",
    "* `duration` - продолжительность сессии (в минутах) — время с того момента, как пользователь нажал кнопку «Начать поездку» до момента, как он нажал кнопку «Завершить поездку»\n",
    "* `date` - дата совершения поездки\n",
    "\n",
    "Данные о подписке в файле `subscriptions_go.csv`:\n",
    "\n",
    "* `subscription_type` - тип подписки\n",
    "* `minute_price` - стоимость одной минуты поездки по данной подписке\n",
    "* `start_ride_price` - стоимость начала поездки\n",
    "* `subscription_fee` - стоимость ежемесячного платежа\n",
    "\n",
    "***\n",
    "\n",
    "### План работ:\n",
    "\n",
    "**[Шаг 1.](#section_1)** Загрузка данных, изучение общей информации о каждом датафрейме.\n",
    "\n",
    "**[Шаг 2.](#section_2)** Предобработка данных.\n",
    "\n",
    "**[Шаг 3.](#section_3)** Проведем анализ информации о пользователях и поездках: частота встречаемости городов; соотношение пользователей с подпиской и без подписки;возраст пользователей; расстояние, которое пользователь преодолел за одну поездку;продолжительность поездок и др.\n",
    "\n",
    "**[Шаг 4.](#section_4)** Проведем анализ гипотез.\n",
    "\n",
    "**[Шаг 5.](#section_5)** Решим доп.задачу для заказчика: Найдем минимальное количество промокодов для акции.\n",
    "\n",
    "**[Шаг 6.](#section_6)** Общий вывод."
   ]
  },
  {
   "cell_type": "code",
   "execution_count": 1,
   "id": "72576667",
   "metadata": {
    "editable": true,
    "slideshow": {
     "slide_type": ""
    },
    "tags": []
   },
   "outputs": [],
   "source": [
    "import pandas as pd\n",
    "import numpy as np\n",
    "import matplotlib.pyplot as plt\n",
    "\n",
    "from scipy import stats as st\n",
    "from math import sqrt\n",
    "from scipy.stats import binom, norm"
   ]
  },
  {
   "cell_type": "markdown",
   "id": "c42cbe00",
   "metadata": {
    "editable": true,
    "jp-MarkdownHeadingCollapsed": true,
    "slideshow": {
     "slide_type": ""
    },
    "tags": []
   },
   "source": [
    "<a id='section_1'></a>\n",
    "### Шаг 1. Загрузка данных, изучение общей информации о каждом датафрейме"
   ]
  },
  {
   "cell_type": "code",
   "execution_count": 2,
   "id": "d724b4b7-ccdd-439c-a19b-aa54d7645d99",
   "metadata": {},
   "outputs": [],
   "source": [
    "#Сохраняем данные в датафреймы\n",
    "users = pd.read_csv('C:/Users/ratus/DATA_SCIENCE/итоговые проекты/2/users_go.csv')\n",
    "rides = pd.read_csv('C:/Users/ratus/DATA_SCIENCE/итоговые проекты/2/rides_go.csv')\n",
    "subscriptions = pd.read_csv('C:/Users/ratus/DATA_SCIENCE/итоговые проекты/2/subscriptions_go.csv')"
   ]
  },
  {
   "cell_type": "code",
   "execution_count": 3,
   "id": "30bef532-96a9-4338-b1d1-b1aacd5cea84",
   "metadata": {},
   "outputs": [
    {
     "name": "stdout",
     "output_type": "stream",
     "text": [
      "<class 'pandas.core.frame.DataFrame'>\n",
      "RangeIndex: 1565 entries, 0 to 1564\n",
      "Data columns (total 5 columns):\n",
      " #   Column             Non-Null Count  Dtype \n",
      "---  ------             --------------  ----- \n",
      " 0   user_id            1565 non-null   int64 \n",
      " 1   name               1565 non-null   object\n",
      " 2   age                1565 non-null   int64 \n",
      " 3   city               1565 non-null   object\n",
      " 4   subscription_type  1565 non-null   object\n",
      "dtypes: int64(2), object(3)\n",
      "memory usage: 61.3+ KB\n"
     ]
    },
    {
     "data": {
      "text/html": [
       "<div>\n",
       "<style scoped>\n",
       "    .dataframe tbody tr th:only-of-type {\n",
       "        vertical-align: middle;\n",
       "    }\n",
       "\n",
       "    .dataframe tbody tr th {\n",
       "        vertical-align: top;\n",
       "    }\n",
       "\n",
       "    .dataframe thead th {\n",
       "        text-align: right;\n",
       "    }\n",
       "</style>\n",
       "<table border=\"1\" class=\"dataframe\">\n",
       "  <thead>\n",
       "    <tr style=\"text-align: right;\">\n",
       "      <th></th>\n",
       "      <th>user_id</th>\n",
       "      <th>name</th>\n",
       "      <th>age</th>\n",
       "      <th>city</th>\n",
       "      <th>subscription_type</th>\n",
       "    </tr>\n",
       "  </thead>\n",
       "  <tbody>\n",
       "    <tr>\n",
       "      <th>0</th>\n",
       "      <td>1</td>\n",
       "      <td>Кира</td>\n",
       "      <td>22</td>\n",
       "      <td>Тюмень</td>\n",
       "      <td>ultra</td>\n",
       "    </tr>\n",
       "    <tr>\n",
       "      <th>1</th>\n",
       "      <td>2</td>\n",
       "      <td>Станислав</td>\n",
       "      <td>31</td>\n",
       "      <td>Омск</td>\n",
       "      <td>ultra</td>\n",
       "    </tr>\n",
       "    <tr>\n",
       "      <th>2</th>\n",
       "      <td>3</td>\n",
       "      <td>Алексей</td>\n",
       "      <td>20</td>\n",
       "      <td>Москва</td>\n",
       "      <td>ultra</td>\n",
       "    </tr>\n",
       "    <tr>\n",
       "      <th>3</th>\n",
       "      <td>4</td>\n",
       "      <td>Константин</td>\n",
       "      <td>26</td>\n",
       "      <td>Ростов-на-Дону</td>\n",
       "      <td>ultra</td>\n",
       "    </tr>\n",
       "    <tr>\n",
       "      <th>4</th>\n",
       "      <td>5</td>\n",
       "      <td>Адель</td>\n",
       "      <td>28</td>\n",
       "      <td>Омск</td>\n",
       "      <td>ultra</td>\n",
       "    </tr>\n",
       "  </tbody>\n",
       "</table>\n",
       "</div>"
      ],
      "text/plain": [
       "   user_id        name  age            city subscription_type\n",
       "0        1        Кира   22          Тюмень             ultra\n",
       "1        2   Станислав   31            Омск             ultra\n",
       "2        3     Алексей   20          Москва             ultra\n",
       "3        4  Константин   26  Ростов-на-Дону             ultra\n",
       "4        5       Адель   28            Омск             ultra"
      ]
     },
     "execution_count": 3,
     "metadata": {},
     "output_type": "execute_result"
    }
   ],
   "source": [
    "#Общая информация по датафрейму\n",
    "users.info()\n",
    "\n",
    "#Несколько строк датафрейма\n",
    "users.head()"
   ]
  },
  {
   "cell_type": "code",
   "execution_count": 4,
   "id": "b6d56314-89cd-4c51-9f54-f98a55c704fe",
   "metadata": {},
   "outputs": [
    {
     "name": "stdout",
     "output_type": "stream",
     "text": [
      "<class 'pandas.core.frame.DataFrame'>\n",
      "RangeIndex: 18068 entries, 0 to 18067\n",
      "Data columns (total 4 columns):\n",
      " #   Column    Non-Null Count  Dtype  \n",
      "---  ------    --------------  -----  \n",
      " 0   user_id   18068 non-null  int64  \n",
      " 1   distance  18068 non-null  float64\n",
      " 2   duration  18068 non-null  float64\n",
      " 3   date      18068 non-null  object \n",
      "dtypes: float64(2), int64(1), object(1)\n",
      "memory usage: 564.8+ KB\n"
     ]
    },
    {
     "data": {
      "text/html": [
       "<div>\n",
       "<style scoped>\n",
       "    .dataframe tbody tr th:only-of-type {\n",
       "        vertical-align: middle;\n",
       "    }\n",
       "\n",
       "    .dataframe tbody tr th {\n",
       "        vertical-align: top;\n",
       "    }\n",
       "\n",
       "    .dataframe thead th {\n",
       "        text-align: right;\n",
       "    }\n",
       "</style>\n",
       "<table border=\"1\" class=\"dataframe\">\n",
       "  <thead>\n",
       "    <tr style=\"text-align: right;\">\n",
       "      <th></th>\n",
       "      <th>user_id</th>\n",
       "      <th>distance</th>\n",
       "      <th>duration</th>\n",
       "      <th>date</th>\n",
       "    </tr>\n",
       "  </thead>\n",
       "  <tbody>\n",
       "    <tr>\n",
       "      <th>0</th>\n",
       "      <td>1</td>\n",
       "      <td>4409.919140</td>\n",
       "      <td>25.599769</td>\n",
       "      <td>2021-01-01</td>\n",
       "    </tr>\n",
       "    <tr>\n",
       "      <th>1</th>\n",
       "      <td>1</td>\n",
       "      <td>2617.592153</td>\n",
       "      <td>15.816871</td>\n",
       "      <td>2021-01-18</td>\n",
       "    </tr>\n",
       "    <tr>\n",
       "      <th>2</th>\n",
       "      <td>1</td>\n",
       "      <td>754.159807</td>\n",
       "      <td>6.232113</td>\n",
       "      <td>2021-04-20</td>\n",
       "    </tr>\n",
       "    <tr>\n",
       "      <th>3</th>\n",
       "      <td>1</td>\n",
       "      <td>2694.783254</td>\n",
       "      <td>18.511000</td>\n",
       "      <td>2021-08-11</td>\n",
       "    </tr>\n",
       "    <tr>\n",
       "      <th>4</th>\n",
       "      <td>1</td>\n",
       "      <td>4028.687306</td>\n",
       "      <td>26.265803</td>\n",
       "      <td>2021-08-28</td>\n",
       "    </tr>\n",
       "  </tbody>\n",
       "</table>\n",
       "</div>"
      ],
      "text/plain": [
       "   user_id     distance   duration        date\n",
       "0        1  4409.919140  25.599769  2021-01-01\n",
       "1        1  2617.592153  15.816871  2021-01-18\n",
       "2        1   754.159807   6.232113  2021-04-20\n",
       "3        1  2694.783254  18.511000  2021-08-11\n",
       "4        1  4028.687306  26.265803  2021-08-28"
      ]
     },
     "execution_count": 4,
     "metadata": {},
     "output_type": "execute_result"
    }
   ],
   "source": [
    "#Общая информация по датафрейму\n",
    "rides.info()\n",
    "\n",
    "#Несколько строк датафрейма\n",
    "rides.head()"
   ]
  },
  {
   "cell_type": "code",
   "execution_count": 5,
   "id": "ed0ef50d-3661-4971-8954-3ceccf0c20ff",
   "metadata": {},
   "outputs": [
    {
     "name": "stdout",
     "output_type": "stream",
     "text": [
      "<class 'pandas.core.frame.DataFrame'>\n",
      "RangeIndex: 2 entries, 0 to 1\n",
      "Data columns (total 4 columns):\n",
      " #   Column             Non-Null Count  Dtype \n",
      "---  ------             --------------  ----- \n",
      " 0   subscription_type  2 non-null      object\n",
      " 1   minute_price       2 non-null      int64 \n",
      " 2   start_ride_price   2 non-null      int64 \n",
      " 3   subscription_fee   2 non-null      int64 \n",
      "dtypes: int64(3), object(1)\n",
      "memory usage: 192.0+ bytes\n"
     ]
    },
    {
     "data": {
      "text/html": [
       "<div>\n",
       "<style scoped>\n",
       "    .dataframe tbody tr th:only-of-type {\n",
       "        vertical-align: middle;\n",
       "    }\n",
       "\n",
       "    .dataframe tbody tr th {\n",
       "        vertical-align: top;\n",
       "    }\n",
       "\n",
       "    .dataframe thead th {\n",
       "        text-align: right;\n",
       "    }\n",
       "</style>\n",
       "<table border=\"1\" class=\"dataframe\">\n",
       "  <thead>\n",
       "    <tr style=\"text-align: right;\">\n",
       "      <th></th>\n",
       "      <th>subscription_type</th>\n",
       "      <th>minute_price</th>\n",
       "      <th>start_ride_price</th>\n",
       "      <th>subscription_fee</th>\n",
       "    </tr>\n",
       "  </thead>\n",
       "  <tbody>\n",
       "    <tr>\n",
       "      <th>0</th>\n",
       "      <td>free</td>\n",
       "      <td>8</td>\n",
       "      <td>50</td>\n",
       "      <td>0</td>\n",
       "    </tr>\n",
       "    <tr>\n",
       "      <th>1</th>\n",
       "      <td>ultra</td>\n",
       "      <td>6</td>\n",
       "      <td>0</td>\n",
       "      <td>199</td>\n",
       "    </tr>\n",
       "  </tbody>\n",
       "</table>\n",
       "</div>"
      ],
      "text/plain": [
       "  subscription_type  minute_price  start_ride_price  subscription_fee\n",
       "0              free             8                50                 0\n",
       "1             ultra             6                 0               199"
      ]
     },
     "execution_count": 5,
     "metadata": {},
     "output_type": "execute_result"
    }
   ],
   "source": [
    "#Общая информация по датафрейму\n",
    "subscriptions.info()\n",
    "\n",
    "#Несколько строк датафрейма\n",
    "subscriptions.head()"
   ]
  },
  {
   "cell_type": "markdown",
   "id": "74351e2d-08ac-48a9-8d7a-a24beb147663",
   "metadata": {},
   "source": [
    "В полученных данных содержится информация о 18068 поездках от 1565 пользователей.\n",
    "\n",
    "Данные не содержат пропусков, с названиями столбцов тоже все ок. \n",
    "\n",
    "Нужно бы поменять тип данных столбца `date` на datetime."
   ]
  },
  {
   "cell_type": "markdown",
   "id": "e95ebca7",
   "metadata": {
    "jp-MarkdownHeadingCollapsed": true,
    "tags": []
   },
   "source": [
    "<a id='section_2'></a>\n",
    "### Шаг 2. Предобработка данных"
   ]
  },
  {
   "cell_type": "markdown",
   "id": "12447b5b-fa29-4cef-9ded-5098fa188249",
   "metadata": {},
   "source": [
    "Приведем столбец `date` из датафрейма поездок к типу даты  "
   ]
  },
  {
   "cell_type": "code",
   "execution_count": 6,
   "id": "515d4ea3-d6f4-4b14-bc49-a0acda8f1363",
   "metadata": {},
   "outputs": [],
   "source": [
    "#Изменяем тип\n",
    "rides['date'] = pd.to_datetime(\n",
    "    rides['date'], format = '%Y-%m-%d'\n",
    ")"
   ]
  },
  {
   "cell_type": "markdown",
   "id": "204b7572-dd42-4fbb-bf3d-13284bb87804",
   "metadata": {},
   "source": [
    "Создадим новые столбцы с номером месяца и годом на основе столбца date"
   ]
  },
  {
   "cell_type": "code",
   "execution_count": 7,
   "id": "8983a13b-6437-4794-adfb-2b3ca5284037",
   "metadata": {},
   "outputs": [
    {
     "data": {
      "text/html": [
       "<div>\n",
       "<style scoped>\n",
       "    .dataframe tbody tr th:only-of-type {\n",
       "        vertical-align: middle;\n",
       "    }\n",
       "\n",
       "    .dataframe tbody tr th {\n",
       "        vertical-align: top;\n",
       "    }\n",
       "\n",
       "    .dataframe thead th {\n",
       "        text-align: right;\n",
       "    }\n",
       "</style>\n",
       "<table border=\"1\" class=\"dataframe\">\n",
       "  <thead>\n",
       "    <tr style=\"text-align: right;\">\n",
       "      <th></th>\n",
       "      <th>user_id</th>\n",
       "      <th>distance</th>\n",
       "      <th>duration</th>\n",
       "      <th>date</th>\n",
       "      <th>month</th>\n",
       "    </tr>\n",
       "  </thead>\n",
       "  <tbody>\n",
       "    <tr>\n",
       "      <th>0</th>\n",
       "      <td>1</td>\n",
       "      <td>4409.919140</td>\n",
       "      <td>25.599769</td>\n",
       "      <td>2021-01-01</td>\n",
       "      <td>1</td>\n",
       "    </tr>\n",
       "    <tr>\n",
       "      <th>1</th>\n",
       "      <td>1</td>\n",
       "      <td>2617.592153</td>\n",
       "      <td>15.816871</td>\n",
       "      <td>2021-01-18</td>\n",
       "      <td>1</td>\n",
       "    </tr>\n",
       "    <tr>\n",
       "      <th>2</th>\n",
       "      <td>1</td>\n",
       "      <td>754.159807</td>\n",
       "      <td>6.232113</td>\n",
       "      <td>2021-04-20</td>\n",
       "      <td>4</td>\n",
       "    </tr>\n",
       "    <tr>\n",
       "      <th>3</th>\n",
       "      <td>1</td>\n",
       "      <td>2694.783254</td>\n",
       "      <td>18.511000</td>\n",
       "      <td>2021-08-11</td>\n",
       "      <td>8</td>\n",
       "    </tr>\n",
       "    <tr>\n",
       "      <th>4</th>\n",
       "      <td>1</td>\n",
       "      <td>4028.687306</td>\n",
       "      <td>26.265803</td>\n",
       "      <td>2021-08-28</td>\n",
       "      <td>8</td>\n",
       "    </tr>\n",
       "  </tbody>\n",
       "</table>\n",
       "</div>"
      ],
      "text/plain": [
       "   user_id     distance   duration       date  month\n",
       "0        1  4409.919140  25.599769 2021-01-01      1\n",
       "1        1  2617.592153  15.816871 2021-01-18      1\n",
       "2        1   754.159807   6.232113 2021-04-20      4\n",
       "3        1  2694.783254  18.511000 2021-08-11      8\n",
       "4        1  4028.687306  26.265803 2021-08-28      8"
      ]
     },
     "metadata": {},
     "output_type": "display_data"
    },
    {
     "name": "stdout",
     "output_type": "stream",
     "text": [
      "None\n"
     ]
    }
   ],
   "source": [
    "rides['month'] = rides['date'].dt.month\n",
    "\n",
    "#Проверяем\n",
    "print (display(rides.head()))"
   ]
  },
  {
   "cell_type": "code",
   "execution_count": 8,
   "id": "4925d7c0-fa87-48ef-a05a-b1827ed7b17e",
   "metadata": {},
   "outputs": [
    {
     "data": {
      "text/html": [
       "<div>\n",
       "<style scoped>\n",
       "    .dataframe tbody tr th:only-of-type {\n",
       "        vertical-align: middle;\n",
       "    }\n",
       "\n",
       "    .dataframe tbody tr th {\n",
       "        vertical-align: top;\n",
       "    }\n",
       "\n",
       "    .dataframe thead th {\n",
       "        text-align: right;\n",
       "    }\n",
       "</style>\n",
       "<table border=\"1\" class=\"dataframe\">\n",
       "  <thead>\n",
       "    <tr style=\"text-align: right;\">\n",
       "      <th></th>\n",
       "      <th>user_id</th>\n",
       "      <th>distance</th>\n",
       "      <th>duration</th>\n",
       "      <th>date</th>\n",
       "      <th>month</th>\n",
       "      <th>year</th>\n",
       "    </tr>\n",
       "  </thead>\n",
       "  <tbody>\n",
       "    <tr>\n",
       "      <th>0</th>\n",
       "      <td>1</td>\n",
       "      <td>4409.919140</td>\n",
       "      <td>25.599769</td>\n",
       "      <td>2021-01-01</td>\n",
       "      <td>1</td>\n",
       "      <td>2021</td>\n",
       "    </tr>\n",
       "    <tr>\n",
       "      <th>1</th>\n",
       "      <td>1</td>\n",
       "      <td>2617.592153</td>\n",
       "      <td>15.816871</td>\n",
       "      <td>2021-01-18</td>\n",
       "      <td>1</td>\n",
       "      <td>2021</td>\n",
       "    </tr>\n",
       "    <tr>\n",
       "      <th>2</th>\n",
       "      <td>1</td>\n",
       "      <td>754.159807</td>\n",
       "      <td>6.232113</td>\n",
       "      <td>2021-04-20</td>\n",
       "      <td>4</td>\n",
       "      <td>2021</td>\n",
       "    </tr>\n",
       "    <tr>\n",
       "      <th>3</th>\n",
       "      <td>1</td>\n",
       "      <td>2694.783254</td>\n",
       "      <td>18.511000</td>\n",
       "      <td>2021-08-11</td>\n",
       "      <td>8</td>\n",
       "      <td>2021</td>\n",
       "    </tr>\n",
       "    <tr>\n",
       "      <th>4</th>\n",
       "      <td>1</td>\n",
       "      <td>4028.687306</td>\n",
       "      <td>26.265803</td>\n",
       "      <td>2021-08-28</td>\n",
       "      <td>8</td>\n",
       "      <td>2021</td>\n",
       "    </tr>\n",
       "  </tbody>\n",
       "</table>\n",
       "</div>"
      ],
      "text/plain": [
       "   user_id     distance   duration       date  month  year\n",
       "0        1  4409.919140  25.599769 2021-01-01      1  2021\n",
       "1        1  2617.592153  15.816871 2021-01-18      1  2021\n",
       "2        1   754.159807   6.232113 2021-04-20      4  2021\n",
       "3        1  2694.783254  18.511000 2021-08-11      8  2021\n",
       "4        1  4028.687306  26.265803 2021-08-28      8  2021"
      ]
     },
     "metadata": {},
     "output_type": "display_data"
    },
    {
     "name": "stdout",
     "output_type": "stream",
     "text": [
      "None\n"
     ]
    }
   ],
   "source": [
    "rides['year'] = rides['date'].dt.year\n",
    "\n",
    "#Проверяем\n",
    "print (display(rides.head()))"
   ]
  },
  {
   "cell_type": "markdown",
   "id": "14b4a6f6-1cd0-4ef2-af9e-46efa9efc41f",
   "metadata": {},
   "source": [
    "Посмотрим данные за сколько лет мы имеем:"
   ]
  },
  {
   "cell_type": "code",
   "execution_count": 9,
   "id": "be233bfa-d3f9-47d2-8802-8aab9e842011",
   "metadata": {},
   "outputs": [
    {
     "data": {
      "text/plain": [
       "array([2021], dtype=int64)"
      ]
     },
     "execution_count": 9,
     "metadata": {},
     "output_type": "execute_result"
    }
   ],
   "source": [
    "rides['year'].unique()"
   ]
  },
  {
   "cell_type": "markdown",
   "id": "48b826d9-7164-4d81-95e2-4018a8413a70",
   "metadata": {},
   "source": [
    "Все поездки совершены за 2021год."
   ]
  },
  {
   "cell_type": "markdown",
   "id": "b785773e-dbe8-4690-a86f-14aea8fe577d",
   "metadata": {},
   "source": [
    "Проверим наличие пропущенных значений и дубликатов в датафреймах. Обработаем их, если такие значения будут присутствовать"
   ]
  },
  {
   "cell_type": "code",
   "execution_count": 10,
   "id": "9e214754-136d-4972-8cb7-c38620646083",
   "metadata": {},
   "outputs": [
    {
     "data": {
      "text/plain": [
       "user_id              0\n",
       "name                 0\n",
       "age                  0\n",
       "city                 0\n",
       "subscription_type    0\n",
       "dtype: int64"
      ]
     },
     "execution_count": 10,
     "metadata": {},
     "output_type": "execute_result"
    }
   ],
   "source": [
    "#Найдем кол-во пропусков для каждого признака\n",
    "users.isna().sum().sort_values(ascending=False)"
   ]
  },
  {
   "cell_type": "code",
   "execution_count": 11,
   "id": "502ebe8a-0caf-439e-8bf2-75e0f4faf923",
   "metadata": {},
   "outputs": [
    {
     "data": {
      "text/plain": [
       "user_id     0\n",
       "distance    0\n",
       "duration    0\n",
       "date        0\n",
       "month       0\n",
       "year        0\n",
       "dtype: int64"
      ]
     },
     "execution_count": 11,
     "metadata": {},
     "output_type": "execute_result"
    }
   ],
   "source": [
    "#Найдем кол-во пропусков для каждого признака\n",
    "rides.isna().sum().sort_values(ascending=False)"
   ]
  },
  {
   "cell_type": "code",
   "execution_count": 12,
   "id": "181d8538-281f-4dec-b6fd-e1364b40b3d4",
   "metadata": {},
   "outputs": [
    {
     "data": {
      "text/plain": [
       "subscription_type    0\n",
       "minute_price         0\n",
       "start_ride_price     0\n",
       "subscription_fee     0\n",
       "dtype: int64"
      ]
     },
     "execution_count": 12,
     "metadata": {},
     "output_type": "execute_result"
    }
   ],
   "source": [
    "#Найдем кол-во пропусков для каждого признака\n",
    "subscriptions.isna().sum().sort_values(ascending=False)"
   ]
  },
  {
   "cell_type": "markdown",
   "id": "4e9dacad-4380-4ef7-9481-d6c1d6c6274b",
   "metadata": {},
   "source": [
    "Пропущенных значений в датафреймах нет."
   ]
  },
  {
   "cell_type": "code",
   "execution_count": 13,
   "id": "5aff4539-23dc-4548-9394-20949b230d77",
   "metadata": {},
   "outputs": [
    {
     "data": {
      "text/plain": [
       "31"
      ]
     },
     "execution_count": 13,
     "metadata": {},
     "output_type": "execute_result"
    }
   ],
   "source": [
    "#Ищем дубликаты по всему датафрейму\n",
    "users.duplicated().sum()"
   ]
  },
  {
   "cell_type": "markdown",
   "id": "915236aa-d8e7-40dd-b80f-8ed987134c32",
   "metadata": {},
   "source": [
    "В датафрейме пользователей обнаружено 31 строк дубликатов, удалим их:"
   ]
  },
  {
   "cell_type": "code",
   "execution_count": 14,
   "id": "e57d1a9f-c159-43ef-b637-41984c759778",
   "metadata": {},
   "outputs": [],
   "source": [
    "users = users.drop_duplicates().reset_index(drop=True)"
   ]
  },
  {
   "cell_type": "code",
   "execution_count": 15,
   "id": "3ce6106f-8baa-4de2-b360-549a0ec7beed",
   "metadata": {},
   "outputs": [
    {
     "data": {
      "text/plain": [
       "0"
      ]
     },
     "execution_count": 15,
     "metadata": {},
     "output_type": "execute_result"
    }
   ],
   "source": [
    "#Ищем дубликаты по всему датафрейму\n",
    "rides.duplicated().sum()"
   ]
  },
  {
   "cell_type": "code",
   "execution_count": 16,
   "id": "4910f3e5-0bd6-426b-b574-1ba76fa3e151",
   "metadata": {},
   "outputs": [
    {
     "data": {
      "text/html": [
       "<div>\n",
       "<style scoped>\n",
       "    .dataframe tbody tr th:only-of-type {\n",
       "        vertical-align: middle;\n",
       "    }\n",
       "\n",
       "    .dataframe tbody tr th {\n",
       "        vertical-align: top;\n",
       "    }\n",
       "\n",
       "    .dataframe thead th {\n",
       "        text-align: right;\n",
       "    }\n",
       "</style>\n",
       "<table border=\"1\" class=\"dataframe\">\n",
       "  <thead>\n",
       "    <tr style=\"text-align: right;\">\n",
       "      <th></th>\n",
       "      <th>user_id</th>\n",
       "      <th>distance</th>\n",
       "      <th>duration</th>\n",
       "      <th>date</th>\n",
       "      <th>month</th>\n",
       "      <th>year</th>\n",
       "    </tr>\n",
       "  </thead>\n",
       "  <tbody>\n",
       "  </tbody>\n",
       "</table>\n",
       "</div>"
      ],
      "text/plain": [
       "Empty DataFrame\n",
       "Columns: [user_id, distance, duration, date, month, year]\n",
       "Index: []"
      ]
     },
     "execution_count": 16,
     "metadata": {},
     "output_type": "execute_result"
    }
   ],
   "source": [
    "#Ищем дубликаты по параметрам\n",
    "rides[rides.duplicated(['user_id', 'distance','date'])]"
   ]
  },
  {
   "cell_type": "code",
   "execution_count": 17,
   "id": "71d589db-c56d-4d87-87d9-c2fcd5ae4eba",
   "metadata": {},
   "outputs": [
    {
     "data": {
      "text/html": [
       "<div>\n",
       "<style scoped>\n",
       "    .dataframe tbody tr th:only-of-type {\n",
       "        vertical-align: middle;\n",
       "    }\n",
       "\n",
       "    .dataframe tbody tr th {\n",
       "        vertical-align: top;\n",
       "    }\n",
       "\n",
       "    .dataframe thead th {\n",
       "        text-align: right;\n",
       "    }\n",
       "</style>\n",
       "<table border=\"1\" class=\"dataframe\">\n",
       "  <thead>\n",
       "    <tr style=\"text-align: right;\">\n",
       "      <th></th>\n",
       "      <th>user_id</th>\n",
       "      <th>distance</th>\n",
       "      <th>duration</th>\n",
       "      <th>date</th>\n",
       "      <th>month</th>\n",
       "      <th>year</th>\n",
       "    </tr>\n",
       "  </thead>\n",
       "  <tbody>\n",
       "  </tbody>\n",
       "</table>\n",
       "</div>"
      ],
      "text/plain": [
       "Empty DataFrame\n",
       "Columns: [user_id, distance, duration, date, month, year]\n",
       "Index: []"
      ]
     },
     "execution_count": 17,
     "metadata": {},
     "output_type": "execute_result"
    }
   ],
   "source": [
    "#Ищем дубликаты по параметрам\n",
    "rides[rides.duplicated(['user_id', 'duration','date'])]"
   ]
  },
  {
   "cell_type": "markdown",
   "id": "bbe630ca-6c29-49b4-b2f2-65d51aa75345",
   "metadata": {},
   "source": [
    "В датафрейме `rides` дубликатов строк нет. Дубликатов поездок по подмножествам тоже нет."
   ]
  },
  {
   "cell_type": "code",
   "execution_count": 18,
   "id": "2274ddac-f3d5-496c-8d3f-0308b3b2af69",
   "metadata": {},
   "outputs": [
    {
     "data": {
      "text/plain": [
       "0"
      ]
     },
     "execution_count": 18,
     "metadata": {},
     "output_type": "execute_result"
    }
   ],
   "source": [
    "#Ищем дубликаты по всему датафрейму\n",
    "subscriptions.duplicated().sum()"
   ]
  },
  {
   "cell_type": "markdown",
   "id": "a7d11d25-9688-4558-ad8a-796f3498ffde",
   "metadata": {},
   "source": [
    "В датафрейме подписок дубликатов нет."
   ]
  },
  {
   "cell_type": "markdown",
   "id": "212593c7",
   "metadata": {
    "jp-MarkdownHeadingCollapsed": true,
    "tags": []
   },
   "source": [
    "<a id='section_3'></a>\n",
    "### Шаг 3. Исследовательский анализ данных\n",
    "\n",
    "Опишем и визуализируем общую информацию о пользователях и поездках"
   ]
  },
  {
   "cell_type": "markdown",
   "id": "4370cde8-303b-46ed-93f9-cad5bd435251",
   "metadata": {
    "jp-MarkdownHeadingCollapsed": true
   },
   "source": [
    "#### 3.1 Посмотрим частоту встречаемости городов"
   ]
  },
  {
   "cell_type": "code",
   "execution_count": 19,
   "id": "869fbe93-a1a0-4078-b96a-766851f4760c",
   "metadata": {},
   "outputs": [
    {
     "data": {
      "text/html": [
       "<div>\n",
       "<style scoped>\n",
       "    .dataframe tbody tr th:only-of-type {\n",
       "        vertical-align: middle;\n",
       "    }\n",
       "\n",
       "    .dataframe tbody tr th {\n",
       "        vertical-align: top;\n",
       "    }\n",
       "\n",
       "    .dataframe thead th {\n",
       "        text-align: right;\n",
       "    }\n",
       "</style>\n",
       "<table border=\"1\" class=\"dataframe\">\n",
       "  <thead>\n",
       "    <tr style=\"text-align: right;\">\n",
       "      <th></th>\n",
       "      <th>city</th>\n",
       "    </tr>\n",
       "  </thead>\n",
       "  <tbody>\n",
       "    <tr>\n",
       "      <th>Пятигорск</th>\n",
       "      <td>219</td>\n",
       "    </tr>\n",
       "    <tr>\n",
       "      <th>Екатеринбург</th>\n",
       "      <td>204</td>\n",
       "    </tr>\n",
       "    <tr>\n",
       "      <th>Ростов-на-Дону</th>\n",
       "      <td>198</td>\n",
       "    </tr>\n",
       "    <tr>\n",
       "      <th>Краснодар</th>\n",
       "      <td>193</td>\n",
       "    </tr>\n",
       "    <tr>\n",
       "      <th>Сочи</th>\n",
       "      <td>189</td>\n",
       "    </tr>\n",
       "    <tr>\n",
       "      <th>Омск</th>\n",
       "      <td>183</td>\n",
       "    </tr>\n",
       "    <tr>\n",
       "      <th>Тюмень</th>\n",
       "      <td>180</td>\n",
       "    </tr>\n",
       "    <tr>\n",
       "      <th>Москва</th>\n",
       "      <td>168</td>\n",
       "    </tr>\n",
       "  </tbody>\n",
       "</table>\n",
       "</div>"
      ],
      "text/plain": [
       "                city\n",
       "Пятигорск        219\n",
       "Екатеринбург     204\n",
       "Ростов-на-Дону   198\n",
       "Краснодар        193\n",
       "Сочи             189\n",
       "Омск             183\n",
       "Тюмень           180\n",
       "Москва           168"
      ]
     },
     "execution_count": 19,
     "metadata": {},
     "output_type": "execute_result"
    }
   ],
   "source": [
    "users['city'].value_counts().to_frame()"
   ]
  },
  {
   "cell_type": "code",
   "execution_count": 20,
   "id": "539bf683-4591-4963-8896-28d324841563",
   "metadata": {},
   "outputs": [
    {
     "data": {
      "image/png": "[encoded data removed]",
      "text/plain": [
       "<Figure size 700x300 with 1 Axes>"
      ]
     },
     "metadata": {},
     "output_type": "display_data"
    }
   ],
   "source": [
    "users['city'].value_counts().sort_values().plot.barh(\n",
    "    xlim=(150,225), \n",
    "    figsize = (7,3),\n",
    "    grid = True,\n",
    "    title = 'График №1. Количество пользователей в городах',\n",
    "    xlabel = 'количество пользователей',\n",
    "    ylabel = 'город'\n",
    ");"
   ]
  },
  {
   "cell_type": "markdown",
   "id": "c843e2c6-083e-4a4c-97ca-a613ad83d372",
   "metadata": {},
   "source": [
    "Больше всего пользователей в Пятигорске - 219 и меньше всего в Москве - 168."
   ]
  },
  {
   "cell_type": "markdown",
   "id": "147cb511-0109-4659-a023-b546ffd0cab7",
   "metadata": {
    "jp-MarkdownHeadingCollapsed": true
   },
   "source": [
    "#### 3.2 Посмотрим соотношение пользователей с подпиской и без подписки"
   ]
  },
  {
   "cell_type": "code",
   "execution_count": 21,
   "id": "59880256-511b-4e7d-a06f-9039b364902a",
   "metadata": {},
   "outputs": [
    {
     "data": {
      "text/html": [
       "<div>\n",
       "<style scoped>\n",
       "    .dataframe tbody tr th:only-of-type {\n",
       "        vertical-align: middle;\n",
       "    }\n",
       "\n",
       "    .dataframe tbody tr th {\n",
       "        vertical-align: top;\n",
       "    }\n",
       "\n",
       "    .dataframe thead th {\n",
       "        text-align: right;\n",
       "    }\n",
       "</style>\n",
       "<table border=\"1\" class=\"dataframe\">\n",
       "  <thead>\n",
       "    <tr style=\"text-align: right;\">\n",
       "      <th></th>\n",
       "      <th>subscription_type</th>\n",
       "    </tr>\n",
       "  </thead>\n",
       "  <tbody>\n",
       "    <tr>\n",
       "      <th>free</th>\n",
       "      <td>54.432855</td>\n",
       "    </tr>\n",
       "    <tr>\n",
       "      <th>ultra</th>\n",
       "      <td>45.567145</td>\n",
       "    </tr>\n",
       "  </tbody>\n",
       "</table>\n",
       "</div>"
      ],
      "text/plain": [
       "       subscription_type\n",
       "free           54.432855\n",
       "ultra          45.567145"
      ]
     },
     "execution_count": 21,
     "metadata": {},
     "output_type": "execute_result"
    }
   ],
   "source": [
    "(users['subscription_type'].value_counts().to_frame()*100)/len(users['subscription_type'])"
   ]
  },
  {
   "cell_type": "code",
   "execution_count": 22,
   "id": "931d599e-debd-4de7-91bb-802ecc9b3be0",
   "metadata": {},
   "outputs": [
    {
     "data": {
      "image/png": "[encoded data removed]",
      "text/plain": [
       "<Figure size 300x400 with 1 Axes>"
      ]
     },
     "metadata": {},
     "output_type": "display_data"
    }
   ],
   "source": [
    "users['subscription_type'].value_counts().plot(\n",
    "    kind = 'pie',\n",
    "    figsize = (3,4),\n",
    "    autopct='%1.1f%%',\n",
    "    title = 'График №2. Соотношение пользователей с подпиской (ultra) и без (free)',\n",
    "    ylabel=''\n",
    ");"
   ]
  },
  {
   "cell_type": "markdown",
   "id": "bc1e8d08-427f-4649-8859-45f18e717e0d",
   "metadata": {},
   "source": [
    "Чаще встречаются пользователи без подписки, их 54.4% чел. С подпиской - 45.6%."
   ]
  },
  {
   "cell_type": "markdown",
   "id": "3a222b42-fa82-4957-819d-06242763600d",
   "metadata": {
    "jp-MarkdownHeadingCollapsed": true
   },
   "source": [
    "#### 3.3 Посмотрим на возраст пользователей"
   ]
  },
  {
   "cell_type": "code",
   "execution_count": 23,
   "id": "36efc2a5-971e-43db-b869-4170c0b9fe05",
   "metadata": {},
   "outputs": [
    {
     "data": {
      "text/plain": [
       "array([12, 13, 14, 15, 16, 17, 18, 19, 20, 21, 22, 23, 24, 25, 26, 27, 28,\n",
       "       29, 30, 31, 32, 33, 34, 35, 36, 37, 38, 39, 43], dtype=int64)"
      ]
     },
     "execution_count": 23,
     "metadata": {},
     "output_type": "execute_result"
    }
   ],
   "source": [
    "users['age'].sort_values().unique()"
   ]
  },
  {
   "cell_type": "code",
   "execution_count": 24,
   "id": "a9dc25e5-d18b-4aef-b815-751a3425a568",
   "metadata": {},
   "outputs": [],
   "source": [
    "def hist_column(df, column_name, **kwargs):\n",
    "    \"\"\"\n",
    "    Определим функцию, которая будет для столбца строить гистограмму\n",
    "    В качестве первого аргумента принимает датафрейм, \n",
    "    в качестве второго название столбца, \n",
    "    через kwargs можно передать др.доп параметры для гистограммы.\n",
    "    \"\"\"\n",
    "    df[column_name].hist(**kwargs)\n",
    "    plt.ylabel('количество');\n",
    "    plt.show()"
   ]
  },
  {
   "cell_type": "code",
   "execution_count": 25,
   "id": "16345cd0-406c-4f63-bf26-ba14e9d9433e",
   "metadata": {
    "editable": true,
    "slideshow": {
     "slide_type": ""
    },
    "tags": []
   },
   "outputs": [
    {
     "data": {
      "image/png": "[encoded data removed]",
      "text/plain": [
       "<Figure size 1200x500 with 1 Axes>"
      ]
     },
     "metadata": {},
     "output_type": "display_data"
    }
   ],
   "source": [
    "plt.title('График №3. Возраст пользователей')\n",
    "plt.xlabel('возраст');\n",
    "hist_column(\n",
    "    users,\n",
    "    'age',\n",
    "    figsize = (12,5), \n",
    "    bins = 120)"
   ]
  },
  {
   "cell_type": "code",
   "execution_count": 26,
   "id": "c6fe2702-13f7-4958-9d57-d40efbbf70f1",
   "metadata": {},
   "outputs": [
    {
     "data": {
      "image/png": "[encoded data removed]",
      "text/plain": [
       "<Figure size 800x500 with 1 Axes>"
      ]
     },
     "metadata": {},
     "output_type": "display_data"
    }
   ],
   "source": [
    "plt.title('График №4. Возраст пользователей')\n",
    "plt.xlabel('возраст');\n",
    "hist_column(\n",
    "    users,\n",
    "    'age',\n",
    "    figsize = (8,5), \n",
    "    bins =40 , \n",
    "    range = (20,30)\n",
    ")"
   ]
  },
  {
   "cell_type": "markdown",
   "id": "e77bc2a1-975f-45ba-9598-2d9e782245ed",
   "metadata": {},
   "source": [
    "Также интересно посмотреть на возраст людей с подпиской:"
   ]
  },
  {
   "cell_type": "code",
   "execution_count": 27,
   "id": "0a886588-89a0-49a0-b30e-50f909358f15",
   "metadata": {},
   "outputs": [
    {
     "data": {
      "image/png": "[encoded data removed]",
      "text/plain": [
       "<Figure size 1200x500 with 1 Axes>"
      ]
     },
     "metadata": {},
     "output_type": "display_data"
    }
   ],
   "source": [
    "plt.title('График №5. Возраст пользователей с подпиской')\n",
    "plt.xlabel('возраст');\n",
    "hist_column(\n",
    "    users.query('subscription_type == \"ultra\"'),\n",
    "    'age',\n",
    "    figsize = (12,5), \n",
    "    bins = 100\n",
    ")"
   ]
  },
  {
   "cell_type": "code",
   "execution_count": 28,
   "id": "91fb2e78-f6d1-46f8-b94b-5c16622217c7",
   "metadata": {},
   "outputs": [
    {
     "data": {
      "text/plain": [
       "24    64\n",
       "23    62\n",
       "25    60\n",
       "27    54\n",
       "26    53\n",
       "22    47\n",
       "28    42\n",
       "29    35\n",
       "20    34\n",
       "21    34\n",
       "31    30\n",
       "19    29\n",
       "30    29\n",
       "32    25\n",
       "33    22\n",
       "18    19\n",
       "17    13\n",
       "15     9\n",
       "35     9\n",
       "16     8\n",
       "34     6\n",
       "14     4\n",
       "13     4\n",
       "12     3\n",
       "38     2\n",
       "36     1\n",
       "37     1\n",
       "Name: age, dtype: int64"
      ]
     },
     "execution_count": 28,
     "metadata": {},
     "output_type": "execute_result"
    }
   ],
   "source": [
    "users.query(\n",
    "    'subscription_type == \"ultra\"'\n",
    ")['age'].value_counts()"
   ]
  },
  {
   "cell_type": "markdown",
   "id": "297283dd-9a52-46b0-9d26-fe17c9d823d0",
   "metadata": {},
   "source": [
    "График размаха и отображение статистических показателей по возрасту представлены ниже:"
   ]
  },
  {
   "cell_type": "code",
   "execution_count": 29,
   "id": "16a376e3-0585-419f-a1f0-6443de4ab5c3",
   "metadata": {
    "editable": true,
    "slideshow": {
     "slide_type": ""
    },
    "tags": []
   },
   "outputs": [],
   "source": [
    "def describe_column(df, column_name, title='', **kwargs):\n",
    "    \"\"\"\n",
    "    Определим функцию для вывода диаграммы размаха столбца и характеристики\n",
    "    В качестве первого аргумента принимает датафрейм, \n",
    "    в качестве второго название столбца, \n",
    "    через kwargs можно передать доп.параметры для отображения диаграммы.\n",
    "    \"\"\"\n",
    "    df.boxplot(column=[column_name], figsize=(4, 4), grid=True, **kwargs)\n",
    "    plt.title(title)  # Добавляем название графика\n",
    "    plt.show()\n",
    "    \n",
    "    column_describe = df[column_name].describe()\n",
    "    IQR = column_describe['75%'] - column_describe['25%']\n",
    "    print ('Стат.показатели:','\\n', column_describe,'\\n\\n',\n",
    "           'Межквартильный размах = ', IQR,'\\n\\n',\n",
    "           'Пределы нормальных значений (или усы) = ({0},{1})'.\n",
    "           format((column_describe['25%']-1.5*IQR),(column_describe['75%']+1.5*IQR)),'\\n\\n')"
   ]
  },
  {
   "cell_type": "code",
   "execution_count": 30,
   "id": "a45b423b-bd01-4482-80ea-25c3228e656e",
   "metadata": {},
   "outputs": [
    {
     "data": {
      "image/png": "[encoded data removed]",
      "text/plain": [
       "<Figure size 400x400 with 1 Axes>"
      ]
     },
     "metadata": {},
     "output_type": "display_data"
    },
    {
     "name": "stdout",
     "output_type": "stream",
     "text": [
      "Стат.показатели: \n",
      " count    1534.000000\n",
      "mean       24.903520\n",
      "std         4.572367\n",
      "min        12.000000\n",
      "25%        22.000000\n",
      "50%        25.000000\n",
      "75%        28.000000\n",
      "max        43.000000\n",
      "Name: age, dtype: float64 \n",
      "\n",
      " Межквартильный размах =  6.0 \n",
      "\n",
      " Пределы нормальных значений (или усы) = (13.0,37.0) \n",
      "\n",
      "\n"
     ]
    }
   ],
   "source": [
    "describe_column(\n",
    "    users, \n",
    "    'age', \n",
    "    title='График №6. Возраст'\n",
    ")"
   ]
  },
  {
   "cell_type": "markdown",
   "id": "447ff553-56f4-4603-b38c-df468a80dc53",
   "metadata": {
    "editable": true,
    "slideshow": {
     "slide_type": ""
    },
    "tags": []
   },
   "source": [
    "Сервисом пользуются люди разных возрастов от 12 до 43 лет. Больше всего пользователей в возрасте от 22 до 28 лет, медианное значение - 25 лет. \n",
    "\n",
    "Среди пользователей с подпиской также чаще встречаются люди 22-28 лет.\n"
   ]
  },
  {
   "cell_type": "markdown",
   "id": "c69b4862-a5d3-425b-aa37-0f78dba701bc",
   "metadata": {
    "jp-MarkdownHeadingCollapsed": true
   },
   "source": [
    "#### 3.4 Посмотрим расстояние, которое пользователь преодолевает за одну поездку"
   ]
  },
  {
   "cell_type": "code",
   "execution_count": 31,
   "id": "aee5b454-c156-4a93-885d-f9c8d55b5a4a",
   "metadata": {},
   "outputs": [
    {
     "name": "stdout",
     "output_type": "stream",
     "text": [
      "Ср. расстояние, кот. пользователи преодолевают за 1 поездку = 3077.3 м\n"
     ]
    }
   ],
   "source": [
    "#Запишем ср. расстояние одной поездки для каждого пользователя\n",
    "average_distanse = rides.pivot_table(\n",
    "    index = 'user_id', \n",
    "    values = 'distance'\n",
    ")\n",
    "print ('Ср. расстояние, кот. пользователи преодолевают за 1 поездку = {0} м'.format(\n",
    "        round(average_distanse.mean()[0],1))\n",
    "      )"
   ]
  },
  {
   "cell_type": "code",
   "execution_count": 32,
   "id": "99a80df7-1c58-4131-ab57-0482030134b9",
   "metadata": {},
   "outputs": [
    {
     "data": {
      "image/png": "[encoded data removed]",
      "text/plain": [
       "<Figure size 2000x400 with 1 Axes>"
      ]
     },
     "metadata": {},
     "output_type": "display_data"
    }
   ],
   "source": [
    "average_distanse.plot(\n",
    "    grid=True, \n",
    "    figsize = (20,4),\n",
    "    ylabel = 'расстояние',\n",
    "    xlabel = 'пользователи',\n",
    "    title = 'График №7. Ср. расстояние преодолеваемое пользователем за одну поездку'\n",
    ")\n",
    "\n",
    "plt.plot(\n",
    "    [0,1500],\n",
    "    [round(average_distanse.mean()[0],1),round(average_distanse.mean()[0],1)],\n",
    "    linewidth=4,\n",
    "    label = 'Ср. расстояние'\n",
    "    )\n",
    "\n",
    "plt.legend();"
   ]
  },
  {
   "cell_type": "markdown",
   "id": "65f895b2-2abb-44ae-9a2f-dda36126dd1f",
   "metadata": {},
   "source": [
    "На графике 7 видим среднее расстояние, которое проходит каждый пользователь за одну поездку. \n",
    "\n",
    "График размаха и отображение статистических показателей по среднему расстоянию пользователей представлены ниже:"
   ]
  },
  {
   "cell_type": "code",
   "execution_count": 33,
   "id": "bf964dae-b466-4278-ae4e-96c15cd1b899",
   "metadata": {},
   "outputs": [
    {
     "data": {
      "image/png": "[encoded data removed]",
      "text/plain": [
       "<Figure size 400x400 with 1 Axes>"
      ]
     },
     "metadata": {},
     "output_type": "display_data"
    },
    {
     "name": "stdout",
     "output_type": "stream",
     "text": [
      "Стат.показатели: \n",
      " count    1534.000000\n",
      "mean     3077.296650\n",
      "std       327.624403\n",
      "min      1630.788427\n",
      "25%      2882.505704\n",
      "50%      3090.864050\n",
      "75%      3293.325678\n",
      "max      4287.519387\n",
      "Name: distance, dtype: float64 \n",
      "\n",
      " Межквартильный размах =  410.81997445146453 \n",
      "\n",
      " Пределы нормальных значений (или усы) = (2266.275742358461,3909.555640164319) \n",
      "\n",
      "\n"
     ]
    }
   ],
   "source": [
    "describe_column(\n",
    "    average_distanse, \n",
    "    'distance', \n",
    "    title = 'График №8. Ср. расстояние преодолеваемое \\\n",
    "пользователем за одну поездку')"
   ]
  },
  {
   "cell_type": "markdown",
   "id": "d1f50c51-7e04-40e2-9b6d-d08f924c3040",
   "metadata": {},
   "source": [
    "В среднем пользователи за одну поездку преодолевают расстояние 3077.3 м. Стандартное отклонение от среднего 328м."
   ]
  },
  {
   "cell_type": "code",
   "execution_count": 34,
   "id": "90f2e8fe-5e33-455e-911b-4edd37a2ac89",
   "metadata": {},
   "outputs": [
    {
     "data": {
      "image/png": "[encoded data removed]",
      "text/plain": [
       "<Figure size 2000x500 with 1 Axes>"
      ]
     },
     "metadata": {},
     "output_type": "display_data"
    }
   ],
   "source": [
    "plt.title('График №9. Расстояния поездок пользователей')\n",
    "plt.xlabel ('расстояние')\n",
    "hist_column(\n",
    "    rides,\n",
    "    'distance',\n",
    "    figsize = (20,5), \n",
    "    bins = 500\n",
    ")"
   ]
  },
  {
   "cell_type": "code",
   "execution_count": 35,
   "id": "583c65d7-e923-4495-8fd6-3f44e94a42cc",
   "metadata": {},
   "outputs": [
    {
     "data": {
      "image/png": "[encoded data removed]",
      "text/plain": [
       "<Figure size 2000x500 with 1 Axes>"
      ]
     },
     "metadata": {},
     "output_type": "display_data"
    }
   ],
   "source": [
    "plt.title('График №10. Расстояния поездок пользователей')\n",
    "plt.xlabel ('расстояние')\n",
    "hist_column(\n",
    "    rides,\n",
    "    'distance',\n",
    "    figsize = (20,5), \n",
    "    bins = 100,\n",
    "    range = (0,1500)\n",
    ")"
   ]
  },
  {
   "cell_type": "markdown",
   "id": "649b3a4d-0012-4b2a-bcef-c6c5c317c9e7",
   "metadata": {},
   "source": [
    "График 9 и 10 показывают частоту встречаемости расстояний поездок пользователей. \n",
    "\n",
    "Видим некоторую бимодальность распределения:\n",
    "\n",
    "- чаще других встречаются длинные поездки около 2900-3200м\n",
    "\n",
    "- чаще других встречаются короткие поездки около 600-800 м. \n",
    "\n",
    "Возможно встречаемые часто короткие поездки совершают пользователи, которым не понравился сервис? Проверим такое предположение, посмотрим есть ли у пользователей, проехавших такое расстояние еще поездки:"
   ]
  },
  {
   "cell_type": "code",
   "execution_count": 36,
   "id": "8b6f78bf-2b3c-4ee6-9632-9e959c450b1a",
   "metadata": {},
   "outputs": [],
   "source": [
    "#Находим с помощью сводной кол-во поездок каждого пользователя\n",
    "count_rides_data = rides.pivot_table (\n",
    "    index = 'user_id', \n",
    "    values = 'distance',\n",
    "    aggfunc = 'count'\n",
    ")\n",
    "count_rides_data.columns = ['count_rides']"
   ]
  },
  {
   "cell_type": "code",
   "execution_count": 37,
   "id": "967c818f-5875-45b5-8b12-855e0062bfd0",
   "metadata": {},
   "outputs": [],
   "source": [
    "#Объединим таблицы\n",
    "rides = rides.merge(count_rides_data,on='user_id',how='outer')"
   ]
  },
  {
   "cell_type": "code",
   "execution_count": 38,
   "id": "fbf4c8f2-1751-4aaa-a0b1-74409f469a08",
   "metadata": {},
   "outputs": [
    {
     "name": "stdout",
     "output_type": "stream",
     "text": [
      "<class 'pandas.core.frame.DataFrame'>\n",
      "Int64Index: 18068 entries, 0 to 18067\n",
      "Data columns (total 7 columns):\n",
      " #   Column       Non-Null Count  Dtype         \n",
      "---  ------       --------------  -----         \n",
      " 0   user_id      18068 non-null  int64         \n",
      " 1   distance     18068 non-null  float64       \n",
      " 2   duration     18068 non-null  float64       \n",
      " 3   date         18068 non-null  datetime64[ns]\n",
      " 4   month        18068 non-null  int64         \n",
      " 5   year         18068 non-null  int64         \n",
      " 6   count_rides  18068 non-null  int64         \n",
      "dtypes: datetime64[ns](1), float64(2), int64(4)\n",
      "memory usage: 1.1 MB\n"
     ]
    }
   ],
   "source": [
    "#Проверяем\n",
    "rides.info()"
   ]
  },
  {
   "cell_type": "markdown",
   "id": "906751e3-b029-4a3c-acca-2c2491e045f3",
   "metadata": {},
   "source": [
    "Смотрим есть ли поездки у пользователей в нужном диапазоне:"
   ]
  },
  {
   "cell_type": "code",
   "execution_count": 39,
   "id": "1e08fbd7-1cb5-4915-81c2-c490c9b7a67e",
   "metadata": {},
   "outputs": [
    {
     "data": {
      "text/html": [
       "<div>\n",
       "<style scoped>\n",
       "    .dataframe tbody tr th:only-of-type {\n",
       "        vertical-align: middle;\n",
       "    }\n",
       "\n",
       "    .dataframe tbody tr th {\n",
       "        vertical-align: top;\n",
       "    }\n",
       "\n",
       "    .dataframe thead th {\n",
       "        text-align: right;\n",
       "    }\n",
       "</style>\n",
       "<table border=\"1\" class=\"dataframe\">\n",
       "  <thead>\n",
       "    <tr style=\"text-align: right;\">\n",
       "      <th></th>\n",
       "      <th>user_id</th>\n",
       "      <th>distance</th>\n",
       "      <th>duration</th>\n",
       "      <th>date</th>\n",
       "      <th>month</th>\n",
       "      <th>year</th>\n",
       "      <th>count_rides</th>\n",
       "    </tr>\n",
       "  </thead>\n",
       "  <tbody>\n",
       "    <tr>\n",
       "      <th>1397</th>\n",
       "      <td>151</td>\n",
       "      <td>620.546434</td>\n",
       "      <td>11.489311</td>\n",
       "      <td>2021-12-01</td>\n",
       "      <td>12</td>\n",
       "      <td>2021</td>\n",
       "      <td>5</td>\n",
       "    </tr>\n",
       "    <tr>\n",
       "      <th>1843</th>\n",
       "      <td>199</td>\n",
       "      <td>606.203843</td>\n",
       "      <td>4.347120</td>\n",
       "      <td>2021-03-27</td>\n",
       "      <td>3</td>\n",
       "      <td>2021</td>\n",
       "      <td>5</td>\n",
       "    </tr>\n",
       "    <tr>\n",
       "      <th>5264</th>\n",
       "      <td>565</td>\n",
       "      <td>613.123075</td>\n",
       "      <td>5.452492</td>\n",
       "      <td>2021-09-10</td>\n",
       "      <td>9</td>\n",
       "      <td>2021</td>\n",
       "      <td>5</td>\n",
       "    </tr>\n",
       "    <tr>\n",
       "      <th>7575</th>\n",
       "      <td>777</td>\n",
       "      <td>554.591140</td>\n",
       "      <td>12.331019</td>\n",
       "      <td>2021-10-14</td>\n",
       "      <td>10</td>\n",
       "      <td>2021</td>\n",
       "      <td>5</td>\n",
       "    </tr>\n",
       "    <tr>\n",
       "      <th>3176</th>\n",
       "      <td>344</td>\n",
       "      <td>642.472335</td>\n",
       "      <td>13.212362</td>\n",
       "      <td>2021-02-05</td>\n",
       "      <td>2</td>\n",
       "      <td>2021</td>\n",
       "      <td>6</td>\n",
       "    </tr>\n",
       "    <tr>\n",
       "      <th>...</th>\n",
       "      <td>...</td>\n",
       "      <td>...</td>\n",
       "      <td>...</td>\n",
       "      <td>...</td>\n",
       "      <td>...</td>\n",
       "      <td>...</td>\n",
       "      <td>...</td>\n",
       "    </tr>\n",
       "    <tr>\n",
       "      <th>10819</th>\n",
       "      <td>1016</td>\n",
       "      <td>560.880788</td>\n",
       "      <td>5.602517</td>\n",
       "      <td>2021-02-05</td>\n",
       "      <td>2</td>\n",
       "      <td>2021</td>\n",
       "      <td>20</td>\n",
       "    </tr>\n",
       "    <tr>\n",
       "      <th>9305</th>\n",
       "      <td>909</td>\n",
       "      <td>607.256451</td>\n",
       "      <td>4.735018</td>\n",
       "      <td>2021-04-19</td>\n",
       "      <td>4</td>\n",
       "      <td>2021</td>\n",
       "      <td>21</td>\n",
       "    </tr>\n",
       "    <tr>\n",
       "      <th>17716</th>\n",
       "      <td>1510</td>\n",
       "      <td>649.157738</td>\n",
       "      <td>13.163859</td>\n",
       "      <td>2021-11-10</td>\n",
       "      <td>11</td>\n",
       "      <td>2021</td>\n",
       "      <td>21</td>\n",
       "    </tr>\n",
       "    <tr>\n",
       "      <th>8266</th>\n",
       "      <td>831</td>\n",
       "      <td>588.953276</td>\n",
       "      <td>5.718246</td>\n",
       "      <td>2021-02-15</td>\n",
       "      <td>2</td>\n",
       "      <td>2021</td>\n",
       "      <td>22</td>\n",
       "    </tr>\n",
       "    <tr>\n",
       "      <th>13601</th>\n",
       "      <td>1217</td>\n",
       "      <td>637.033253</td>\n",
       "      <td>8.388875</td>\n",
       "      <td>2021-07-12</td>\n",
       "      <td>7</td>\n",
       "      <td>2021</td>\n",
       "      <td>22</td>\n",
       "    </tr>\n",
       "  </tbody>\n",
       "</table>\n",
       "<p>176 rows × 7 columns</p>\n",
       "</div>"
      ],
      "text/plain": [
       "       user_id    distance   duration       date  month  year  count_rides\n",
       "1397       151  620.546434  11.489311 2021-12-01     12  2021            5\n",
       "1843       199  606.203843   4.347120 2021-03-27      3  2021            5\n",
       "5264       565  613.123075   5.452492 2021-09-10      9  2021            5\n",
       "7575       777  554.591140  12.331019 2021-10-14     10  2021            5\n",
       "3176       344  642.472335  13.212362 2021-02-05      2  2021            6\n",
       "...        ...         ...        ...        ...    ...   ...          ...\n",
       "10819     1016  560.880788   5.602517 2021-02-05      2  2021           20\n",
       "9305       909  607.256451   4.735018 2021-04-19      4  2021           21\n",
       "17716     1510  649.157738  13.163859 2021-11-10     11  2021           21\n",
       "8266       831  588.953276   5.718246 2021-02-15      2  2021           22\n",
       "13601     1217  637.033253   8.388875 2021-07-12      7  2021           22\n",
       "\n",
       "[176 rows x 7 columns]"
      ]
     },
     "metadata": {},
     "output_type": "display_data"
    },
    {
     "name": "stdout",
     "output_type": "stream",
     "text": [
      "None\n"
     ]
    }
   ],
   "source": [
    "print (display(rides.query('(distance < 650) & (distance > 550)')\n",
    "               .sort_values(by='count_rides')))"
   ]
  },
  {
   "cell_type": "markdown",
   "id": "cb5c6b38-5500-4683-9789-00c071e1e231",
   "metadata": {},
   "source": [
    "У таких пользователей больше пяти поездок, так что наше предположение неверно. Если бы пользователям не понравился сервис, у них не было бы нескольких поездок. Природа всплеска пока остается неизвестной, и требует дополнительного анализа."
   ]
  },
  {
   "cell_type": "markdown",
   "id": "4a059d93-c36b-4613-b7d9-967cd048c566",
   "metadata": {
    "jp-MarkdownHeadingCollapsed": true
   },
   "source": [
    "#### 3.5 Посмотрим продолжительность поездок"
   ]
  },
  {
   "cell_type": "code",
   "execution_count": 40,
   "id": "5a24c068-f876-4ba6-a435-0a0388130673",
   "metadata": {},
   "outputs": [
    {
     "name": "stdout",
     "output_type": "stream",
     "text": [
      "Ср. длительность поездок пользователей = 17.9 мин\n"
     ]
    }
   ],
   "source": [
    "#Запишем ср. длительность одной поездки для каждого пользователя\n",
    "average_duration = rides.pivot_table(\n",
    "    index = 'user_id', \n",
    "    values = 'duration'\n",
    ")\n",
    "print ('Ср. длительность поездок пользователей = {0} мин'.format(\n",
    "        round(average_duration.mean()[0],1))\n",
    "      )"
   ]
  },
  {
   "cell_type": "markdown",
   "id": "d59513da-5fa6-4ed5-81eb-3dfa23bb1911",
   "metadata": {},
   "source": [
    "График размаха и отображение статистических показателей по средней длительности поездок пользователей представлены ниже:"
   ]
  },
  {
   "cell_type": "code",
   "execution_count": 41,
   "id": "b090a5dc-f743-44a6-bbc0-643e7d1c8b66",
   "metadata": {},
   "outputs": [
    {
     "data": {
      "image/png": "[encoded data removed]",
      "text/plain": [
       "<Figure size 400x400 with 1 Axes>"
      ]
     },
     "metadata": {},
     "output_type": "display_data"
    },
    {
     "name": "stdout",
     "output_type": "stream",
     "text": [
      "Стат.показатели: \n",
      " count    1534.000000\n",
      "mean       17.926440\n",
      "std         1.971150\n",
      "min        11.163431\n",
      "25%        16.613880\n",
      "50%        17.903937\n",
      "75%        19.198581\n",
      "max        26.136000\n",
      "Name: duration, dtype: float64 \n",
      "\n",
      " Межквартильный размах =  2.584701346222559 \n",
      "\n",
      " Пределы нормальных значений (или усы) = (12.736828106052364,23.0756334909426) \n",
      "\n",
      "\n"
     ]
    }
   ],
   "source": [
    "describe_column(\n",
    "    average_duration, \n",
    "    'duration', \n",
    "    title = 'График №11. Ср. длительность поездок пользователей'\n",
    ")"
   ]
  },
  {
   "cell_type": "markdown",
   "id": "ff86e25a-990f-4939-9ae9-b29bf1c9cb5b",
   "metadata": {},
   "source": [
    "В среднем длительность одной поездки пользователя составляет 17.9 мин. Стандартное отклонение от среднего 2 мин."
   ]
  },
  {
   "cell_type": "code",
   "execution_count": 42,
   "id": "177aaef6-ca5a-45ea-b214-506853cedabd",
   "metadata": {},
   "outputs": [
    {
     "data": {
      "image/png": "[encoded data removed]",
      "text/plain": [
       "<Figure size 1200x500 with 1 Axes>"
      ]
     },
     "metadata": {},
     "output_type": "display_data"
    }
   ],
   "source": [
    "plt.xlabel('продолжительность')\n",
    "plt.title('График №12. Продолжительность поездок пользователей')\n",
    "hist_column(rides,'duration',figsize = (12,5), bins = 300)"
   ]
  },
  {
   "cell_type": "code",
   "execution_count": 43,
   "id": "44e195cd-427e-401e-898b-caffa434172e",
   "metadata": {},
   "outputs": [
    {
     "data": {
      "image/png": "[encoded data removed]",
      "text/plain": [
       "<Figure size 500x300 with 1 Axes>"
      ]
     },
     "metadata": {},
     "output_type": "display_data"
    }
   ],
   "source": [
    "plt.title('График №13. Продолжительность поездок пользователей')\n",
    "plt.xlabel('продолжительность')\n",
    "hist_column(\n",
    "    rides,\n",
    "    'duration',\n",
    "    figsize = (5,3), \n",
    "    bins = 20,\n",
    "    range = (0,4)\n",
    ")"
   ]
  },
  {
   "cell_type": "markdown",
   "id": "c3e050ad-5a51-496f-9833-b1f27c6cfb75",
   "metadata": {},
   "source": [
    "Графики 12 и 13 показывают частоту встречаемости длительности поездок пользователей. Видим небольшой всплеск поездок длительностью меньше 1 минуты, найдем количество таких поездок и посмотрим их описание:"
   ]
  },
  {
   "cell_type": "code",
   "execution_count": 44,
   "id": "7e800ee6-a827-4a88-bdaf-0dfe3f01ba5e",
   "metadata": {},
   "outputs": [
    {
     "data": {
      "text/html": [
       "<div>\n",
       "<style scoped>\n",
       "    .dataframe tbody tr th:only-of-type {\n",
       "        vertical-align: middle;\n",
       "    }\n",
       "\n",
       "    .dataframe tbody tr th {\n",
       "        vertical-align: top;\n",
       "    }\n",
       "\n",
       "    .dataframe thead th {\n",
       "        text-align: right;\n",
       "    }\n",
       "</style>\n",
       "<table border=\"1\" class=\"dataframe\">\n",
       "  <thead>\n",
       "    <tr style=\"text-align: right;\">\n",
       "      <th></th>\n",
       "      <th>user_id</th>\n",
       "      <th>distance</th>\n",
       "      <th>duration</th>\n",
       "      <th>date</th>\n",
       "      <th>month</th>\n",
       "      <th>year</th>\n",
       "      <th>count_rides</th>\n",
       "    </tr>\n",
       "  </thead>\n",
       "  <tbody>\n",
       "    <tr>\n",
       "      <th>6531</th>\n",
       "      <td>701</td>\n",
       "      <td>4196.445201</td>\n",
       "      <td>0.5</td>\n",
       "      <td>2021-08-31</td>\n",
       "      <td>8</td>\n",
       "      <td>2021</td>\n",
       "      <td>20</td>\n",
       "    </tr>\n",
       "    <tr>\n",
       "      <th>6570</th>\n",
       "      <td>704</td>\n",
       "      <td>4830.824371</td>\n",
       "      <td>0.5</td>\n",
       "      <td>2021-10-14</td>\n",
       "      <td>10</td>\n",
       "      <td>2021</td>\n",
       "      <td>16</td>\n",
       "    </tr>\n",
       "    <tr>\n",
       "      <th>6680</th>\n",
       "      <td>712</td>\n",
       "      <td>4684.004397</td>\n",
       "      <td>0.5</td>\n",
       "      <td>2021-03-04</td>\n",
       "      <td>3</td>\n",
       "      <td>2021</td>\n",
       "      <td>14</td>\n",
       "    </tr>\n",
       "    <tr>\n",
       "      <th>6695</th>\n",
       "      <td>713</td>\n",
       "      <td>5215.642710</td>\n",
       "      <td>0.5</td>\n",
       "      <td>2021-02-25</td>\n",
       "      <td>2</td>\n",
       "      <td>2021</td>\n",
       "      <td>14</td>\n",
       "    </tr>\n",
       "    <tr>\n",
       "      <th>6768</th>\n",
       "      <td>718</td>\n",
       "      <td>5197.436649</td>\n",
       "      <td>0.5</td>\n",
       "      <td>2021-02-11</td>\n",
       "      <td>2</td>\n",
       "      <td>2021</td>\n",
       "      <td>11</td>\n",
       "    </tr>\n",
       "    <tr>\n",
       "      <th>...</th>\n",
       "      <td>...</td>\n",
       "      <td>...</td>\n",
       "      <td>...</td>\n",
       "      <td>...</td>\n",
       "      <td>...</td>\n",
       "      <td>...</td>\n",
       "      <td>...</td>\n",
       "    </tr>\n",
       "    <tr>\n",
       "      <th>17004</th>\n",
       "      <td>1460</td>\n",
       "      <td>5531.335845</td>\n",
       "      <td>0.5</td>\n",
       "      <td>2021-01-19</td>\n",
       "      <td>1</td>\n",
       "      <td>2021</td>\n",
       "      <td>17</td>\n",
       "    </tr>\n",
       "    <tr>\n",
       "      <th>17242</th>\n",
       "      <td>1477</td>\n",
       "      <td>6724.932981</td>\n",
       "      <td>0.5</td>\n",
       "      <td>2021-01-12</td>\n",
       "      <td>1</td>\n",
       "      <td>2021</td>\n",
       "      <td>16</td>\n",
       "    </tr>\n",
       "    <tr>\n",
       "      <th>17314</th>\n",
       "      <td>1483</td>\n",
       "      <td>4445.481070</td>\n",
       "      <td>0.5</td>\n",
       "      <td>2021-03-06</td>\n",
       "      <td>3</td>\n",
       "      <td>2021</td>\n",
       "      <td>9</td>\n",
       "    </tr>\n",
       "    <tr>\n",
       "      <th>17505</th>\n",
       "      <td>1496</td>\n",
       "      <td>5722.551787</td>\n",
       "      <td>0.5</td>\n",
       "      <td>2021-02-14</td>\n",
       "      <td>2</td>\n",
       "      <td>2021</td>\n",
       "      <td>10</td>\n",
       "    </tr>\n",
       "    <tr>\n",
       "      <th>17909</th>\n",
       "      <td>1524</td>\n",
       "      <td>4103.998874</td>\n",
       "      <td>0.5</td>\n",
       "      <td>2021-06-18</td>\n",
       "      <td>6</td>\n",
       "      <td>2021</td>\n",
       "      <td>12</td>\n",
       "    </tr>\n",
       "  </tbody>\n",
       "</table>\n",
       "<p>95 rows × 7 columns</p>\n",
       "</div>"
      ],
      "text/plain": [
       "       user_id     distance  duration       date  month  year  count_rides\n",
       "6531       701  4196.445201       0.5 2021-08-31      8  2021           20\n",
       "6570       704  4830.824371       0.5 2021-10-14     10  2021           16\n",
       "6680       712  4684.004397       0.5 2021-03-04      3  2021           14\n",
       "6695       713  5215.642710       0.5 2021-02-25      2  2021           14\n",
       "6768       718  5197.436649       0.5 2021-02-11      2  2021           11\n",
       "...        ...          ...       ...        ...    ...   ...          ...\n",
       "17004     1460  5531.335845       0.5 2021-01-19      1  2021           17\n",
       "17242     1477  6724.932981       0.5 2021-01-12      1  2021           16\n",
       "17314     1483  4445.481070       0.5 2021-03-06      3  2021            9\n",
       "17505     1496  5722.551787       0.5 2021-02-14      2  2021           10\n",
       "17909     1524  4103.998874       0.5 2021-06-18      6  2021           12\n",
       "\n",
       "[95 rows x 7 columns]"
      ]
     },
     "metadata": {},
     "output_type": "display_data"
    },
    {
     "name": "stdout",
     "output_type": "stream",
     "text": [
      "кол-во поездок < 1 мин =  95\n"
     ]
    }
   ],
   "source": [
    "rides_1min = rides.query('duration < 1')\n",
    "\n",
    "display(rides_1min)\n",
    "\n",
    "print ('кол-во поездок < 1 мин = ', rides_1min.shape[0])"
   ]
  },
  {
   "cell_type": "code",
   "execution_count": 45,
   "id": "73955dc5-ca69-4d1f-867c-5d2bc8bd08e0",
   "metadata": {},
   "outputs": [
    {
     "data": {
      "text/plain": [
       "array([0.5])"
      ]
     },
     "execution_count": 45,
     "metadata": {},
     "output_type": "execute_result"
    }
   ],
   "source": [
    "rides_1min['duration'].unique()"
   ]
  },
  {
   "cell_type": "markdown",
   "id": "7a0e66c1-e985-4807-9998-dd3f871ca0b0",
   "metadata": {},
   "source": [
    "Таких поездок - 95 (напоминаем, что всего поездок 18068). У всех них длительность равно 0.5 мин, и видим что похоже у всех них очень большое расстояние, в остальном даты различны, месяца различны, количество поездок пользователей различно.\n",
    "\n",
    "Проверим диапазон встречающихся расстояний в этих поездках:"
   ]
  },
  {
   "cell_type": "code",
   "execution_count": 46,
   "id": "0c8b497c-0d25-4a72-9814-1289ffb13017",
   "metadata": {},
   "outputs": [
    {
     "data": {
      "text/plain": [
       "count      95.000000\n",
       "mean     5113.176549\n",
       "std       658.254104\n",
       "min      4030.308008\n",
       "25%      4611.510820\n",
       "50%      5052.769411\n",
       "75%      5488.459099\n",
       "max      7211.007745\n",
       "Name: distance, dtype: float64"
      ]
     },
     "execution_count": 46,
     "metadata": {},
     "output_type": "execute_result"
    }
   ],
   "source": [
    "rides_1min['distance'].describe()"
   ]
  },
  {
   "cell_type": "markdown",
   "id": "c5f6163c-e40e-4b25-ad5f-81b981f99021",
   "metadata": {},
   "source": [
    "Действительно, все эти поездки на расстояние больше 4030м, что похоже на какую-то ошибку в приложении или датчике самокатов. \n",
    "\n",
    "Проверим встречаются ли поездки больше 4030 м с корректной длительностью (> 1мин):"
   ]
  },
  {
   "cell_type": "code",
   "execution_count": 47,
   "id": "13b9303b-d3c8-4b47-9117-017e6bf7c404",
   "metadata": {},
   "outputs": [
    {
     "data": {
      "text/html": [
       "<div>\n",
       "<style scoped>\n",
       "    .dataframe tbody tr th:only-of-type {\n",
       "        vertical-align: middle;\n",
       "    }\n",
       "\n",
       "    .dataframe tbody tr th {\n",
       "        vertical-align: top;\n",
       "    }\n",
       "\n",
       "    .dataframe thead th {\n",
       "        text-align: right;\n",
       "    }\n",
       "</style>\n",
       "<table border=\"1\" class=\"dataframe\">\n",
       "  <thead>\n",
       "    <tr style=\"text-align: right;\">\n",
       "      <th></th>\n",
       "      <th>user_id</th>\n",
       "      <th>distance</th>\n",
       "      <th>duration</th>\n",
       "      <th>date</th>\n",
       "      <th>month</th>\n",
       "      <th>year</th>\n",
       "      <th>count_rides</th>\n",
       "    </tr>\n",
       "  </thead>\n",
       "  <tbody>\n",
       "    <tr>\n",
       "      <th>0</th>\n",
       "      <td>1</td>\n",
       "      <td>4409.919140</td>\n",
       "      <td>25.599769</td>\n",
       "      <td>2021-01-01</td>\n",
       "      <td>1</td>\n",
       "      <td>2021</td>\n",
       "      <td>12</td>\n",
       "    </tr>\n",
       "    <tr>\n",
       "      <th>10</th>\n",
       "      <td>1</td>\n",
       "      <td>4031.020195</td>\n",
       "      <td>17.674448</td>\n",
       "      <td>2021-12-14</td>\n",
       "      <td>12</td>\n",
       "      <td>2021</td>\n",
       "      <td>12</td>\n",
       "    </tr>\n",
       "    <tr>\n",
       "      <th>32</th>\n",
       "      <td>3</td>\n",
       "      <td>5335.212090</td>\n",
       "      <td>25.848038</td>\n",
       "      <td>2021-07-14</td>\n",
       "      <td>7</td>\n",
       "      <td>2021</td>\n",
       "      <td>12</td>\n",
       "    </tr>\n",
       "    <tr>\n",
       "      <th>41</th>\n",
       "      <td>4</td>\n",
       "      <td>4208.708402</td>\n",
       "      <td>22.979239</td>\n",
       "      <td>2021-07-17</td>\n",
       "      <td>7</td>\n",
       "      <td>2021</td>\n",
       "      <td>14</td>\n",
       "    </tr>\n",
       "    <tr>\n",
       "      <th>42</th>\n",
       "      <td>4</td>\n",
       "      <td>4649.488243</td>\n",
       "      <td>35.896929</td>\n",
       "      <td>2021-08-14</td>\n",
       "      <td>8</td>\n",
       "      <td>2021</td>\n",
       "      <td>14</td>\n",
       "    </tr>\n",
       "    <tr>\n",
       "      <th>...</th>\n",
       "      <td>...</td>\n",
       "      <td>...</td>\n",
       "      <td>...</td>\n",
       "      <td>...</td>\n",
       "      <td>...</td>\n",
       "      <td>...</td>\n",
       "      <td>...</td>\n",
       "    </tr>\n",
       "    <tr>\n",
       "      <th>18034</th>\n",
       "      <td>1532</td>\n",
       "      <td>4602.642357</td>\n",
       "      <td>32.013212</td>\n",
       "      <td>2021-08-21</td>\n",
       "      <td>8</td>\n",
       "      <td>2021</td>\n",
       "      <td>13</td>\n",
       "    </tr>\n",
       "    <tr>\n",
       "      <th>18040</th>\n",
       "      <td>1532</td>\n",
       "      <td>4551.698449</td>\n",
       "      <td>31.007839</td>\n",
       "      <td>2021-12-21</td>\n",
       "      <td>12</td>\n",
       "      <td>2021</td>\n",
       "      <td>13</td>\n",
       "    </tr>\n",
       "    <tr>\n",
       "      <th>18053</th>\n",
       "      <td>1533</td>\n",
       "      <td>4581.943632</td>\n",
       "      <td>21.163887</td>\n",
       "      <td>2021-08-27</td>\n",
       "      <td>8</td>\n",
       "      <td>2021</td>\n",
       "      <td>13</td>\n",
       "    </tr>\n",
       "    <tr>\n",
       "      <th>18055</th>\n",
       "      <td>1534</td>\n",
       "      <td>4678.415899</td>\n",
       "      <td>15.228198</td>\n",
       "      <td>2021-01-20</td>\n",
       "      <td>1</td>\n",
       "      <td>2021</td>\n",
       "      <td>13</td>\n",
       "    </tr>\n",
       "    <tr>\n",
       "      <th>18062</th>\n",
       "      <td>1534</td>\n",
       "      <td>4928.173852</td>\n",
       "      <td>22.560373</td>\n",
       "      <td>2021-09-13</td>\n",
       "      <td>9</td>\n",
       "      <td>2021</td>\n",
       "      <td>13</td>\n",
       "    </tr>\n",
       "  </tbody>\n",
       "</table>\n",
       "<p>3239 rows × 7 columns</p>\n",
       "</div>"
      ],
      "text/plain": [
       "       user_id     distance   duration       date  month  year  count_rides\n",
       "0            1  4409.919140  25.599769 2021-01-01      1  2021           12\n",
       "10           1  4031.020195  17.674448 2021-12-14     12  2021           12\n",
       "32           3  5335.212090  25.848038 2021-07-14      7  2021           12\n",
       "41           4  4208.708402  22.979239 2021-07-17      7  2021           14\n",
       "42           4  4649.488243  35.896929 2021-08-14      8  2021           14\n",
       "...        ...          ...        ...        ...    ...   ...          ...\n",
       "18034     1532  4602.642357  32.013212 2021-08-21      8  2021           13\n",
       "18040     1532  4551.698449  31.007839 2021-12-21     12  2021           13\n",
       "18053     1533  4581.943632  21.163887 2021-08-27      8  2021           13\n",
       "18055     1534  4678.415899  15.228198 2021-01-20      1  2021           13\n",
       "18062     1534  4928.173852  22.560373 2021-09-13      9  2021           13\n",
       "\n",
       "[3239 rows x 7 columns]"
      ]
     },
     "execution_count": 47,
     "metadata": {},
     "output_type": "execute_result"
    }
   ],
   "source": [
    "rides.query('duration > 1 and distance >4030 ')"
   ]
  },
  {
   "cell_type": "markdown",
   "id": "e70285db-9098-4fe0-84e0-115192c41767",
   "metadata": {},
   "source": [
    "Таких поездок также полно. Больше идей насчет природы бага о поездках меньше минуты нет, но обязательно укажем это в отчете, чтобы можно было завести отдельную задачу."
   ]
  },
  {
   "cell_type": "markdown",
   "id": "881aba15-7c32-4a2a-a4be-0543aba61901",
   "metadata": {
    "jp-MarkdownHeadingCollapsed": true
   },
   "source": [
    "#### 3.6 Объединим данные о пользователях, поездках и подписках в один датафрейм\n"
   ]
  },
  {
   "cell_type": "code",
   "execution_count": 48,
   "id": "7c551cfa-8612-4868-9874-ec3797218eba",
   "metadata": {},
   "outputs": [],
   "source": [
    "general_data = users.merge(rides, on='user_id', how='outer')"
   ]
  },
  {
   "cell_type": "code",
   "execution_count": 49,
   "id": "2f2f76d3-7bf4-49ab-a888-a3ca2c6e8373",
   "metadata": {},
   "outputs": [],
   "source": [
    "general_data = general_data.merge(\n",
    "    subscriptions,\n",
    "    on = 'subscription_type',\n",
    "    how='outer'\n",
    ")"
   ]
  },
  {
   "cell_type": "code",
   "execution_count": 50,
   "id": "c6063627-1ba0-432f-ab2b-b296fdd25c72",
   "metadata": {},
   "outputs": [
    {
     "name": "stdout",
     "output_type": "stream",
     "text": [
      "<class 'pandas.core.frame.DataFrame'>\n",
      "Int64Index: 18068 entries, 0 to 18067\n",
      "Data columns (total 14 columns):\n",
      " #   Column             Non-Null Count  Dtype         \n",
      "---  ------             --------------  -----         \n",
      " 0   user_id            18068 non-null  int64         \n",
      " 1   name               18068 non-null  object        \n",
      " 2   age                18068 non-null  int64         \n",
      " 3   city               18068 non-null  object        \n",
      " 4   subscription_type  18068 non-null  object        \n",
      " 5   distance           18068 non-null  float64       \n",
      " 6   duration           18068 non-null  float64       \n",
      " 7   date               18068 non-null  datetime64[ns]\n",
      " 8   month              18068 non-null  int64         \n",
      " 9   year               18068 non-null  int64         \n",
      " 10  count_rides        18068 non-null  int64         \n",
      " 11  minute_price       18068 non-null  int64         \n",
      " 12  start_ride_price   18068 non-null  int64         \n",
      " 13  subscription_fee   18068 non-null  int64         \n",
      "dtypes: datetime64[ns](1), float64(2), int64(8), object(3)\n",
      "memory usage: 2.1+ MB\n"
     ]
    }
   ],
   "source": [
    "#Проверяем\n",
    "general_data.info()"
   ]
  },
  {
   "cell_type": "markdown",
   "id": "9eb9b8e4-ed51-43e2-b2ce-6e84edcc80e1",
   "metadata": {
    "jp-MarkdownHeadingCollapsed": true
   },
   "source": [
    "#### 3.7 Создадим ещё два датафрейма из датафрейма `general_data` c данными о пользователях с подпиской и без"
   ]
  },
  {
   "cell_type": "code",
   "execution_count": 51,
   "id": "717f4097-2224-4507-a95c-53490524aebc",
   "metadata": {},
   "outputs": [
    {
     "name": "stdout",
     "output_type": "stream",
     "text": [
      "ultra    6500\n",
      "Name: subscription_type, dtype: int64 \n",
      "\n"
     ]
    },
    {
     "data": {
      "text/html": [
       "<div>\n",
       "<style scoped>\n",
       "    .dataframe tbody tr th:only-of-type {\n",
       "        vertical-align: middle;\n",
       "    }\n",
       "\n",
       "    .dataframe tbody tr th {\n",
       "        vertical-align: top;\n",
       "    }\n",
       "\n",
       "    .dataframe thead th {\n",
       "        text-align: right;\n",
       "    }\n",
       "</style>\n",
       "<table border=\"1\" class=\"dataframe\">\n",
       "  <thead>\n",
       "    <tr style=\"text-align: right;\">\n",
       "      <th></th>\n",
       "      <th>user_id</th>\n",
       "      <th>name</th>\n",
       "      <th>age</th>\n",
       "      <th>city</th>\n",
       "      <th>subscription_type</th>\n",
       "      <th>distance</th>\n",
       "      <th>duration</th>\n",
       "      <th>date</th>\n",
       "      <th>month</th>\n",
       "      <th>year</th>\n",
       "      <th>count_rides</th>\n",
       "      <th>minute_price</th>\n",
       "      <th>start_ride_price</th>\n",
       "      <th>subscription_fee</th>\n",
       "    </tr>\n",
       "  </thead>\n",
       "  <tbody>\n",
       "    <tr>\n",
       "      <th>0</th>\n",
       "      <td>1</td>\n",
       "      <td>Кира</td>\n",
       "      <td>22</td>\n",
       "      <td>Тюмень</td>\n",
       "      <td>ultra</td>\n",
       "      <td>4409.919140</td>\n",
       "      <td>25.599769</td>\n",
       "      <td>2021-01-01</td>\n",
       "      <td>1</td>\n",
       "      <td>2021</td>\n",
       "      <td>12</td>\n",
       "      <td>6</td>\n",
       "      <td>0</td>\n",
       "      <td>199</td>\n",
       "    </tr>\n",
       "    <tr>\n",
       "      <th>1</th>\n",
       "      <td>1</td>\n",
       "      <td>Кира</td>\n",
       "      <td>22</td>\n",
       "      <td>Тюмень</td>\n",
       "      <td>ultra</td>\n",
       "      <td>2617.592153</td>\n",
       "      <td>15.816871</td>\n",
       "      <td>2021-01-18</td>\n",
       "      <td>1</td>\n",
       "      <td>2021</td>\n",
       "      <td>12</td>\n",
       "      <td>6</td>\n",
       "      <td>0</td>\n",
       "      <td>199</td>\n",
       "    </tr>\n",
       "    <tr>\n",
       "      <th>2</th>\n",
       "      <td>1</td>\n",
       "      <td>Кира</td>\n",
       "      <td>22</td>\n",
       "      <td>Тюмень</td>\n",
       "      <td>ultra</td>\n",
       "      <td>754.159807</td>\n",
       "      <td>6.232113</td>\n",
       "      <td>2021-04-20</td>\n",
       "      <td>4</td>\n",
       "      <td>2021</td>\n",
       "      <td>12</td>\n",
       "      <td>6</td>\n",
       "      <td>0</td>\n",
       "      <td>199</td>\n",
       "    </tr>\n",
       "    <tr>\n",
       "      <th>3</th>\n",
       "      <td>1</td>\n",
       "      <td>Кира</td>\n",
       "      <td>22</td>\n",
       "      <td>Тюмень</td>\n",
       "      <td>ultra</td>\n",
       "      <td>2694.783254</td>\n",
       "      <td>18.511000</td>\n",
       "      <td>2021-08-11</td>\n",
       "      <td>8</td>\n",
       "      <td>2021</td>\n",
       "      <td>12</td>\n",
       "      <td>6</td>\n",
       "      <td>0</td>\n",
       "      <td>199</td>\n",
       "    </tr>\n",
       "    <tr>\n",
       "      <th>4</th>\n",
       "      <td>1</td>\n",
       "      <td>Кира</td>\n",
       "      <td>22</td>\n",
       "      <td>Тюмень</td>\n",
       "      <td>ultra</td>\n",
       "      <td>4028.687306</td>\n",
       "      <td>26.265803</td>\n",
       "      <td>2021-08-28</td>\n",
       "      <td>8</td>\n",
       "      <td>2021</td>\n",
       "      <td>12</td>\n",
       "      <td>6</td>\n",
       "      <td>0</td>\n",
       "      <td>199</td>\n",
       "    </tr>\n",
       "  </tbody>\n",
       "</table>\n",
       "</div>"
      ],
      "text/plain": [
       "   user_id  name  age    city subscription_type     distance   duration  \\\n",
       "0        1  Кира   22  Тюмень             ultra  4409.919140  25.599769   \n",
       "1        1  Кира   22  Тюмень             ultra  2617.592153  15.816871   \n",
       "2        1  Кира   22  Тюмень             ultra   754.159807   6.232113   \n",
       "3        1  Кира   22  Тюмень             ultra  2694.783254  18.511000   \n",
       "4        1  Кира   22  Тюмень             ultra  4028.687306  26.265803   \n",
       "\n",
       "        date  month  year  count_rides  minute_price  start_ride_price  \\\n",
       "0 2021-01-01      1  2021           12             6                 0   \n",
       "1 2021-01-18      1  2021           12             6                 0   \n",
       "2 2021-04-20      4  2021           12             6                 0   \n",
       "3 2021-08-11      8  2021           12             6                 0   \n",
       "4 2021-08-28      8  2021           12             6                 0   \n",
       "\n",
       "   subscription_fee  \n",
       "0               199  \n",
       "1               199  \n",
       "2               199  \n",
       "3               199  \n",
       "4               199  "
      ]
     },
     "metadata": {},
     "output_type": "display_data"
    },
    {
     "name": "stdout",
     "output_type": "stream",
     "text": [
      "None\n"
     ]
    }
   ],
   "source": [
    "general_data_with_ultra = general_data.query('subscription_type == \"ultra\"')\n",
    "\n",
    "#Проверяем\n",
    "print(general_data_with_ultra['subscription_type'].value_counts(),'\\n')\n",
    "print(display(general_data_with_ultra.head()))"
   ]
  },
  {
   "cell_type": "code",
   "execution_count": 52,
   "id": "30030704-889c-4346-9462-477c7b5726e4",
   "metadata": {},
   "outputs": [
    {
     "name": "stdout",
     "output_type": "stream",
     "text": [
      "free    11568\n",
      "Name: subscription_type, dtype: int64 \n",
      "\n"
     ]
    },
    {
     "data": {
      "text/html": [
       "<div>\n",
       "<style scoped>\n",
       "    .dataframe tbody tr th:only-of-type {\n",
       "        vertical-align: middle;\n",
       "    }\n",
       "\n",
       "    .dataframe tbody tr th {\n",
       "        vertical-align: top;\n",
       "    }\n",
       "\n",
       "    .dataframe thead th {\n",
       "        text-align: right;\n",
       "    }\n",
       "</style>\n",
       "<table border=\"1\" class=\"dataframe\">\n",
       "  <thead>\n",
       "    <tr style=\"text-align: right;\">\n",
       "      <th></th>\n",
       "      <th>user_id</th>\n",
       "      <th>name</th>\n",
       "      <th>age</th>\n",
       "      <th>city</th>\n",
       "      <th>subscription_type</th>\n",
       "      <th>distance</th>\n",
       "      <th>duration</th>\n",
       "      <th>date</th>\n",
       "      <th>month</th>\n",
       "      <th>year</th>\n",
       "      <th>count_rides</th>\n",
       "      <th>minute_price</th>\n",
       "      <th>start_ride_price</th>\n",
       "      <th>subscription_fee</th>\n",
       "    </tr>\n",
       "  </thead>\n",
       "  <tbody>\n",
       "    <tr>\n",
       "      <th>6500</th>\n",
       "      <td>700</td>\n",
       "      <td>Айдар</td>\n",
       "      <td>22</td>\n",
       "      <td>Омск</td>\n",
       "      <td>free</td>\n",
       "      <td>2515.690719</td>\n",
       "      <td>14.944286</td>\n",
       "      <td>2021-01-02</td>\n",
       "      <td>1</td>\n",
       "      <td>2021</td>\n",
       "      <td>18</td>\n",
       "      <td>8</td>\n",
       "      <td>50</td>\n",
       "      <td>0</td>\n",
       "    </tr>\n",
       "    <tr>\n",
       "      <th>6501</th>\n",
       "      <td>700</td>\n",
       "      <td>Айдар</td>\n",
       "      <td>22</td>\n",
       "      <td>Омск</td>\n",
       "      <td>free</td>\n",
       "      <td>846.932642</td>\n",
       "      <td>16.234663</td>\n",
       "      <td>2021-02-01</td>\n",
       "      <td>2</td>\n",
       "      <td>2021</td>\n",
       "      <td>18</td>\n",
       "      <td>8</td>\n",
       "      <td>50</td>\n",
       "      <td>0</td>\n",
       "    </tr>\n",
       "    <tr>\n",
       "      <th>6502</th>\n",
       "      <td>700</td>\n",
       "      <td>Айдар</td>\n",
       "      <td>22</td>\n",
       "      <td>Омск</td>\n",
       "      <td>free</td>\n",
       "      <td>4004.434142</td>\n",
       "      <td>20.016628</td>\n",
       "      <td>2021-02-04</td>\n",
       "      <td>2</td>\n",
       "      <td>2021</td>\n",
       "      <td>18</td>\n",
       "      <td>8</td>\n",
       "      <td>50</td>\n",
       "      <td>0</td>\n",
       "    </tr>\n",
       "    <tr>\n",
       "      <th>6503</th>\n",
       "      <td>700</td>\n",
       "      <td>Айдар</td>\n",
       "      <td>22</td>\n",
       "      <td>Омск</td>\n",
       "      <td>free</td>\n",
       "      <td>1205.911290</td>\n",
       "      <td>9.782872</td>\n",
       "      <td>2021-02-10</td>\n",
       "      <td>2</td>\n",
       "      <td>2021</td>\n",
       "      <td>18</td>\n",
       "      <td>8</td>\n",
       "      <td>50</td>\n",
       "      <td>0</td>\n",
       "    </tr>\n",
       "    <tr>\n",
       "      <th>6504</th>\n",
       "      <td>700</td>\n",
       "      <td>Айдар</td>\n",
       "      <td>22</td>\n",
       "      <td>Омск</td>\n",
       "      <td>free</td>\n",
       "      <td>3047.379435</td>\n",
       "      <td>17.427673</td>\n",
       "      <td>2021-02-14</td>\n",
       "      <td>2</td>\n",
       "      <td>2021</td>\n",
       "      <td>18</td>\n",
       "      <td>8</td>\n",
       "      <td>50</td>\n",
       "      <td>0</td>\n",
       "    </tr>\n",
       "  </tbody>\n",
       "</table>\n",
       "</div>"
      ],
      "text/plain": [
       "      user_id   name  age  city subscription_type     distance   duration  \\\n",
       "6500      700  Айдар   22  Омск              free  2515.690719  14.944286   \n",
       "6501      700  Айдар   22  Омск              free   846.932642  16.234663   \n",
       "6502      700  Айдар   22  Омск              free  4004.434142  20.016628   \n",
       "6503      700  Айдар   22  Омск              free  1205.911290   9.782872   \n",
       "6504      700  Айдар   22  Омск              free  3047.379435  17.427673   \n",
       "\n",
       "           date  month  year  count_rides  minute_price  start_ride_price  \\\n",
       "6500 2021-01-02      1  2021           18             8                50   \n",
       "6501 2021-02-01      2  2021           18             8                50   \n",
       "6502 2021-02-04      2  2021           18             8                50   \n",
       "6503 2021-02-10      2  2021           18             8                50   \n",
       "6504 2021-02-14      2  2021           18             8                50   \n",
       "\n",
       "      subscription_fee  \n",
       "6500                 0  \n",
       "6501                 0  \n",
       "6502                 0  \n",
       "6503                 0  \n",
       "6504                 0  "
      ]
     },
     "metadata": {},
     "output_type": "display_data"
    },
    {
     "name": "stdout",
     "output_type": "stream",
     "text": [
      "None\n"
     ]
    }
   ],
   "source": [
    "general_data_with_free = general_data.query('subscription_type == \"free\"')\n",
    "\n",
    "#Проверяем\n",
    "print(general_data_with_free['subscription_type'].value_counts(),'\\n')\n",
    "print(display(general_data_with_free.head()))"
   ]
  },
  {
   "cell_type": "markdown",
   "id": "5be3aefa-65ed-4c59-9d92-23bfc1b5f1a6",
   "metadata": {
    "jp-MarkdownHeadingCollapsed": true
   },
   "source": [
    "#### 3.8 Визуализируем информацию о расстоянии и времени поездок для пользователей обеих категорий:"
   ]
  },
  {
   "cell_type": "code",
   "execution_count": 53,
   "id": "d6aab297-d594-47b1-8970-b6b484982a46",
   "metadata": {},
   "outputs": [
    {
     "name": "stdout",
     "output_type": "stream",
     "text": [
      "Ср. длительность поездок пользователейс подпиской = 18.6 мин\n",
      "Ср. длительность поездок пользователейбез подписки = 17.4 мин\n"
     ]
    }
   ],
   "source": [
    "#Запишем ср. длительность одной поездки\n",
    "# для каждого пользователя с подпиской\n",
    "average_duration_ultra = general_data_with_ultra.pivot_table(\n",
    "    index = 'user_id', \n",
    "    values = 'duration'\n",
    ")\n",
    "\n",
    "print ('Ср. длительность поездок пользователей\\\n",
    "с подпиской = {0} мин'.format(round(average_duration_ultra.mean()[0],1)))\n",
    "\n",
    "\n",
    "#Запишем ср. длительность одной поездки\n",
    "# для каждого пользователя без подписки\n",
    "average_duration_free = general_data_with_free.pivot_table(\n",
    "    index = 'user_id', \n",
    "    values = 'duration'\n",
    ")\n",
    "\n",
    "print ('Ср. длительность поездок пользователей\\\n",
    "без подписки = {0} мин'.format(round(average_duration_free.mean()[0],1)))"
   ]
  },
  {
   "cell_type": "markdown",
   "id": "6bf1098e-2e68-448e-96cd-cf842d5a342c",
   "metadata": {},
   "source": [
    "График размаха и отображение статистических показателей по средней длительности поездок пользователей с подпиской и без представлены ниже:"
   ]
  },
  {
   "cell_type": "code",
   "execution_count": 54,
   "id": "64b36147-c260-430d-9276-d22200c4d0c2",
   "metadata": {},
   "outputs": [
    {
     "data": {
      "image/png": "[encoded data removed]",
      "text/plain": [
       "<Figure size 400x400 with 1 Axes>"
      ]
     },
     "metadata": {},
     "output_type": "display_data"
    },
    {
     "name": "stdout",
     "output_type": "stream",
     "text": [
      "Стат.показатели: \n",
      " count    699.000000\n",
      "mean      18.574380\n",
      "std        2.015094\n",
      "min       11.385922\n",
      "25%       17.278630\n",
      "50%       18.585189\n",
      "75%       19.789236\n",
      "max       26.136000\n",
      "Name: duration, dtype: float64 \n",
      "\n",
      " Межквартильный размах =  2.510605810847828 \n",
      "\n",
      " Пределы нормальных значений (или усы) = (13.512721380447598,23.55514462383891) \n",
      "\n",
      "\n"
     ]
    },
    {
     "data": {
      "image/png": "[encoded data removed]",
      "text/plain": [
       "<Figure size 400x400 with 1 Axes>"
      ]
     },
     "metadata": {},
     "output_type": "display_data"
    },
    {
     "name": "stdout",
     "output_type": "stream",
     "text": [
      "Стат.показатели: \n",
      " count    835.000000\n",
      "mean      17.384033\n",
      "std        1.759845\n",
      "min       11.163431\n",
      "25%       16.209124\n",
      "50%       17.402644\n",
      "75%       18.568622\n",
      "max       23.069943\n",
      "Name: duration, dtype: float64 \n",
      "\n",
      " Межквартильный размах =  2.3594979566635104 \n",
      "\n",
      " Пределы нормальных значений (или усы) = (12.669877102558711,22.107868929212753) \n",
      "\n",
      "\n"
     ]
    }
   ],
   "source": [
    "describe_column(\n",
    "    average_duration_ultra, \n",
    "    'duration', \n",
    "    title = 'График №13. Ср. длительность поездок пользователей с подпиской'\n",
    ")\n",
    "\n",
    "describe_column(\n",
    "    average_duration_free, \n",
    "    'duration', \n",
    "    title = 'График №14. Ср. длительность поездок пользователей без подписки'\n",
    ")\n"
   ]
  },
  {
   "cell_type": "markdown",
   "id": "dae798c3-3585-448b-9d45-c24042812dc9",
   "metadata": {},
   "source": [
    "Средняя продолжительность поездок для пользователей с подпиской - 18.6 мин, стандартное отклонение 2 мин.\n",
    "\n",
    "Средняя продолжительность поездок для пользователей  без подписки - 17.4 мин, стандартное отклонение 1.8 мин.\n",
    "\n",
    "Построим график, отображающий частоту встречаемости длительности поездок пользователей с подпиской и без:"
   ]
  },
  {
   "cell_type": "code",
   "execution_count": 55,
   "id": "b3d5599d-7396-475b-8bca-891235910be9",
   "metadata": {},
   "outputs": [
    {
     "data": {
      "image/png": "[encoded data removed]",
      "text/plain": [
       "<Figure size 1200x500 with 1 Axes>"
      ]
     },
     "metadata": {},
     "output_type": "display_data"
    }
   ],
   "source": [
    "plt.figure(figsize = (12,5))\n",
    "  \n",
    "general_data_with_free['duration'].plot.hist( \n",
    "    label='без подписки', \n",
    "    color='pink', \n",
    "    bins = 30)\n",
    "\n",
    "general_data_with_ultra['duration'].plot.hist( \n",
    "    label='с подпиской',\n",
    "    bins = 30)\n",
    "  \n",
    "plt.title('График №15. Длительность поездок пользователей')\n",
    "plt.xlabel('длительность')\n",
    "plt.ylabel('количество')\n",
    "plt.legend();"
   ]
  },
  {
   "cell_type": "markdown",
   "id": "0a6f9243-2825-406a-ae6c-b95f11db89a3",
   "metadata": {},
   "source": [
    "Некоторый пик поездок меньше 1 минуты, который мы наблюдали выше, проявляется только для пользователей без подписки. \n",
    "\n",
    "Среди пользователей с подпиской встречаются более долгие поездки (более 35 минут) чем у пользователей без подписки.\n",
    "\n",
    "У пользователей без подписки больший разброс от среднего значения."
   ]
  },
  {
   "cell_type": "code",
   "execution_count": 56,
   "id": "279be1c9-a286-4668-9245-b6bc331c33a3",
   "metadata": {},
   "outputs": [
    {
     "name": "stdout",
     "output_type": "stream",
     "text": [
      "Ср. расстояние, кот. пользователи с подпиской преодолевают за 1 поездку = 3113.5 м\n",
      "Ср. расстояние, кот. пользователи без подпискипреодолевают за 1 поездку = 3047.0 м\n"
     ]
    }
   ],
   "source": [
    "#Запишем ср. расстояние одной поездки\n",
    "#для каждого пользователя с подпиской\n",
    "average_distanse_ultra =  general_data_with_ultra.pivot_table(\n",
    "    index = 'user_id', \n",
    "    values = 'distance'\n",
    ")\n",
    "\n",
    "print ('Ср. расстояние, кот. пользователи с подпиской \\\n",
    "преодолевают за 1 поездку = {0} м'.format(\n",
    "        round(average_distanse_ultra.mean()[0],1))\n",
    "      )\n",
    "\n",
    "#Запишем ср. расстояние одной поездки\n",
    "#для каждого пользователя без подписки\n",
    "average_distanse_free =  general_data_with_free.pivot_table(\n",
    "    index = 'user_id', \n",
    "    values = 'distance'\n",
    ")\n",
    "\n",
    "print ('Ср. расстояние, кот. пользователи без подписки\\\n",
    "преодолевают за 1 поездку = {0} м'.format(\n",
    "        round(average_distanse_free.mean()[0],1))\n",
    "      )"
   ]
  },
  {
   "cell_type": "markdown",
   "id": "19a6aea4-543f-43bb-971b-ae39de2878bd",
   "metadata": {},
   "source": [
    "График размаха и отображение статистических показателей по среднему расстоянию пользователей представлены ниже:"
   ]
  },
  {
   "cell_type": "code",
   "execution_count": 57,
   "id": "cac0bea2-16ce-44a2-9245-d4cfc135da5d",
   "metadata": {},
   "outputs": [
    {
     "data": {
      "image/png": "[encoded data removed]",
      "text/plain": [
       "<Figure size 400x400 with 1 Axes>"
      ]
     },
     "metadata": {},
     "output_type": "display_data"
    },
    {
     "name": "stdout",
     "output_type": "stream",
     "text": [
      "Стат.показатели: \n",
      " count     699.000000\n",
      "mean     3113.459926\n",
      "std       299.706136\n",
      "min      2098.297845\n",
      "25%      2925.005435\n",
      "50%      3134.349186\n",
      "75%      3312.191643\n",
      "max      3939.773328\n",
      "Name: distance, dtype: float64 \n",
      "\n",
      " Межквартильный размах =  387.1862080654869 \n",
      "\n",
      " Пределы нормальных значений (или усы) = (2344.2261225826987,3892.9709548446463) \n",
      "\n",
      "\n"
     ]
    },
    {
     "data": {
      "image/png": "[encoded data removed]",
      "text/plain": [
       "<Figure size 400x400 with 1 Axes>"
      ]
     },
     "metadata": {},
     "output_type": "display_data"
    },
    {
     "name": "stdout",
     "output_type": "stream",
     "text": [
      "Стат.показатели: \n",
      " count     835.000000\n",
      "mean     3047.023441\n",
      "std       346.570021\n",
      "min      1630.788427\n",
      "25%      2820.516763\n",
      "50%      3057.940909\n",
      "75%      3276.990199\n",
      "max      4287.519387\n",
      "Name: distance, dtype: float64 \n",
      "\n",
      " Межквартильный размах =  456.47343650085713 \n",
      "\n",
      " Пределы нормальных значений (или усы) = (2135.8066081621155,3961.700354165544) \n",
      "\n",
      "\n"
     ]
    }
   ],
   "source": [
    "describe_column(\n",
    "    average_distanse_ultra, \n",
    "    'distance', \n",
    "    title = 'График №16. Ср. расстояние преодолеваемое \\\n",
    "пользователем с подпиской за одну поездку'\n",
    ")\n",
    "\n",
    "describe_column(\n",
    "    average_distanse_free, \n",
    "    'distance', \n",
    "    title = 'График №17. Ср. расстояние преодолеваемое \\\n",
    "пользователем без подписки за одну поездку'\n",
    ")"
   ]
  },
  {
   "cell_type": "markdown",
   "id": "ea9062ff-3207-43a0-9abe-7c8130706897",
   "metadata": {},
   "source": [
    "Ср. расстояние для пользователей с подпиской равно 3113м, стандартное отклонение - 299м.\n",
    "\n",
    "Ср. расстояние для пользователей без подписки равно 3047м, стандартное отклонение - 347м.\n",
    "\n",
    "Построим график, отображающий частоту встречаемости дальности поездок пользователей с подпиской и без:"
   ]
  },
  {
   "cell_type": "code",
   "execution_count": 58,
   "id": "16568d5c-ecdb-4e66-ade5-86d5577366da",
   "metadata": {},
   "outputs": [
    {
     "data": {
      "image/png": "[encoded data removed]",
      "text/plain": [
       "<Figure size 1200x500 with 1 Axes>"
      ]
     },
     "metadata": {},
     "output_type": "display_data"
    }
   ],
   "source": [
    "plt.figure(figsize = (12,5))\n",
    "  \n",
    "general_data_with_free['distance'].plot.hist( \n",
    "    label='без подписки', \n",
    "    color='pink', \n",
    "    bins = 100)\n",
    "\n",
    "general_data_with_ultra['distance'].plot.hist( \n",
    "    label='с подпиской',\n",
    "    bins = 100)\n",
    "  \n",
    "plt.title('График №18. Расстояние, проезжаемое пользователями')\n",
    "plt.xlabel('расстояние')\n",
    "plt.ylabel('количество')\n",
    "plt.legend();"
   ]
  },
  {
   "cell_type": "markdown",
   "id": "01532833-50e4-42b6-b0bd-d6e900260fd5",
   "metadata": {},
   "source": [
    "Для пользователей с подпиской есть несколько пиков проезжаемых расстояний: около 1000м, около 3100м и около 4100м.\n",
    "\n",
    "Для пользователей без подписки наблюдается больший разброс от среднего значения, и бимодальность - два пика проезжаемых расстояний: около 600-800м, и около 3000м."
   ]
  },
  {
   "cell_type": "markdown",
   "id": "c9405c1e-8404-4d4b-aaf6-6c4b064cdf41",
   "metadata": {
    "jp-MarkdownHeadingCollapsed": true
   },
   "source": [
    "#### 3.9 Подсчет выручки: Создадим датафрейм с агрегированными данными о поездках на основе датафрейма с объединёнными данными из шага 4. Найдем суммарное расстояние, количество поездок и суммарное время для каждого пользователя за каждый месяц."
   ]
  },
  {
   "cell_type": "code",
   "execution_count": 59,
   "id": "62040024-84c2-4034-969c-53775d8d1e03",
   "metadata": {},
   "outputs": [
    {
     "data": {
      "text/html": [
       "<div>\n",
       "<style scoped>\n",
       "    .dataframe tbody tr th:only-of-type {\n",
       "        vertical-align: middle;\n",
       "    }\n",
       "\n",
       "    .dataframe tbody tr th {\n",
       "        vertical-align: top;\n",
       "    }\n",
       "\n",
       "    .dataframe thead th {\n",
       "        text-align: right;\n",
       "    }\n",
       "</style>\n",
       "<table border=\"1\" class=\"dataframe\">\n",
       "  <thead>\n",
       "    <tr style=\"text-align: right;\">\n",
       "      <th></th>\n",
       "      <th>user_id</th>\n",
       "      <th>name</th>\n",
       "      <th>age</th>\n",
       "      <th>city</th>\n",
       "      <th>subscription_type</th>\n",
       "      <th>distance</th>\n",
       "      <th>duration</th>\n",
       "      <th>date</th>\n",
       "      <th>month</th>\n",
       "      <th>year</th>\n",
       "      <th>count_rides</th>\n",
       "      <th>minute_price</th>\n",
       "      <th>start_ride_price</th>\n",
       "      <th>subscription_fee</th>\n",
       "    </tr>\n",
       "  </thead>\n",
       "  <tbody>\n",
       "    <tr>\n",
       "      <th>0</th>\n",
       "      <td>1</td>\n",
       "      <td>Кира</td>\n",
       "      <td>22</td>\n",
       "      <td>Тюмень</td>\n",
       "      <td>ultra</td>\n",
       "      <td>4409.92</td>\n",
       "      <td>26.0</td>\n",
       "      <td>2021-01-01</td>\n",
       "      <td>1</td>\n",
       "      <td>2021</td>\n",
       "      <td>12</td>\n",
       "      <td>6</td>\n",
       "      <td>0</td>\n",
       "      <td>199</td>\n",
       "    </tr>\n",
       "    <tr>\n",
       "      <th>1</th>\n",
       "      <td>1</td>\n",
       "      <td>Кира</td>\n",
       "      <td>22</td>\n",
       "      <td>Тюмень</td>\n",
       "      <td>ultra</td>\n",
       "      <td>2617.59</td>\n",
       "      <td>16.0</td>\n",
       "      <td>2021-01-18</td>\n",
       "      <td>1</td>\n",
       "      <td>2021</td>\n",
       "      <td>12</td>\n",
       "      <td>6</td>\n",
       "      <td>0</td>\n",
       "      <td>199</td>\n",
       "    </tr>\n",
       "    <tr>\n",
       "      <th>2</th>\n",
       "      <td>1</td>\n",
       "      <td>Кира</td>\n",
       "      <td>22</td>\n",
       "      <td>Тюмень</td>\n",
       "      <td>ultra</td>\n",
       "      <td>754.16</td>\n",
       "      <td>7.0</td>\n",
       "      <td>2021-04-20</td>\n",
       "      <td>4</td>\n",
       "      <td>2021</td>\n",
       "      <td>12</td>\n",
       "      <td>6</td>\n",
       "      <td>0</td>\n",
       "      <td>199</td>\n",
       "    </tr>\n",
       "    <tr>\n",
       "      <th>3</th>\n",
       "      <td>1</td>\n",
       "      <td>Кира</td>\n",
       "      <td>22</td>\n",
       "      <td>Тюмень</td>\n",
       "      <td>ultra</td>\n",
       "      <td>2694.78</td>\n",
       "      <td>19.0</td>\n",
       "      <td>2021-08-11</td>\n",
       "      <td>8</td>\n",
       "      <td>2021</td>\n",
       "      <td>12</td>\n",
       "      <td>6</td>\n",
       "      <td>0</td>\n",
       "      <td>199</td>\n",
       "    </tr>\n",
       "    <tr>\n",
       "      <th>4</th>\n",
       "      <td>1</td>\n",
       "      <td>Кира</td>\n",
       "      <td>22</td>\n",
       "      <td>Тюмень</td>\n",
       "      <td>ultra</td>\n",
       "      <td>4028.69</td>\n",
       "      <td>27.0</td>\n",
       "      <td>2021-08-28</td>\n",
       "      <td>8</td>\n",
       "      <td>2021</td>\n",
       "      <td>12</td>\n",
       "      <td>6</td>\n",
       "      <td>0</td>\n",
       "      <td>199</td>\n",
       "    </tr>\n",
       "  </tbody>\n",
       "</table>\n",
       "</div>"
      ],
      "text/plain": [
       "   user_id  name  age    city subscription_type  distance  duration  \\\n",
       "0        1  Кира   22  Тюмень             ultra   4409.92      26.0   \n",
       "1        1  Кира   22  Тюмень             ultra   2617.59      16.0   \n",
       "2        1  Кира   22  Тюмень             ultra    754.16       7.0   \n",
       "3        1  Кира   22  Тюмень             ultra   2694.78      19.0   \n",
       "4        1  Кира   22  Тюмень             ultra   4028.69      27.0   \n",
       "\n",
       "        date  month  year  count_rides  minute_price  start_ride_price  \\\n",
       "0 2021-01-01      1  2021           12             6                 0   \n",
       "1 2021-01-18      1  2021           12             6                 0   \n",
       "2 2021-04-20      4  2021           12             6                 0   \n",
       "3 2021-08-11      8  2021           12             6                 0   \n",
       "4 2021-08-28      8  2021           12             6                 0   \n",
       "\n",
       "   subscription_fee  \n",
       "0               199  \n",
       "1               199  \n",
       "2               199  \n",
       "3               199  \n",
       "4               199  "
      ]
     },
     "execution_count": 59,
     "metadata": {},
     "output_type": "execute_result"
    }
   ],
   "source": [
    "#Округляем длительность поездок до целых минут\n",
    "general_data['duration'] = np.ceil(general_data['duration'])\n",
    "\n",
    "#Округляем до второго знака после запятой расстояние\n",
    "general_data['distance'] = round(general_data['distance'],2)\n",
    "\n",
    "#Проверяем:\n",
    "general_data.head()"
   ]
  },
  {
   "cell_type": "code",
   "execution_count": 60,
   "id": "bab6bc83-5517-4465-a2b4-3b298744dc05",
   "metadata": {},
   "outputs": [],
   "source": [
    "#Создаем агрегированный датафрейм\n",
    "agg_data = general_data.groupby(['month','user_id']).agg(\n",
    "    {\n",
    "        'distance':['count','sum'],\n",
    "        'duration':['sum'],\n",
    "        'subscription_type':['first'],\n",
    "        'minute_price':['first'],\n",
    "        'start_ride_price':['first'], \n",
    "        'subscription_fee':['first']\n",
    "    }\n",
    ")\n",
    "\n",
    "#Переименовываем столбцы\n",
    "agg_data.columns = [\n",
    "    'count_rides',\n",
    "    'sum_distance',\n",
    "    'sum_duration',\n",
    "    'subscription_type',\n",
    "    'minute_price',\n",
    "    'start_ride_price', \n",
    "    'subscription_fee'  \n",
    "]"
   ]
  },
  {
   "cell_type": "code",
   "execution_count": 61,
   "id": "55e51297-7868-4bcb-8e2e-3bb431a156ed",
   "metadata": {},
   "outputs": [
    {
     "data": {
      "text/html": [
       "<div>\n",
       "<style scoped>\n",
       "    .dataframe tbody tr th:only-of-type {\n",
       "        vertical-align: middle;\n",
       "    }\n",
       "\n",
       "    .dataframe tbody tr th {\n",
       "        vertical-align: top;\n",
       "    }\n",
       "\n",
       "    .dataframe thead th {\n",
       "        text-align: right;\n",
       "    }\n",
       "</style>\n",
       "<table border=\"1\" class=\"dataframe\">\n",
       "  <thead>\n",
       "    <tr style=\"text-align: right;\">\n",
       "      <th></th>\n",
       "      <th></th>\n",
       "      <th>count_rides</th>\n",
       "      <th>sum_distance</th>\n",
       "      <th>sum_duration</th>\n",
       "      <th>subscription_type</th>\n",
       "      <th>minute_price</th>\n",
       "      <th>start_ride_price</th>\n",
       "      <th>subscription_fee</th>\n",
       "    </tr>\n",
       "    <tr>\n",
       "      <th>month</th>\n",
       "      <th>user_id</th>\n",
       "      <th></th>\n",
       "      <th></th>\n",
       "      <th></th>\n",
       "      <th></th>\n",
       "      <th></th>\n",
       "      <th></th>\n",
       "      <th></th>\n",
       "    </tr>\n",
       "  </thead>\n",
       "  <tbody>\n",
       "    <tr>\n",
       "      <th rowspan=\"5\" valign=\"top\">1</th>\n",
       "      <th>1</th>\n",
       "      <td>2</td>\n",
       "      <td>7027.51</td>\n",
       "      <td>42.0</td>\n",
       "      <td>ultra</td>\n",
       "      <td>6</td>\n",
       "      <td>0</td>\n",
       "      <td>199</td>\n",
       "    </tr>\n",
       "    <tr>\n",
       "      <th>3</th>\n",
       "      <td>1</td>\n",
       "      <td>3061.78</td>\n",
       "      <td>13.0</td>\n",
       "      <td>ultra</td>\n",
       "      <td>6</td>\n",
       "      <td>0</td>\n",
       "      <td>199</td>\n",
       "    </tr>\n",
       "    <tr>\n",
       "      <th>5</th>\n",
       "      <td>1</td>\n",
       "      <td>3914.65</td>\n",
       "      <td>13.0</td>\n",
       "      <td>ultra</td>\n",
       "      <td>6</td>\n",
       "      <td>0</td>\n",
       "      <td>199</td>\n",
       "    </tr>\n",
       "    <tr>\n",
       "      <th>7</th>\n",
       "      <td>2</td>\n",
       "      <td>6478.08</td>\n",
       "      <td>28.0</td>\n",
       "      <td>ultra</td>\n",
       "      <td>6</td>\n",
       "      <td>0</td>\n",
       "      <td>199</td>\n",
       "    </tr>\n",
       "    <tr>\n",
       "      <th>12</th>\n",
       "      <td>1</td>\n",
       "      <td>3577.15</td>\n",
       "      <td>33.0</td>\n",
       "      <td>ultra</td>\n",
       "      <td>6</td>\n",
       "      <td>0</td>\n",
       "      <td>199</td>\n",
       "    </tr>\n",
       "  </tbody>\n",
       "</table>\n",
       "</div>"
      ],
      "text/plain": [
       "               count_rides  sum_distance  sum_duration subscription_type  \\\n",
       "month user_id                                                              \n",
       "1     1                  2       7027.51          42.0             ultra   \n",
       "      3                  1       3061.78          13.0             ultra   \n",
       "      5                  1       3914.65          13.0             ultra   \n",
       "      7                  2       6478.08          28.0             ultra   \n",
       "      12                 1       3577.15          33.0             ultra   \n",
       "\n",
       "               minute_price  start_ride_price  subscription_fee  \n",
       "month user_id                                                    \n",
       "1     1                   6                 0               199  \n",
       "      3                   6                 0               199  \n",
       "      5                   6                 0               199  \n",
       "      7                   6                 0               199  \n",
       "      12                  6                 0               199  "
      ]
     },
     "execution_count": 61,
     "metadata": {},
     "output_type": "execute_result"
    }
   ],
   "source": [
    "#Проверяем\n",
    "agg_data.head()"
   ]
  },
  {
   "cell_type": "code",
   "execution_count": 62,
   "id": "af420938-c8d1-42dd-a8dc-8a8a8cb6ebd2",
   "metadata": {},
   "outputs": [
    {
     "data": {
      "text/plain": [
       "count_rides          0\n",
       "sum_distance         0\n",
       "sum_duration         0\n",
       "subscription_type    0\n",
       "minute_price         0\n",
       "start_ride_price     0\n",
       "subscription_fee     0\n",
       "dtype: int64"
      ]
     },
     "execution_count": 62,
     "metadata": {},
     "output_type": "execute_result"
    }
   ],
   "source": [
    "#Проверяем на пропуски\n",
    "agg_data.isna().sum()"
   ]
  },
  {
   "cell_type": "markdown",
   "id": "f51f05d9-d70a-45fd-b02e-f424a5a3ed37",
   "metadata": {
    "jp-MarkdownHeadingCollapsed": true
   },
   "source": [
    "#### 3.10 В этот же датафрейм добавим столбец с помесячной выручкой, которую принёс каждый пользователь "
   ]
  },
  {
   "cell_type": "code",
   "execution_count": 63,
   "id": "8ff36614-799b-42c9-ab62-77c169e55af2",
   "metadata": {},
   "outputs": [],
   "source": [
    "def func_monthly_revenue(row):\n",
    "    \"\"\"\n",
    "    Функция для расчета помесячной выручки\n",
    "    в качетсве аргумента принимает строку датафрейма\n",
    "    \"\"\"\n",
    "    result = (row['start_ride_price']*row['count_rides']) + \\\n",
    "    (row['minute_price']*row['sum_duration']) + row['subscription_fee']\n",
    "    return  result"
   ]
  },
  {
   "cell_type": "code",
   "execution_count": 64,
   "id": "948179e9-3dd7-406e-b933-379d7e69ed93",
   "metadata": {},
   "outputs": [
    {
     "name": "stdout",
     "output_type": "stream",
     "text": [
      "<class 'pandas.core.frame.DataFrame'>\n",
      "MultiIndex: 11331 entries, (1, 1) to (12, 1534)\n",
      "Data columns (total 8 columns):\n",
      " #   Column             Non-Null Count  Dtype  \n",
      "---  ------             --------------  -----  \n",
      " 0   count_rides        11331 non-null  int64  \n",
      " 1   sum_distance       11331 non-null  float64\n",
      " 2   sum_duration       11331 non-null  float64\n",
      " 3   subscription_type  11331 non-null  object \n",
      " 4   minute_price       11331 non-null  int64  \n",
      " 5   start_ride_price   11331 non-null  int64  \n",
      " 6   subscription_fee   11331 non-null  int64  \n",
      " 7   monthly_revenue    11331 non-null  float64\n",
      "dtypes: float64(3), int64(4), object(1)\n",
      "memory usage: 753.6+ KB\n"
     ]
    },
    {
     "data": {
      "text/plain": [
       "None"
      ]
     },
     "metadata": {},
     "output_type": "display_data"
    },
    {
     "data": {
      "text/html": [
       "<div>\n",
       "<style scoped>\n",
       "    .dataframe tbody tr th:only-of-type {\n",
       "        vertical-align: middle;\n",
       "    }\n",
       "\n",
       "    .dataframe tbody tr th {\n",
       "        vertical-align: top;\n",
       "    }\n",
       "\n",
       "    .dataframe thead th {\n",
       "        text-align: right;\n",
       "    }\n",
       "</style>\n",
       "<table border=\"1\" class=\"dataframe\">\n",
       "  <thead>\n",
       "    <tr style=\"text-align: right;\">\n",
       "      <th></th>\n",
       "      <th></th>\n",
       "      <th>count_rides</th>\n",
       "      <th>sum_distance</th>\n",
       "      <th>sum_duration</th>\n",
       "      <th>subscription_type</th>\n",
       "      <th>minute_price</th>\n",
       "      <th>start_ride_price</th>\n",
       "      <th>subscription_fee</th>\n",
       "      <th>monthly_revenue</th>\n",
       "    </tr>\n",
       "    <tr>\n",
       "      <th>month</th>\n",
       "      <th>user_id</th>\n",
       "      <th></th>\n",
       "      <th></th>\n",
       "      <th></th>\n",
       "      <th></th>\n",
       "      <th></th>\n",
       "      <th></th>\n",
       "      <th></th>\n",
       "      <th></th>\n",
       "    </tr>\n",
       "  </thead>\n",
       "  <tbody>\n",
       "    <tr>\n",
       "      <th rowspan=\"5\" valign=\"top\">12</th>\n",
       "      <th>1525</th>\n",
       "      <td>1</td>\n",
       "      <td>4597.85</td>\n",
       "      <td>34.0</td>\n",
       "      <td>free</td>\n",
       "      <td>8</td>\n",
       "      <td>50</td>\n",
       "      <td>0</td>\n",
       "      <td>322.0</td>\n",
       "    </tr>\n",
       "    <tr>\n",
       "      <th>1526</th>\n",
       "      <td>1</td>\n",
       "      <td>3644.12</td>\n",
       "      <td>23.0</td>\n",
       "      <td>free</td>\n",
       "      <td>8</td>\n",
       "      <td>50</td>\n",
       "      <td>0</td>\n",
       "      <td>234.0</td>\n",
       "    </tr>\n",
       "    <tr>\n",
       "      <th>1528</th>\n",
       "      <td>1</td>\n",
       "      <td>3998.57</td>\n",
       "      <td>11.0</td>\n",
       "      <td>free</td>\n",
       "      <td>8</td>\n",
       "      <td>50</td>\n",
       "      <td>0</td>\n",
       "      <td>138.0</td>\n",
       "    </tr>\n",
       "    <tr>\n",
       "      <th>1532</th>\n",
       "      <td>2</td>\n",
       "      <td>6111.89</td>\n",
       "      <td>42.0</td>\n",
       "      <td>free</td>\n",
       "      <td>8</td>\n",
       "      <td>50</td>\n",
       "      <td>0</td>\n",
       "      <td>436.0</td>\n",
       "    </tr>\n",
       "    <tr>\n",
       "      <th>1534</th>\n",
       "      <td>1</td>\n",
       "      <td>2371.71</td>\n",
       "      <td>16.0</td>\n",
       "      <td>free</td>\n",
       "      <td>8</td>\n",
       "      <td>50</td>\n",
       "      <td>0</td>\n",
       "      <td>178.0</td>\n",
       "    </tr>\n",
       "  </tbody>\n",
       "</table>\n",
       "</div>"
      ],
      "text/plain": [
       "               count_rides  sum_distance  sum_duration subscription_type  \\\n",
       "month user_id                                                              \n",
       "12    1525               1       4597.85          34.0              free   \n",
       "      1526               1       3644.12          23.0              free   \n",
       "      1528               1       3998.57          11.0              free   \n",
       "      1532               2       6111.89          42.0              free   \n",
       "      1534               1       2371.71          16.0              free   \n",
       "\n",
       "               minute_price  start_ride_price  subscription_fee  \\\n",
       "month user_id                                                     \n",
       "12    1525                8                50                 0   \n",
       "      1526                8                50                 0   \n",
       "      1528                8                50                 0   \n",
       "      1532                8                50                 0   \n",
       "      1534                8                50                 0   \n",
       "\n",
       "               monthly_revenue  \n",
       "month user_id                   \n",
       "12    1525               322.0  \n",
       "      1526               234.0  \n",
       "      1528               138.0  \n",
       "      1532               436.0  \n",
       "      1534               178.0  "
      ]
     },
     "metadata": {},
     "output_type": "display_data"
    },
    {
     "name": "stdout",
     "output_type": "stream",
     "text": [
      "None\n"
     ]
    }
   ],
   "source": [
    "agg_data['monthly_revenue'] = agg_data.apply(func_monthly_revenue, axis=1)\n",
    "                  \n",
    "# Проверяем\n",
    "print (display(agg_data.info(), agg_data.tail()))"
   ]
  },
  {
   "cell_type": "markdown",
   "id": "41545ac0",
   "metadata": {
    "jp-MarkdownHeadingCollapsed": true,
    "tags": []
   },
   "source": [
    "### Шаг 4. Проверка гипотез"
   ]
  },
  {
   "cell_type": "markdown",
   "id": "6f252ca7-af56-447d-8656-025522dc53fa",
   "metadata": {},
   "source": [
    "#### 4.1 Важно понять, тратят ли пользователи с подпиской больше времени на поездки? Если да, то пользователи с подпиской могут быть «выгоднее» для компании. Проверим гипотезу.\n",
    "\n",
    "Нулевая гипотеза: средние значения потраченного времени в обеих группах равны\n",
    "\n",
    "Альтернативная гипотеза: среднее значение потраченного времени у пользователей с подпиской больше, чем среднее потраченное время у пользователей без подписки."
   ]
  },
  {
   "cell_type": "code",
   "execution_count": 65,
   "id": "23ea867b",
   "metadata": {},
   "outputs": [
    {
     "name": "stdout",
     "output_type": "stream",
     "text": [
      "p-value: 1.2804098316645618e-34\n",
      "Отвергаем нулевую гипотезу \n",
      "\n",
      "Ср. значение времени поездки для пользователей с подпиской =  18.54 \n",
      "\n",
      "Ср. значение времени поездки для пользователей без подписки =  17.39 \n",
      "\n"
     ]
    }
   ],
   "source": [
    "#Уровень стат.значимости\n",
    "alpha = 0.05\n",
    "\n",
    "#проведем стат. тест\n",
    "results = st.ttest_ind(\n",
    "    general_data_with_ultra['duration'], \n",
    "    general_data_with_free['duration'],\n",
    "    alternative='greater'\n",
    ")\n",
    "\n",
    "#получившееся p-значение\n",
    "print('p-value:', results.pvalue)\n",
    "\n",
    "# проверяем p-value\n",
    "if results.pvalue < alpha:\n",
    "    print('Отвергаем нулевую гипотезу','\\n')\n",
    "else:\n",
    "    print('Нет оснований отвергнуть нулевую гипотезу','\\n')\n",
    "    \n",
    "#Средние значения \n",
    "print ('Ср. значение времени поездки для пользователей с подпиской = ', \n",
    "       round(general_data_with_ultra['duration'].mean(),2),'\\n')\n",
    "\n",
    "print ('Ср. значение времени поездки для пользователей без подписки = ', \n",
    "       round(general_data_with_free['duration'].mean(),2),'\\n')"
   ]
  },
  {
   "cell_type": "markdown",
   "id": "16645ead-729d-4226-bd68-914244008e98",
   "metadata": {},
   "source": [
    "Полученное значение p-value меньше заданного уровня значимости, поэтому можно отвергнуть нулевую гипотезу (т.е. вероятность получить наблюдаемые данные, подтверждающие нулевую гипотезу низки).\n",
    "\n",
    "Есть основания говорить, что пользователи с подпиской тратят больше времени на поездки."
   ]
  },
  {
   "cell_type": "markdown",
   "id": "ceaf127b-33e5-4308-a51e-f2046469ebb7",
   "metadata": {},
   "source": [
    "#### 4.2 Расстояние одной поездки в 3130 метров — оптимальное с точки зрения износа самоката. Проверим, можно ли сказать, что расстояние, которое проезжают пользователи с подпиской за одну поездку, не превышает 3130 метров? 4\n",
    "Нулевая гипотеза: среднее расстояние поездки равно 3130м\n",
    "\n",
    "Альтернативная гипотеза: среднее расстояние поездки больше 3130м"
   ]
  },
  {
   "cell_type": "code",
   "execution_count": 66,
   "id": "31684b4f-e1f6-4dd3-bb48-708378f07818",
   "metadata": {},
   "outputs": [
    {
     "name": "stdout",
     "output_type": "stream",
     "text": [
      "p-value: 0.9195368847849785\n",
      "Не отвергаем нулевую гипотезу \n",
      "\n",
      "Ср. значение проезжаемого расстояния для пользователей с подпиской =  3115.45\n"
     ]
    }
   ],
   "source": [
    "set_distance = 3130\n",
    "\n",
    "# уровень статистической значимости\n",
    "alpha = 0.05 \n",
    "\n",
    "#проведем стат. тест\n",
    "results = st.ttest_1samp(\n",
    "    general_data_with_ultra['distance'], \n",
    "    set_distance,\n",
    "    alternative='greater'\n",
    ")\n",
    "\n",
    "print('p-value:', results.pvalue)\n",
    "\n",
    "if (results.pvalue < alpha):\n",
    "    print('Отвергаем нулевую гипотезу','\\n')\n",
    "else:\n",
    "    print('Не отвергаем нулевую гипотезу','\\n')\n",
    "    \n",
    "print ('Ср. значение проезжаемого расстояния \\\n",
    "для пользователей с подпиской = ', \n",
    "       round(general_data_with_ultra['distance'].mean(),2))"
   ]
  },
  {
   "cell_type": "markdown",
   "id": "2d901451-1a78-43a4-94a6-2e1129efaa42",
   "metadata": {},
   "source": [
    "Первый и третий квантили = 2925 м и 3312.2 м.\n",
    "\n",
    "Вероятность получить в нашей выборке наблюдаемое значение (3130м) или меньшее составляет 92 процента. \n",
    "\n",
    "Соответственно, по результатам стат.теста можно считать, что расстояние, которое проезжают пользователи с подпиской за одну поездку не превышает 3130м. И в большинстве случаев проезжаемое расстояние будет оптимальным с точки зрения износа самоката.  \n"
   ]
  },
  {
   "cell_type": "markdown",
   "id": "040ed154-d8fe-43d1-8076-8aa7b7a69a2d",
   "metadata": {},
   "source": [
    "#### 4.3. Проверим гипотезу о том, будет ли помесячная выручка от пользователей с подпиской по месяцам выше, чем выручка от пользователей без подписки\n",
    "\n",
    "Нулевая гипотеза: помесячная выручка в обеих группах равна\n",
    "\n",
    "Альтернативная гипотеза: помесячная выручка от пользователей с подпиской больше, чем помесячная выручка от пользователей без подписки."
   ]
  },
  {
   "cell_type": "code",
   "execution_count": 67,
   "id": "cb5d02b7-1d59-4b1a-89fc-10ea212fbc98",
   "metadata": {},
   "outputs": [
    {
     "name": "stdout",
     "output_type": "stream",
     "text": [
      "p-value: 1.8850394384715216e-31\n",
      "Отвергаем нулевую гипотезу \n",
      "\n",
      "Ср. значение помесячной выручки для пользователей с подпиской =  362.79\n",
      "Ср. значение помесячной выручки для пользователей без подписки =  328.64\n"
     ]
    }
   ],
   "source": [
    "monthly_revenue_ultra = agg_data.query(\n",
    "    'subscription_type == \"ultra\"'\n",
    ")['monthly_revenue']\n",
    "\n",
    "monthly_revenue_free = agg_data.query(\n",
    "    'subscription_type == \"free\"'\n",
    ")['monthly_revenue']\n",
    "\n",
    "#Уровень стат.значимости\n",
    "alpha = 0.05\n",
    "\n",
    "#проведем стат. тест\n",
    "results = st.ttest_ind(\n",
    "    monthly_revenue_ultra, \n",
    "    monthly_revenue_free,\n",
    "    alternative='greater'\n",
    ")\n",
    "\n",
    "#получившееся p-значение\n",
    "print('p-value:', results.pvalue)\n",
    "\n",
    "# проверяем p-value\n",
    "if results.pvalue < alpha:\n",
    "    print('Отвергаем нулевую гипотезу','\\n')\n",
    "else:\n",
    "    print('Нет оснований отвергнуть нулевую гипотезу','\\n')\n",
    "    \n",
    "print ('Ср. значение помесячной выручки \\\n",
    "для пользователей с подпиской = ', \n",
    "       round(monthly_revenue_ultra.mean(),2))\n",
    "\n",
    "print ('Ср. значение помесячной выручки \\\n",
    "для пользователей без подписки = ', \n",
    "       round(monthly_revenue_free.mean(),2))"
   ]
  },
  {
   "cell_type": "markdown",
   "id": "c79917b6-4c6e-43d3-bbdb-08857d955482",
   "metadata": {
    "editable": true,
    "slideshow": {
     "slide_type": ""
    },
    "tags": []
   },
   "source": [
    "Полученное значение p-value меньше заданного уровня значимости, поэтому можно отвергнуть нулевую гипотезу. Есть основания говорить, что пользователи с подпиской приносят большую помесячную выручку, чем бользователи без подписки."
   ]
  },
  {
   "cell_type": "markdown",
   "id": "61213c5e",
   "metadata": {
    "jp-MarkdownHeadingCollapsed": true,
    "tags": []
   },
   "source": [
    "### Шаг 5. Найдем минимальное количество промокодов для акции"
   ]
  },
  {
   "cell_type": "markdown",
   "id": "748a6498-f970-4b31-8061-b6ec49af3991",
   "metadata": {},
   "source": [
    "Отделу маркетинга GoFast поставили задачу: нужно провести акцию с раздачей промокодов на один бесплатный месяц подписки, в рамках которой как минимум 100 существующих клиентов должны продлить эту подписку. То есть по завершении периода действия подписки пользователь может либо отказаться от неё, либо продлить, совершив соответствующий платёж. \n",
    "Эта акция уже проводилась ранее и по итогу выяснилось, что после бесплатного пробного периода подписку продлевают 10 % пользователей. Выясните, какое минимальное количество промокодов нужно разослать, чтобы вероятность не выполнить план была примерно 5 %. Подберите параметры распределения, описывающего эту ситуацию, постройте график распределения и сформулируйте ответ на вопрос о количестве промокодов."
   ]
  },
  {
   "cell_type": "code",
   "execution_count": 68,
   "id": "7ff96185-76dc-48fe-8ab4-b56191ebba55",
   "metadata": {},
   "outputs": [
    {
     "name": "stdout",
     "output_type": "stream",
     "text": [
      "Вероятность получить продление менее чем от 100 чел =  0.05 \n",
      "Нужное для этого кол-во промокодов = 1169\n"
     ]
    }
   ],
   "source": [
    "from math import sqrt\n",
    "import matplotlib.pyplot as plt\n",
    "from scipy.stats import binom, norm\n",
    "\n",
    "#Параметры биномиального распределения\n",
    "n = 1000\n",
    "p = 0.1\n",
    "\n",
    "#Начальное значение вероятности\n",
    "prob = 0.3\n",
    "\n",
    "#Порог\n",
    "alpha = 0.05\n",
    "\n",
    "while (prob>=alpha):\n",
    "    n+=1\n",
    "    \n",
    "    #Расчитаем параметры нормального распр.\n",
    "    mu = n*p\n",
    "    sigma = sqrt(n*p*(1-p))\n",
    "    \n",
    "    #Задаем норм. распределение\n",
    "    distr = st.norm(mu,sigma)\n",
    "    \n",
    "    prob = distr.cdf(100)\n",
    " \n",
    "print('Вероятность получить продление менее чем от 100 чел = ', \n",
    "      round(prob,2),'\\n'\n",
    "      'Нужное для этого кол-во промокодов =', n)"
   ]
  },
  {
   "cell_type": "markdown",
   "id": "1d70a33f-35dc-4252-9a49-d9cc4e078c91",
   "metadata": {},
   "source": [
    "Запишем вспомогательную функцию, кот. понадобится для визуализации нормального распределения:"
   ]
  },
  {
   "cell_type": "code",
   "execution_count": 69,
   "id": "a691bf76-ab89-49b7-af4a-5705dc8d3c18",
   "metadata": {},
   "outputs": [],
   "source": [
    "def linspace(start, stop, num):\n",
    "    \"\"\"\n",
    "    зададим функцию, которая выдаёт <num> чисел,\n",
    "    равномерно распределённых от <start> до <stop>\n",
    "    \"\"\"\n",
    "    step = (stop - start) / (num - 1)\n",
    "    result = []\n",
    "    for i in range(num):\n",
    "        result.append(start + step * i)\n",
    "    return result"
   ]
  },
  {
   "cell_type": "markdown",
   "id": "40b3fcc8-f4e6-47e4-afab-f7517f71b6cd",
   "metadata": {},
   "source": [
    "Границы промежутка, в котором будем строить аппроксимацию n*p ± 4 ст.отклонения бином.распределения (там, где вероятности значений почти не равны нулю)"
   ]
  },
  {
   "cell_type": "code",
   "execution_count": 70,
   "id": "cd4d6972-1407-40ab-88c8-6351550fd071",
   "metadata": {},
   "outputs": [
    {
     "data": {
      "image/png": "[encoded data removed]",
      "text/plain": [
       "<Figure size 640x480 with 1 Axes>"
      ]
     },
     "metadata": {},
     "output_type": "display_data"
    }
   ],
   "source": [
    "left = int(n * p - 4 * sqrt(n * p * (1 - p)))\n",
    "right = int(n * p + 4 * sqrt(n * p * (1 - p)))\n",
    " \n",
    "#зададим набор значений бином. величины на выбранном промежутке:\n",
    "# все неотрицательные целые числа от left до right\n",
    "x = list(range(max(0, left), right))\n",
    "\n",
    "# рисуем график биномиального распределения\n",
    "ax = plt.subplot()\n",
    "ax.plot(\n",
    "    x, binom.pmf(x, n, p), \n",
    "    'ro', ms=4,\n",
    "    label='вероятности биномиального распределения')\n",
    "\n",
    "# рисуем график нормального распределения:\n",
    "# получим список из 100 чисел от left до right\n",
    "x = linspace(left, right, 100)\n",
    "ax.plot(\n",
    "    x,  norm.pdf(x, mu, sigma), \n",
    "    'b-', lw=3, alpha=0.3, \n",
    "    label='плотность вероятности нормального распределения')\n",
    "\n",
    "ax.plot(\n",
    "    [100,100],\n",
    "    [0,0.04],\n",
    "    linewidth=3,\n",
    "    alpha=0.3\n",
    ")\n",
    "\n",
    "# настраиваем оптимальное расположение легенды и выводим график\n",
    "ax.legend(bbox_to_anchor=(1.0, 1.0))\n",
    "ax.set_title(\n",
    "    'Аппроксимация биномиального распр. нормальным для текущей задачи'\n",
    ")\n",
    "plt.show()\n"
   ]
  },
  {
   "cell_type": "markdown",
   "id": "0345875b-a419-4d47-82d3-34e149db8dd7",
   "metadata": {},
   "source": [
    "Чтобы вероятность не выполнить план (получить меньше 100 продлений) была примерно 5 %, необходимо разослать минимум 1169 промокодов."
   ]
  },
  {
   "cell_type": "markdown",
   "id": "51db71be-ce40-4765-bded-a1ea7518f54f",
   "metadata": {
    "tags": []
   },
   "source": [
    "<a id='section_8'></a>\n",
    "### Шаг 6. Общий вывод"
   ]
  },
  {
   "cell_type": "markdown",
   "id": "2925365c-6a22-4724-89ef-0500dcfea013",
   "metadata": {},
   "source": [
    "#### Цели исследования:\n",
    "\n",
    "GoFast - сервис аренды самокатов. Есть данные о некоторых пользователях из нескольких городов, а также об их поездках. \n",
    "\n",
    "Необходимо проанализировать данные и проверить некоторые предложенные гипотезы, которые могут помочь бизнесу вырасти.\n",
    "\n",
    "Гипотезы:\n",
    "\n",
    " 1) Тратят ли пользователи с подпиской больше времени на поездки? Если да, то пользователи с подпиской могут быть «выгоднее» для компании.\n",
    "\n",
    " 2) Расстояние одной поездки в 3130 метров — оптимальное с точки зрения износа самоката. Можно ли сказать, что расстояние, которое проезжают пользователи с подпиской за одну поездку, не превышает 3130 метров? \n",
    "\n",
    " 3) Будет ли помесячная выручка от пользователей с подпиской по месяцам выше, чем выручка от пользователей без подписки?\n",
    "\n",
    "***\n",
    "#### Полученные данные были изучены и прошли следующую обработку:\n",
    "\n",
    "В полученных данных содержится информация о 18068 поездках от 1565 пользователей. Все поездки совершены за 2021год.\n",
    "\n",
    "* В датафрейме пользователей было обнаружено и удалено 31 строк-дубликатов.\n",
    "\n",
    "* Пропущенных значений в датафреймах не было обнаружено.\n",
    "\n",
    "* В датафрейме поездок был изменен тип столбца `date` на тип datetime.\n",
    "\n",
    "* В датафрейм поездок был добавлен столбец `month`, содержащий месяц поездки и столбец `count_rides`, содержащий количество поездок.\n",
    "\n",
    "* Данные о пользователях, поездках и подписках были объединены в один датафрейм `general_data`.\n",
    "\n",
    "* Были созданы еще два датафрейма c данными о пользователях с подпиской `general_data_with_ultra` и без `general_data_with_free`.\n",
    "\n",
    "* Данные столбцов `duration` были округлены до целого, данные столбца `distance` были округлены до второго знака после запятой.\n",
    "\n",
    "* Найдено и добавлено в новый датафрейм `agg_data` суммарное расстояние, количество поездок и суммарное время для каждого пользователя за каждый месяц, а также выручка по пользователям по месяцам.\n",
    "\n",
    "***"
   ]
  },
  {
   "cell_type": "markdown",
   "id": "6905d427-12dd-4df4-b814-54aae070c09b",
   "metadata": {},
   "source": [
    "#### Анализ и исследования:\n",
    "\n",
    "**Опиcание и визуализация информации о пользователях и поездках:**\n",
    "\n",
    "* Больше всего пользователей в Пятигорске - 219 и меньше всего в Москве - 168.\n",
    "\n",
    "* Чаще встречаются пользователи без подписки, их 54.4%. С подпиской - 45.6%.\n",
    "\n",
    "* Сервисом пользуются люди разных возрастов от 12 до 43 лет. Больше всего пользователей в возрасте от 22 до 28 лет, медианное значение - 25 лет.\n",
    "\n",
    "  Среди пользователей с подпиской также чаще встречаются люди 22-28 лет.\n",
    "\n",
    "* В среднем пользователи за одну поездку преодолевают расстояние 3077.3 м. Стандартное отклонение от среднего 328 м.\n",
    "\n",
    "  Была обнаружена некоторая бимодальность распределения:\n",
    "  * чаще других встречаются длинные поездки около 2900-3200 м.\n",
    "  * чаще других встречаются короткие поездки около 600-800 м.\n",
    "\n",
    "  Было проанализирвоано предположение, что короткие поездки совершили пользователи, которым не понравился сервис. Но у пользователей, проехавших такое расстояние были обнаружены еще поездки (больше пяти). Если бы пользователям не понравился сервис, у них не было бы нескольких поездок, поэтому предположение отвергли. Природа всплеска пока остается неизвестной, и требует дополнительного анализа.\n",
    "\n",
    "* Средняя длительность поездок пользователей - 17.9 мин. Стандартное отклонение от среднего 2 мин.\n",
    "\n",
    "  Также есть небольшой всплеск поездок длительностью меньше 1 минуты, таких поездок - 95 (всего же поездок 18068). Все эти поездки были совершены пользователями без подписки, и их расстояние больше 4030м, а время поездки у всех равно 0.5 мин. \n",
    " \n",
    "  Было проанализировано предположение, что есть какая-то ошибка в датчике самокатов или приложении для расстояний больше 4030м, но были обнаружены многие другие поездки расстоянием более 4030 м, где длительность считалась корректно, поэтому предположение отвергнуто. Природа появления таких коротких поездок с большим расстоянием остается неизвестной, и требует дополнительного анализа. \n",
    "\n",
    "* Средняя продолжительность поездок для пользователей с подпиской - 18.6 мин, стандартное отклонение 2 мин.\n",
    "\n",
    "  Средняя продолжительность поездок для пользователей без подписки - 17.4 мин, стандартное отклонение 1.8 мин.\n",
    "\n",
    "  Среди пользователей с подпиской встречаются более долгие поездки (более 35 минут) чем у пользователей без подписки.\n",
    "\n",
    "  У пользователей без подписки больший разброс от среднего значения.\n",
    "\n",
    "* Ср. расстояние для пользователей с подпиской равно 3113 м, стандартное отклонение - 299 м.\n",
    "\n",
    "  Ср. расстояние для пользователей без подписки равно 3047 м, стандартное отклонение - 347 м.\n",
    "\n",
    "  Для пользователей с подпиской есть несколько пиков проезжаемых расстояний: около 1000 м, около 3100 м и около 4100 м.\n",
    "\n",
    "  Для пользователей без подписки наблюдается больший разброс от среднего значения, и бимодальность - два пика проезжаемых расстояний: около 600-800 м, и около 3000 м.\n",
    "\n",
    "**Проведен анализ следующих гипотез:**\n",
    "\n",
    "**1)** Тратят ли пользователи с подпиской больше времени на поездки? Если да, то пользователи с подпиской могут быть «выгоднее» для компании.\n",
    "\n",
    "Нулевая гипотеза: средние значения потраченного времени в обеих группах равны.\n",
    "\n",
    "Альтернативная гипотеза: среднее значение потраченного времени у пользователей с подпиской больше, чем среднее потраченное время у пользователей без подписки.\n",
    "\n",
    "Уровень статистической значимости был принят 0.05, полученное p-value: 1.28e-34. \n",
    "\n",
    "Есть основания говорить, что пользователи с подпиской тратят больше времени на поездки, и соответсвенно являются более \"выгодными\" для компании.\n",
    "\n",
    "**2)** Расстояние одной поездки в 3130 метров — оптимальное с точки зрения износа самоката. Можно ли сказать, что расстояние, которое проезжают пользователи с подпиской за одну поездку, не превышает 3130 метров? \n",
    "\n",
    "Нулевая гипотеза: среднее расстояние поездки равно 3130 м.\n",
    "\n",
    "Альтернативная гипотеза: среднее расстояние поездки больше 3130 м.\n",
    "\n",
    "Уровень статистической значимости был принят 0.05, полученное p-value: 0.92. \n",
    "\n",
    "Вероятность получить в нашей выборке наблюдаемое значение (3130м) или меньшее составляет 92 процента. Соответственно, по результатам стат.теста можно считать, что расстояние, которое проезжают пользователи с подпиской за одну поездку не превышает 3130м. И в большинстве случаев проезжаемое расстояние будет оптимальным с точки зрения износа самоката.  \n",
    "\n",
    "**3)** Будет ли помесячная выручка от пользователей с подпиской по месяцам выше, чем выручка от пользователей без подписки?\n",
    "\n",
    "Нулевая гипотеза: помесячная выручка в обеих группах равна.\n",
    "\n",
    "Альтернативная гипотеза: помесячная выручка от пользователей с подпиской больше, чем помесячная выручка от пользователей без подписки.\n",
    "\n",
    "Уровень статистической значимости был принят 0.05, полученное p-value: 1.885e-31. \n",
    "\n",
    "Есть основания говорить, что пользователи с подпиской приносят большую помесячную выручку, чем бользователи без подписки.\n"
   ]
  },
  {
   "cell_type": "markdown",
   "id": "cd3b7019-6388-4f21-943b-8bd551d54315",
   "metadata": {},
   "source": [
    "***\n",
    "\n",
    "#### Дополнительные результаты и выводы исследования:\n",
    "\n",
    "* Пользователи без подписки приносят меньшую помесячную выручку чем пользователи с подпиской, хотя проезжают за одну поездку примерно столько же, сколько и пользователи с подпиской. Тем самым они приносят такой же примерно износ самокатов за меньшие деньги. А если еще учесть тот факт, что пользователей без подписки больше, то получаем еще меньшую выгодность.\n",
    "\n",
    "* Обнаружена некоторая аномалия/ошибка: в 95 поездках пользователей без подписки не произведен подсчет времени - т.е. во всех длительностях поездок стоит значение 0.5 мин, хотя пользователи проезжали от 4030 м до 7200 м.\n",
    "\n",
    "***\n"
   ]
  },
  {
   "cell_type": "markdown",
   "id": "d5b78caa-e963-40e6-8b40-2e2cd9dd35e8",
   "metadata": {},
   "source": [
    "#### Рекомендации:\n",
    "\n",
    "Клиенты с подпиской, являются более выгодными для бизнеса, поэтому важно стимулировать клиентов к оформлению подписки.\n",
    "\n",
    "Для роста бизнеса можно провести рекламные компании/акции для людей в возрасте от 22 до 28 лет.\n"
   ]
  },
  {
   "cell_type": "code",
   "execution_count": null,
   "id": "b442006b-3bf7-4b15-954f-d25b5792a946",
   "metadata": {
    "editable": true,
    "slideshow": {
     "slide_type": ""
    },
    "tags": []
   },
   "outputs": [],
   "source": []
  }
 ],
 "metadata": {
  "ExecuteTimeLog": [
   {
    "duration": 1489,
    "start_time": "2023-07-18T08:14:05.320Z"
   },
   {
    "duration": 75,
    "start_time": "2023-07-18T08:14:06.811Z"
   },
   {
    "duration": 65,
    "start_time": "2023-07-18T08:14:06.888Z"
   },
   {
    "duration": 52,
    "start_time": "2023-07-18T08:14:06.956Z"
   },
   {
    "duration": 19,
    "start_time": "2023-07-18T08:14:07.010Z"
   },
   {
    "duration": 34,
    "start_time": "2023-07-18T08:14:07.031Z"
   },
   {
    "duration": 15,
    "start_time": "2023-07-18T08:14:07.067Z"
   },
   {
    "duration": 10,
    "start_time": "2023-07-18T08:14:07.084Z"
   },
   {
    "duration": 17,
    "start_time": "2023-07-18T08:14:07.096Z"
   },
   {
    "duration": 5,
    "start_time": "2023-07-18T08:14:07.116Z"
   },
   {
    "duration": 16,
    "start_time": "2023-07-18T08:14:07.123Z"
   },
   {
    "duration": 13,
    "start_time": "2023-07-18T08:14:07.141Z"
   },
   {
    "duration": 23,
    "start_time": "2023-07-18T08:14:07.156Z"
   },
   {
    "duration": 17,
    "start_time": "2023-07-18T08:14:07.180Z"
   },
   {
    "duration": 19,
    "start_time": "2023-07-18T08:14:07.199Z"
   },
   {
    "duration": 40,
    "start_time": "2023-07-18T08:14:07.220Z"
   },
   {
    "duration": 22,
    "start_time": "2023-07-18T08:14:07.261Z"
   },
   {
    "duration": 9,
    "start_time": "2023-07-18T08:14:07.285Z"
   },
   {
    "duration": 19,
    "start_time": "2023-07-18T08:14:07.295Z"
   },
   {
    "duration": 181,
    "start_time": "2023-07-18T08:14:07.316Z"
   },
   {
    "duration": 7,
    "start_time": "2023-07-18T08:14:07.498Z"
   },
   {
    "duration": 125,
    "start_time": "2023-07-18T08:14:07.507Z"
   },
   {
    "duration": 5,
    "start_time": "2023-07-18T08:14:07.633Z"
   },
   {
    "duration": 14,
    "start_time": "2023-07-18T08:14:07.640Z"
   },
   {
    "duration": 194,
    "start_time": "2023-07-18T08:14:07.656Z"
   },
   {
    "duration": 165,
    "start_time": "2023-07-18T08:14:07.853Z"
   },
   {
    "duration": 287,
    "start_time": "2023-07-18T08:14:08.020Z"
   },
   {
    "duration": 7,
    "start_time": "2023-07-18T08:14:08.311Z"
   },
   {
    "duration": 34,
    "start_time": "2023-07-18T08:14:08.320Z"
   },
   {
    "duration": 280,
    "start_time": "2023-07-18T08:14:08.356Z"
   },
   {
    "duration": 178,
    "start_time": "2023-07-18T08:14:08.638Z"
   },
   {
    "duration": 868,
    "start_time": "2023-07-18T08:14:08.818Z"
   },
   {
    "duration": 307,
    "start_time": "2023-07-18T08:14:09.687Z"
   },
   {
    "duration": 8,
    "start_time": "2023-07-18T08:14:09.996Z"
   },
   {
    "duration": 15,
    "start_time": "2023-07-18T08:14:10.006Z"
   },
   {
    "duration": 30,
    "start_time": "2023-07-18T08:14:10.023Z"
   },
   {
    "duration": 44,
    "start_time": "2023-07-18T08:14:10.054Z"
   },
   {
    "duration": 12,
    "start_time": "2023-07-18T08:14:10.099Z"
   },
   {
    "duration": 867,
    "start_time": "2023-07-18T08:14:10.112Z"
   },
   {
    "duration": 146,
    "start_time": "2023-07-18T08:14:10.981Z"
   },
   {
    "duration": 10,
    "start_time": "2023-07-18T08:14:11.129Z"
   },
   {
    "duration": 26,
    "start_time": "2023-07-18T08:14:11.141Z"
   },
   {
    "duration": 12,
    "start_time": "2023-07-18T08:14:11.169Z"
   },
   {
    "duration": 22,
    "start_time": "2023-07-18T08:14:11.182Z"
   },
   {
    "duration": 16,
    "start_time": "2023-07-18T08:14:11.206Z"
   },
   {
    "duration": 806,
    "start_time": "2023-07-18T08:14:11.224Z"
   },
   {
    "duration": 4,
    "start_time": "2023-07-18T08:14:12.031Z"
   },
   {
    "duration": 869,
    "start_time": "2023-07-18T08:14:12.037Z"
   },
   {
    "duration": 4,
    "start_time": "2023-07-18T08:14:12.908Z"
   },
   {
    "duration": 813,
    "start_time": "2023-07-18T08:14:12.914Z"
   },
   {
    "duration": 4,
    "start_time": "2023-07-18T08:14:13.729Z"
   },
   {
    "duration": 954,
    "start_time": "2023-07-18T08:14:13.734Z"
   },
   {
    "duration": 4,
    "start_time": "2023-07-18T08:14:14.690Z"
   },
   {
    "duration": 21,
    "start_time": "2023-07-18T08:14:14.695Z"
   },
   {
    "duration": 8,
    "start_time": "2023-07-18T08:14:14.718Z"
   },
   {
    "duration": 23,
    "start_time": "2023-07-18T08:14:14.727Z"
   },
   {
    "duration": 36,
    "start_time": "2023-07-18T08:14:14.751Z"
   },
   {
    "duration": 19,
    "start_time": "2023-07-18T08:14:14.789Z"
   },
   {
    "duration": 5,
    "start_time": "2023-07-18T08:14:14.810Z"
   },
   {
    "duration": 12,
    "start_time": "2023-07-18T08:14:14.816Z"
   },
   {
    "duration": 61,
    "start_time": "2023-07-18T08:14:14.829Z"
   },
   {
    "duration": 11,
    "start_time": "2023-07-18T08:14:14.892Z"
   },
   {
    "duration": 182,
    "start_time": "2023-07-18T08:14:14.905Z"
   },
   {
    "duration": 202,
    "start_time": "2023-07-18T08:14:15.089Z"
   },
   {
    "duration": 274,
    "start_time": "2023-07-18T08:14:18.947Z"
   },
   {
    "duration": 182,
    "start_time": "2023-07-18T08:14:24.064Z"
   },
   {
    "duration": 147,
    "start_time": "2023-07-18T09:16:19.484Z"
   },
   {
    "duration": 285,
    "start_time": "2023-07-18T09:16:23.743Z"
   },
   {
    "duration": 800,
    "start_time": "2023-07-18T09:17:29.947Z"
   },
   {
    "duration": 924,
    "start_time": "2023-07-18T09:17:33.211Z"
   }
  ],
  "kernelspec": {
   "display_name": "Python 3 (ipykernel)",
   "language": "python",
   "name": "python3"
  },
  "language_info": {
   "codemirror_mode": {
    "name": "ipython",
    "version": 3
   },
   "file_extension": ".py",
   "mimetype": "text/x-python",
   "name": "python",
   "nbconvert_exporter": "python",
   "pygments_lexer": "ipython3",
   "version": "3.9.18"
  },
  "toc": {
   "base_numbering": 1,
   "nav_menu": {},
   "number_sections": true,
   "sideBar": true,
   "skip_h1_title": true,
   "title_cell": "Table of Contents",
   "title_sidebar": "Contents",
   "toc_cell": false,
   "toc_position": {},
   "toc_section_display": true,
   "toc_window_display": false
  }
 },
 "nbformat": 4,
 "nbformat_minor": 5
}
