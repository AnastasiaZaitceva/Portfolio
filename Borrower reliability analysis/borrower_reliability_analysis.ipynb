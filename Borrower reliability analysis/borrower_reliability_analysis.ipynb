{
 "cells": [
  {
   "cell_type": "markdown",
   "id": "6ceb6004-2e21-4c55-aeb0-02277e4024bf",
   "metadata": {},
   "source": [
    "# Задача: \"Исследование надежности заемщиков\""
   ]
  },
  {
   "cell_type": "markdown",
   "id": "6c740320-a03a-45d3-b36f-f3fa4b3cf6ce",
   "metadata": {},
   "source": [
    "**Заказчик** — кредитный отдел банка. \n",
    "\n",
    "**Цель** - Нужно разобраться, влияет ли семейное положение и количество детей клиента на факт погашения кредита в срок.\n",
    "\n",
    "**Входные данные от банка** — статистика о платёжеспособности клиентов.\n",
    "\n",
    "Результаты исследования будут учтены при построении модели кредитного скоринга — специальной системы, которая оценивает способность потенциального заёмщика вернуть кредит банку.\n",
    "\n"
   ]
  },
  {
   "cell_type": "markdown",
   "id": "34ffa20a-72e6-4bf9-83c8-b6496cbcb5ed",
   "metadata": {},
   "source": [
    "**Описание данных:**\n",
    "* children — количество детей в семье\n",
    "* days_employed — общий трудовой стаж в днях\n",
    "* dob_years — возраст клиента в годах\n",
    "* education — уровень образования клиента\n",
    "* education_id — идентификатор уровня образования\n",
    "* family_status — семейное положение\n",
    "* family_status_id — идентификатор семейного положения\n",
    "* gender — пол клиента\n",
    "* income_type — тип занятости\n",
    "* debt — имел ли задолженность по возврату кредитов\n",
    "* total_income — ежемесячный доход\n",
    "* purpose — цель получения кредита"
   ]
  },
  {
   "cell_type": "markdown",
   "id": "1205d364-5b63-4bef-b59a-25699c24c8ad",
   "metadata": {},
   "source": [
    "### Шаг 1. Загрузка данных, изучение общей информации"
   ]
  },
  {
   "cell_type": "code",
   "execution_count": 1,
   "id": "e0eda0d5-fd91-42ca-ad4d-b33ac30af7c5",
   "metadata": {},
   "outputs": [],
   "source": [
    "import pandas as pd"
   ]
  },
  {
   "cell_type": "code",
   "execution_count": 2,
   "id": "760931cb-b11c-4190-b765-36bed75f21ae",
   "metadata": {},
   "outputs": [],
   "source": [
    "#Загружаем данные\n",
    "data =  pd.read_csv('C:/Users/ratus/DATA_SCIENCE/итоговые проекты/0/data.csv')"
   ]
  },
  {
   "cell_type": "code",
   "execution_count": 3,
   "id": "8dda0cd6-5056-45e4-a2a3-cf881367d550",
   "metadata": {},
   "outputs": [
    {
     "data": {
      "text/html": [
       "<div>\n",
       "<style scoped>\n",
       "    .dataframe tbody tr th:only-of-type {\n",
       "        vertical-align: middle;\n",
       "    }\n",
       "\n",
       "    .dataframe tbody tr th {\n",
       "        vertical-align: top;\n",
       "    }\n",
       "\n",
       "    .dataframe thead th {\n",
       "        text-align: right;\n",
       "    }\n",
       "</style>\n",
       "<table border=\"1\" class=\"dataframe\">\n",
       "  <thead>\n",
       "    <tr style=\"text-align: right;\">\n",
       "      <th></th>\n",
       "      <th>children</th>\n",
       "      <th>days_employed</th>\n",
       "      <th>dob_years</th>\n",
       "      <th>education</th>\n",
       "      <th>education_id</th>\n",
       "      <th>family_status</th>\n",
       "      <th>family_status_id</th>\n",
       "      <th>gender</th>\n",
       "      <th>income_type</th>\n",
       "      <th>debt</th>\n",
       "      <th>total_income</th>\n",
       "      <th>purpose</th>\n",
       "    </tr>\n",
       "  </thead>\n",
       "  <tbody>\n",
       "    <tr>\n",
       "      <th>0</th>\n",
       "      <td>1</td>\n",
       "      <td>-8437.673028</td>\n",
       "      <td>42</td>\n",
       "      <td>высшее</td>\n",
       "      <td>0</td>\n",
       "      <td>женат / замужем</td>\n",
       "      <td>0</td>\n",
       "      <td>F</td>\n",
       "      <td>сотрудник</td>\n",
       "      <td>0</td>\n",
       "      <td>253875.639453</td>\n",
       "      <td>покупка жилья</td>\n",
       "    </tr>\n",
       "    <tr>\n",
       "      <th>1</th>\n",
       "      <td>1</td>\n",
       "      <td>-4024.803754</td>\n",
       "      <td>36</td>\n",
       "      <td>среднее</td>\n",
       "      <td>1</td>\n",
       "      <td>женат / замужем</td>\n",
       "      <td>0</td>\n",
       "      <td>F</td>\n",
       "      <td>сотрудник</td>\n",
       "      <td>0</td>\n",
       "      <td>112080.014102</td>\n",
       "      <td>приобретение автомобиля</td>\n",
       "    </tr>\n",
       "    <tr>\n",
       "      <th>2</th>\n",
       "      <td>0</td>\n",
       "      <td>-5623.422610</td>\n",
       "      <td>33</td>\n",
       "      <td>Среднее</td>\n",
       "      <td>1</td>\n",
       "      <td>женат / замужем</td>\n",
       "      <td>0</td>\n",
       "      <td>M</td>\n",
       "      <td>сотрудник</td>\n",
       "      <td>0</td>\n",
       "      <td>145885.952297</td>\n",
       "      <td>покупка жилья</td>\n",
       "    </tr>\n",
       "    <tr>\n",
       "      <th>3</th>\n",
       "      <td>3</td>\n",
       "      <td>-4124.747207</td>\n",
       "      <td>32</td>\n",
       "      <td>среднее</td>\n",
       "      <td>1</td>\n",
       "      <td>женат / замужем</td>\n",
       "      <td>0</td>\n",
       "      <td>M</td>\n",
       "      <td>сотрудник</td>\n",
       "      <td>0</td>\n",
       "      <td>267628.550329</td>\n",
       "      <td>дополнительное образование</td>\n",
       "    </tr>\n",
       "    <tr>\n",
       "      <th>4</th>\n",
       "      <td>0</td>\n",
       "      <td>340266.072047</td>\n",
       "      <td>53</td>\n",
       "      <td>среднее</td>\n",
       "      <td>1</td>\n",
       "      <td>гражданский брак</td>\n",
       "      <td>1</td>\n",
       "      <td>F</td>\n",
       "      <td>пенсионер</td>\n",
       "      <td>0</td>\n",
       "      <td>158616.077870</td>\n",
       "      <td>сыграть свадьбу</td>\n",
       "    </tr>\n",
       "    <tr>\n",
       "      <th>5</th>\n",
       "      <td>0</td>\n",
       "      <td>-926.185831</td>\n",
       "      <td>27</td>\n",
       "      <td>высшее</td>\n",
       "      <td>0</td>\n",
       "      <td>гражданский брак</td>\n",
       "      <td>1</td>\n",
       "      <td>M</td>\n",
       "      <td>компаньон</td>\n",
       "      <td>0</td>\n",
       "      <td>255763.565419</td>\n",
       "      <td>покупка жилья</td>\n",
       "    </tr>\n",
       "    <tr>\n",
       "      <th>6</th>\n",
       "      <td>0</td>\n",
       "      <td>-2879.202052</td>\n",
       "      <td>43</td>\n",
       "      <td>высшее</td>\n",
       "      <td>0</td>\n",
       "      <td>женат / замужем</td>\n",
       "      <td>0</td>\n",
       "      <td>F</td>\n",
       "      <td>компаньон</td>\n",
       "      <td>0</td>\n",
       "      <td>240525.971920</td>\n",
       "      <td>операции с жильем</td>\n",
       "    </tr>\n",
       "    <tr>\n",
       "      <th>7</th>\n",
       "      <td>0</td>\n",
       "      <td>-152.779569</td>\n",
       "      <td>50</td>\n",
       "      <td>СРЕДНЕЕ</td>\n",
       "      <td>1</td>\n",
       "      <td>женат / замужем</td>\n",
       "      <td>0</td>\n",
       "      <td>M</td>\n",
       "      <td>сотрудник</td>\n",
       "      <td>0</td>\n",
       "      <td>135823.934197</td>\n",
       "      <td>образование</td>\n",
       "    </tr>\n",
       "    <tr>\n",
       "      <th>8</th>\n",
       "      <td>2</td>\n",
       "      <td>-6929.865299</td>\n",
       "      <td>35</td>\n",
       "      <td>ВЫСШЕЕ</td>\n",
       "      <td>0</td>\n",
       "      <td>гражданский брак</td>\n",
       "      <td>1</td>\n",
       "      <td>F</td>\n",
       "      <td>сотрудник</td>\n",
       "      <td>0</td>\n",
       "      <td>95856.832424</td>\n",
       "      <td>на проведение свадьбы</td>\n",
       "    </tr>\n",
       "    <tr>\n",
       "      <th>9</th>\n",
       "      <td>0</td>\n",
       "      <td>-2188.756445</td>\n",
       "      <td>41</td>\n",
       "      <td>среднее</td>\n",
       "      <td>1</td>\n",
       "      <td>женат / замужем</td>\n",
       "      <td>0</td>\n",
       "      <td>M</td>\n",
       "      <td>сотрудник</td>\n",
       "      <td>0</td>\n",
       "      <td>144425.938277</td>\n",
       "      <td>покупка жилья для семьи</td>\n",
       "    </tr>\n",
       "    <tr>\n",
       "      <th>10</th>\n",
       "      <td>2</td>\n",
       "      <td>-4171.483647</td>\n",
       "      <td>36</td>\n",
       "      <td>высшее</td>\n",
       "      <td>0</td>\n",
       "      <td>женат / замужем</td>\n",
       "      <td>0</td>\n",
       "      <td>M</td>\n",
       "      <td>компаньон</td>\n",
       "      <td>0</td>\n",
       "      <td>113943.491460</td>\n",
       "      <td>покупка недвижимости</td>\n",
       "    </tr>\n",
       "    <tr>\n",
       "      <th>11</th>\n",
       "      <td>0</td>\n",
       "      <td>-792.701887</td>\n",
       "      <td>40</td>\n",
       "      <td>среднее</td>\n",
       "      <td>1</td>\n",
       "      <td>женат / замужем</td>\n",
       "      <td>0</td>\n",
       "      <td>F</td>\n",
       "      <td>сотрудник</td>\n",
       "      <td>0</td>\n",
       "      <td>77069.234271</td>\n",
       "      <td>покупка коммерческой недвижимости</td>\n",
       "    </tr>\n",
       "    <tr>\n",
       "      <th>12</th>\n",
       "      <td>0</td>\n",
       "      <td>NaN</td>\n",
       "      <td>65</td>\n",
       "      <td>среднее</td>\n",
       "      <td>1</td>\n",
       "      <td>гражданский брак</td>\n",
       "      <td>1</td>\n",
       "      <td>M</td>\n",
       "      <td>пенсионер</td>\n",
       "      <td>0</td>\n",
       "      <td>NaN</td>\n",
       "      <td>сыграть свадьбу</td>\n",
       "    </tr>\n",
       "    <tr>\n",
       "      <th>13</th>\n",
       "      <td>0</td>\n",
       "      <td>-1846.641941</td>\n",
       "      <td>54</td>\n",
       "      <td>неоконченное высшее</td>\n",
       "      <td>2</td>\n",
       "      <td>женат / замужем</td>\n",
       "      <td>0</td>\n",
       "      <td>F</td>\n",
       "      <td>сотрудник</td>\n",
       "      <td>0</td>\n",
       "      <td>130458.228857</td>\n",
       "      <td>приобретение автомобиля</td>\n",
       "    </tr>\n",
       "    <tr>\n",
       "      <th>14</th>\n",
       "      <td>0</td>\n",
       "      <td>-1844.956182</td>\n",
       "      <td>56</td>\n",
       "      <td>высшее</td>\n",
       "      <td>0</td>\n",
       "      <td>гражданский брак</td>\n",
       "      <td>1</td>\n",
       "      <td>F</td>\n",
       "      <td>компаньон</td>\n",
       "      <td>1</td>\n",
       "      <td>165127.911772</td>\n",
       "      <td>покупка жилой недвижимости</td>\n",
       "    </tr>\n",
       "    <tr>\n",
       "      <th>15</th>\n",
       "      <td>1</td>\n",
       "      <td>-972.364419</td>\n",
       "      <td>26</td>\n",
       "      <td>среднее</td>\n",
       "      <td>1</td>\n",
       "      <td>женат / замужем</td>\n",
       "      <td>0</td>\n",
       "      <td>F</td>\n",
       "      <td>сотрудник</td>\n",
       "      <td>0</td>\n",
       "      <td>116820.904450</td>\n",
       "      <td>строительство собственной недвижимости</td>\n",
       "    </tr>\n",
       "    <tr>\n",
       "      <th>16</th>\n",
       "      <td>0</td>\n",
       "      <td>-1719.934226</td>\n",
       "      <td>35</td>\n",
       "      <td>среднее</td>\n",
       "      <td>1</td>\n",
       "      <td>женат / замужем</td>\n",
       "      <td>0</td>\n",
       "      <td>F</td>\n",
       "      <td>сотрудник</td>\n",
       "      <td>0</td>\n",
       "      <td>289202.704229</td>\n",
       "      <td>недвижимость</td>\n",
       "    </tr>\n",
       "    <tr>\n",
       "      <th>17</th>\n",
       "      <td>0</td>\n",
       "      <td>-2369.999720</td>\n",
       "      <td>33</td>\n",
       "      <td>высшее</td>\n",
       "      <td>0</td>\n",
       "      <td>гражданский брак</td>\n",
       "      <td>1</td>\n",
       "      <td>M</td>\n",
       "      <td>сотрудник</td>\n",
       "      <td>0</td>\n",
       "      <td>90410.586745</td>\n",
       "      <td>строительство недвижимости</td>\n",
       "    </tr>\n",
       "    <tr>\n",
       "      <th>18</th>\n",
       "      <td>0</td>\n",
       "      <td>400281.136913</td>\n",
       "      <td>53</td>\n",
       "      <td>среднее</td>\n",
       "      <td>1</td>\n",
       "      <td>вдовец / вдова</td>\n",
       "      <td>2</td>\n",
       "      <td>F</td>\n",
       "      <td>пенсионер</td>\n",
       "      <td>0</td>\n",
       "      <td>56823.777243</td>\n",
       "      <td>на покупку подержанного автомобиля</td>\n",
       "    </tr>\n",
       "    <tr>\n",
       "      <th>19</th>\n",
       "      <td>0</td>\n",
       "      <td>-10038.818549</td>\n",
       "      <td>48</td>\n",
       "      <td>СРЕДНЕЕ</td>\n",
       "      <td>1</td>\n",
       "      <td>в разводе</td>\n",
       "      <td>3</td>\n",
       "      <td>F</td>\n",
       "      <td>сотрудник</td>\n",
       "      <td>0</td>\n",
       "      <td>242831.107982</td>\n",
       "      <td>на покупку своего автомобиля</td>\n",
       "    </tr>\n",
       "  </tbody>\n",
       "</table>\n",
       "</div>"
      ],
      "text/plain": [
       "    children  days_employed  dob_years            education  education_id  \\\n",
       "0          1   -8437.673028         42               высшее             0   \n",
       "1          1   -4024.803754         36              среднее             1   \n",
       "2          0   -5623.422610         33              Среднее             1   \n",
       "3          3   -4124.747207         32              среднее             1   \n",
       "4          0  340266.072047         53              среднее             1   \n",
       "5          0    -926.185831         27               высшее             0   \n",
       "6          0   -2879.202052         43               высшее             0   \n",
       "7          0    -152.779569         50              СРЕДНЕЕ             1   \n",
       "8          2   -6929.865299         35               ВЫСШЕЕ             0   \n",
       "9          0   -2188.756445         41              среднее             1   \n",
       "10         2   -4171.483647         36               высшее             0   \n",
       "11         0    -792.701887         40              среднее             1   \n",
       "12         0            NaN         65              среднее             1   \n",
       "13         0   -1846.641941         54  неоконченное высшее             2   \n",
       "14         0   -1844.956182         56               высшее             0   \n",
       "15         1    -972.364419         26              среднее             1   \n",
       "16         0   -1719.934226         35              среднее             1   \n",
       "17         0   -2369.999720         33               высшее             0   \n",
       "18         0  400281.136913         53              среднее             1   \n",
       "19         0  -10038.818549         48              СРЕДНЕЕ             1   \n",
       "\n",
       "       family_status  family_status_id gender income_type  debt  \\\n",
       "0    женат / замужем                 0      F   сотрудник     0   \n",
       "1    женат / замужем                 0      F   сотрудник     0   \n",
       "2    женат / замужем                 0      M   сотрудник     0   \n",
       "3    женат / замужем                 0      M   сотрудник     0   \n",
       "4   гражданский брак                 1      F   пенсионер     0   \n",
       "5   гражданский брак                 1      M   компаньон     0   \n",
       "6    женат / замужем                 0      F   компаньон     0   \n",
       "7    женат / замужем                 0      M   сотрудник     0   \n",
       "8   гражданский брак                 1      F   сотрудник     0   \n",
       "9    женат / замужем                 0      M   сотрудник     0   \n",
       "10   женат / замужем                 0      M   компаньон     0   \n",
       "11   женат / замужем                 0      F   сотрудник     0   \n",
       "12  гражданский брак                 1      M   пенсионер     0   \n",
       "13   женат / замужем                 0      F   сотрудник     0   \n",
       "14  гражданский брак                 1      F   компаньон     1   \n",
       "15   женат / замужем                 0      F   сотрудник     0   \n",
       "16   женат / замужем                 0      F   сотрудник     0   \n",
       "17  гражданский брак                 1      M   сотрудник     0   \n",
       "18    вдовец / вдова                 2      F   пенсионер     0   \n",
       "19         в разводе                 3      F   сотрудник     0   \n",
       "\n",
       "     total_income                                 purpose  \n",
       "0   253875.639453                           покупка жилья  \n",
       "1   112080.014102                 приобретение автомобиля  \n",
       "2   145885.952297                           покупка жилья  \n",
       "3   267628.550329              дополнительное образование  \n",
       "4   158616.077870                         сыграть свадьбу  \n",
       "5   255763.565419                           покупка жилья  \n",
       "6   240525.971920                       операции с жильем  \n",
       "7   135823.934197                             образование  \n",
       "8    95856.832424                   на проведение свадьбы  \n",
       "9   144425.938277                 покупка жилья для семьи  \n",
       "10  113943.491460                    покупка недвижимости  \n",
       "11   77069.234271       покупка коммерческой недвижимости  \n",
       "12            NaN                         сыграть свадьбу  \n",
       "13  130458.228857                 приобретение автомобиля  \n",
       "14  165127.911772              покупка жилой недвижимости  \n",
       "15  116820.904450  строительство собственной недвижимости  \n",
       "16  289202.704229                            недвижимость  \n",
       "17   90410.586745              строительство недвижимости  \n",
       "18   56823.777243      на покупку подержанного автомобиля  \n",
       "19  242831.107982            на покупку своего автомобиля  "
      ]
     },
     "execution_count": 3,
     "metadata": {},
     "output_type": "execute_result"
    }
   ],
   "source": [
    "#Смиотрим первые 20 строчек датафрейма\n",
    "data.head(20)"
   ]
  },
  {
   "cell_type": "code",
   "execution_count": 4,
   "id": "958a2f25-364e-421f-b6b3-ad5097613983",
   "metadata": {},
   "outputs": [
    {
     "name": "stdout",
     "output_type": "stream",
     "text": [
      "<class 'pandas.core.frame.DataFrame'>\n",
      "RangeIndex: 21525 entries, 0 to 21524\n",
      "Data columns (total 12 columns):\n",
      " #   Column            Non-Null Count  Dtype  \n",
      "---  ------            --------------  -----  \n",
      " 0   children          21525 non-null  int64  \n",
      " 1   days_employed     19351 non-null  float64\n",
      " 2   dob_years         21525 non-null  int64  \n",
      " 3   education         21525 non-null  object \n",
      " 4   education_id      21525 non-null  int64  \n",
      " 5   family_status     21525 non-null  object \n",
      " 6   family_status_id  21525 non-null  int64  \n",
      " 7   gender            21525 non-null  object \n",
      " 8   income_type       21525 non-null  object \n",
      " 9   debt              21525 non-null  int64  \n",
      " 10  total_income      19351 non-null  float64\n",
      " 11  purpose           21525 non-null  object \n",
      "dtypes: float64(2), int64(5), object(5)\n",
      "memory usage: 2.0+ MB\n"
     ]
    }
   ],
   "source": [
    "#Смотрим общую информацию по датафрейму\n",
    "data.info()"
   ]
  },
  {
   "cell_type": "markdown",
   "id": "3aadc968-a3f1-4ad1-b210-63b9707455f5",
   "metadata": {},
   "source": [
    "На данном этапе можно заметить:\n",
    "* Полученные данные содержат информацию о  21525 заемщиках.\n",
    "* В некоторых признаках встречаются пропуски.\n",
    "* В трудовом стаже содержатся отрицательные значения, это аномалии, которые скорее всего вызваны какой-то ошибкой.\n",
    "* Тип столбца ежемесячного дохода логичнее заменить на целочисленный.\n",
    "* В столбце образование есть неявные дубликаты (одни и те же значения, написанные по-разному в разном регистре). Стоит проверить также и другие признаки на наличие такой же проблемы."
   ]
  },
  {
   "cell_type": "markdown",
   "id": "922741a3-a228-4439-9de4-aed59bc9db37",
   "metadata": {},
   "source": [
    "### Шаг 2. Предобработка данных"
   ]
  },
  {
   "cell_type": "markdown",
   "id": "90de8791-21ba-40d5-b0c3-8a95c59da44e",
   "metadata": {},
   "source": [
    "#### 2.1 Устранение пропусков"
   ]
  },
  {
   "cell_type": "code",
   "execution_count": 5,
   "id": "6ea0da32-db16-45d7-95d7-828561107167",
   "metadata": {},
   "outputs": [
    {
     "data": {
      "text/plain": [
       "children               0\n",
       "days_employed       2174\n",
       "dob_years              0\n",
       "education              0\n",
       "education_id           0\n",
       "family_status          0\n",
       "family_status_id       0\n",
       "gender                 0\n",
       "income_type            0\n",
       "debt                   0\n",
       "total_income        2174\n",
       "purpose                0\n",
       "dtype: int64"
      ]
     },
     "execution_count": 5,
     "metadata": {},
     "output_type": "execute_result"
    }
   ],
   "source": [
    "#Посмотрим кол-во пустых строк в каждом столбце:\n",
    "data.isna().sum()"
   ]
  },
  {
   "cell_type": "markdown",
   "id": "d77f4768-f370-4122-a1e5-21b7e88b807d",
   "metadata": {},
   "source": [
    "Равное количество пропусков (2174 строки из 21525) в двух столбцах days_employed (общий трудовой стаж в днях) и total_income (ежемесячный доход). Исходные данные мы получили от банка, а банк наверняка во всех случаях выдачи кредитов имеет данные о ежемесячном доходе и трудовом стаже. Поэтому пропуски в этих столбцах возможно вызваны какой-то ошибкой записи данных или их выгрузки.\n",
    "\n",
    "Но попробуем для анализа заменить эти пропуски медианными значениями по типу занятости income_type, так как на сумму дохода сильнее всего влияет тип занятости. А почему медианой, так как в нашем случае широкий диапазон значений, и медиана будет лучше характеризовать данные чем например среднее.\n",
    "\n",
    "Заполним пропуски в total_income:"
   ]
  },
  {
   "cell_type": "code",
   "execution_count": 6,
   "id": "6dc4f447-ef67-4d08-bbb6-d8e5fc515b00",
   "metadata": {},
   "outputs": [
    {
     "name": "stdout",
     "output_type": "stream",
     "text": [
      "0\n"
     ]
    }
   ],
   "source": [
    "# перебираем каждый вид занятости в наборе уникальных значений столба income_type\n",
    "for el in data['income_type'].unique():\n",
    "    # на каждом шаге цикла с помощью атрибута loc выбираем строки,\n",
    "    # в которых в income_type текущий тип занятости (el) \n",
    "    #и есть пропуски в total_income (данных о доходах) \n",
    "    # и записываем в них медианное total_income для строк с текущим типом занятости (el)\n",
    "    data.loc[(data['income_type'] == el) & (data['total_income'].isna()), 'total_income'] = \\\n",
    "    data.loc[(data['income_type'] == el), 'total_income'].median()\n",
    "\n",
    "# проверяем, что все пропуски заполнены\n",
    "print(data['total_income'].isna().sum())"
   ]
  },
  {
   "cell_type": "markdown",
   "id": "29313a3b-4462-4a5a-b991-0082def688a7",
   "metadata": {},
   "source": [
    "заполним пропуски в столбце days_employed:"
   ]
  },
  {
   "cell_type": "code",
   "execution_count": 7,
   "id": "1cbec173-3304-48db-9db4-52c826e5b2e5",
   "metadata": {},
   "outputs": [
    {
     "name": "stdout",
     "output_type": "stream",
     "text": [
      "0\n"
     ]
    }
   ],
   "source": [
    "for el in data['income_type'].unique():\n",
    "    data.loc[(data['income_type'] == el) & (data['days_employed'].isna()), 'days_employed'] = \\\n",
    "    data.loc[(data['income_type'] == el), 'days_employed'].median()\n",
    "\n",
    "# проверяем, что все пропуски заполнены\n",
    "print(data['days_employed'].isna().sum())"
   ]
  },
  {
   "cell_type": "markdown",
   "id": "dd786542-ce70-49fd-9658-c2764fcbbae7",
   "metadata": {},
   "source": [
    "Перепроверим что все пропуски устранены:"
   ]
  },
  {
   "cell_type": "code",
   "execution_count": 8,
   "id": "86471c35-6845-4186-899e-7d0cebf15ee7",
   "metadata": {},
   "outputs": [
    {
     "data": {
      "text/plain": [
       "children            0\n",
       "days_employed       0\n",
       "dob_years           0\n",
       "education           0\n",
       "education_id        0\n",
       "family_status       0\n",
       "family_status_id    0\n",
       "gender              0\n",
       "income_type         0\n",
       "debt                0\n",
       "total_income        0\n",
       "purpose             0\n",
       "dtype: int64"
      ]
     },
     "execution_count": 8,
     "metadata": {},
     "output_type": "execute_result"
    }
   ],
   "source": [
    "data.isna().sum()"
   ]
  },
  {
   "cell_type": "markdown",
   "id": "d5fa627b-c115-4cc7-9054-201254d49def",
   "metadata": {},
   "source": [
    "#### 2.2 Обработка аномальных значений"
   ]
  },
  {
   "cell_type": "markdown",
   "id": "39c15145-5fcb-463a-8955-14d7468c3ae0",
   "metadata": {},
   "source": [
    "Заменим все отрицательные значения в days_employed положительными:"
   ]
  },
  {
   "cell_type": "code",
   "execution_count": 9,
   "id": "a8721006-5215-48e3-adbe-1f0af168dd8e",
   "metadata": {},
   "outputs": [],
   "source": [
    "data['days_employed'] = abs(data['days_employed'])"
   ]
  },
  {
   "cell_type": "markdown",
   "id": "fd04c798-c029-4f48-a77f-03be1154b017",
   "metadata": {},
   "source": [
    "#### 2.3 Дальнейшая предобработка (изменение типов данных и др.) "
   ]
  },
  {
   "cell_type": "markdown",
   "id": "f8fef536-7d7e-42d1-8dc6-d70d2047edf7",
   "metadata": {},
   "source": [
    "Заменим вещественный тип данных в столбце total_income на целочисленный"
   ]
  },
  {
   "cell_type": "code",
   "execution_count": 10,
   "id": "7be14e88-4351-492b-b8b7-c0aa687415f8",
   "metadata": {},
   "outputs": [
    {
     "name": "stdout",
     "output_type": "stream",
     "text": [
      "<class 'pandas.core.frame.DataFrame'>\n",
      "RangeIndex: 21525 entries, 0 to 21524\n",
      "Data columns (total 12 columns):\n",
      " #   Column            Non-Null Count  Dtype  \n",
      "---  ------            --------------  -----  \n",
      " 0   children          21525 non-null  int64  \n",
      " 1   days_employed     21525 non-null  float64\n",
      " 2   dob_years         21525 non-null  int64  \n",
      " 3   education         21525 non-null  object \n",
      " 4   education_id      21525 non-null  int64  \n",
      " 5   family_status     21525 non-null  object \n",
      " 6   family_status_id  21525 non-null  int64  \n",
      " 7   gender            21525 non-null  object \n",
      " 8   income_type       21525 non-null  object \n",
      " 9   debt              21525 non-null  int64  \n",
      " 10  total_income      21525 non-null  int32  \n",
      " 11  purpose           21525 non-null  object \n",
      "dtypes: float64(1), int32(1), int64(5), object(5)\n",
      "memory usage: 1.9+ MB\n"
     ]
    }
   ],
   "source": [
    "data['total_income'] = data['total_income'].astype(int)\n",
    "\n",
    "#Проверяем\n",
    "data.info()"
   ]
  },
  {
   "cell_type": "markdown",
   "id": "26528df9-0552-4363-874e-383fbcea3401",
   "metadata": {},
   "source": [
    "Посмотрим для каждого типа занятости медианное значение трудового стажа days_employed в днях:"
   ]
  },
  {
   "cell_type": "code",
   "execution_count": 11,
   "id": "23a94fda-71ec-426f-be62-1fdbf8f61b1a",
   "metadata": {},
   "outputs": [
    {
     "data": {
      "text/plain": [
       "income_type\n",
       "безработный        366413.652744\n",
       "в декрете            3296.759962\n",
       "госслужащий          2689.368353\n",
       "компаньон            1547.382223\n",
       "пенсионер          365213.306266\n",
       "предприниматель       520.848083\n",
       "сотрудник            1574.202821\n",
       "студент               578.751554\n",
       "Name: days_employed, dtype: float64"
      ]
     },
     "execution_count": 11,
     "metadata": {},
     "output_type": "execute_result"
    }
   ],
   "source": [
    "#Выделяем группы занятости в income type,\n",
    "#и находим в каждой из них медианное значение трудового стажа\n",
    "data.groupby('income_type')['days_employed'].median()"
   ]
  },
  {
   "cell_type": "markdown",
   "id": "c76c512f-ff54-4cbb-b4b1-95321c4e4179",
   "metadata": {},
   "source": [
    "У двух типов (безработные и пенсионеры) получаются аномально большие значения. Как исправить такие значения пока идей нет, поэтому оставим их как есть. К тому же этот столбец возможно не понадобится нам для исследования.\n",
    "\n",
    "Посмотрим уникальные значения столбца children:"
   ]
  },
  {
   "cell_type": "code",
   "execution_count": 12,
   "id": "2c83a20c-1399-4e37-9cad-ddc545b60d64",
   "metadata": {},
   "outputs": [
    {
     "data": {
      "text/plain": [
       "array([ 1,  0,  3,  2, -1,  4, 20,  5], dtype=int64)"
      ]
     },
     "execution_count": 12,
     "metadata": {},
     "output_type": "execute_result"
    }
   ],
   "source": [
    "data['children'].unique()"
   ]
  },
  {
   "cell_type": "markdown",
   "id": "e7d9f104-b19b-43f0-a680-c6f2eae75e73",
   "metadata": {},
   "source": [
    "В столбце children есть два аномальных значения (-1 и 20). Удалим строки, в которых встречаются такие аномальные значения из датафрейма:"
   ]
  },
  {
   "cell_type": "code",
   "execution_count": 13,
   "id": "d6f38755-ca35-4e0d-a411-0efe391626f6",
   "metadata": {},
   "outputs": [
    {
     "data": {
      "text/plain": [
       "array([1, 0, 3, 2, 4, 5], dtype=int64)"
      ]
     },
     "execution_count": 13,
     "metadata": {},
     "output_type": "execute_result"
    }
   ],
   "source": [
    "data = data[(data['children'] != -1) & (data['children'] != 20)]\n",
    "\n",
    "#Проверяем \n",
    "data['children'].unique()"
   ]
  },
  {
   "cell_type": "markdown",
   "id": "e01c50e3-118c-46d8-abef-c6c4f3614851",
   "metadata": {},
   "source": [
    "#### 2.4 Обработка дубликатов:"
   ]
  },
  {
   "cell_type": "markdown",
   "id": "89ec6b36-b4a6-406f-bc7d-d829bdc25e53",
   "metadata": {},
   "source": [
    "У нас были обнаружены дубликаты в столбце education. Проверим на наличие неявных дубликатов и другие признаки кроме education: "
   ]
  },
  {
   "cell_type": "code",
   "execution_count": 14,
   "id": "7275c4f4-f8d8-44c9-8b85-4cd2bc789c75",
   "metadata": {},
   "outputs": [
    {
     "data": {
      "text/plain": [
       "array(['высшее', 'среднее', 'Среднее', 'СРЕДНЕЕ', 'ВЫСШЕЕ',\n",
       "       'неоконченное высшее', 'начальное', 'Высшее',\n",
       "       'НЕОКОНЧЕННОЕ ВЫСШЕЕ', 'Неоконченное высшее', 'НАЧАЛЬНОЕ',\n",
       "       'Начальное', 'Ученая степень', 'УЧЕНАЯ СТЕПЕНЬ', 'ученая степень'],\n",
       "      dtype=object)"
      ]
     },
     "execution_count": 14,
     "metadata": {},
     "output_type": "execute_result"
    }
   ],
   "source": [
    "data['education'].unique()"
   ]
  },
  {
   "cell_type": "code",
   "execution_count": 15,
   "id": "6c675e0c-0784-4f34-a96e-8777ea170575",
   "metadata": {},
   "outputs": [
    {
     "data": {
      "text/plain": [
       "array(['женат / замужем', 'гражданский брак', 'вдовец / вдова',\n",
       "       'в разводе', 'Не женат / не замужем'], dtype=object)"
      ]
     },
     "execution_count": 15,
     "metadata": {},
     "output_type": "execute_result"
    }
   ],
   "source": [
    "data['family_status'].unique()"
   ]
  },
  {
   "cell_type": "code",
   "execution_count": 16,
   "id": "31a0623d-60d8-427f-9184-a2319f1df59a",
   "metadata": {},
   "outputs": [
    {
     "data": {
      "text/plain": [
       "array(['покупка жилья', 'приобретение автомобиля',\n",
       "       'дополнительное образование', 'сыграть свадьбу',\n",
       "       'операции с жильем', 'образование', 'на проведение свадьбы',\n",
       "       'покупка жилья для семьи', 'покупка недвижимости',\n",
       "       'покупка коммерческой недвижимости', 'покупка жилой недвижимости',\n",
       "       'строительство собственной недвижимости', 'недвижимость',\n",
       "       'строительство недвижимости', 'на покупку подержанного автомобиля',\n",
       "       'на покупку своего автомобиля',\n",
       "       'операции с коммерческой недвижимостью',\n",
       "       'строительство жилой недвижимости', 'жилье',\n",
       "       'операции со своей недвижимостью', 'автомобили',\n",
       "       'заняться образованием', 'сделка с подержанным автомобилем',\n",
       "       'получение образования', 'автомобиль', 'свадьба',\n",
       "       'получение дополнительного образования', 'покупка своего жилья',\n",
       "       'операции с недвижимостью', 'получение высшего образования',\n",
       "       'свой автомобиль', 'сделка с автомобилем',\n",
       "       'профильное образование', 'высшее образование',\n",
       "       'покупка жилья для сдачи', 'на покупку автомобиля', 'ремонт жилью',\n",
       "       'заняться высшим образованием'], dtype=object)"
      ]
     },
     "execution_count": 16,
     "metadata": {},
     "output_type": "execute_result"
    }
   ],
   "source": [
    "data['purpose'].unique()"
   ]
  },
  {
   "cell_type": "code",
   "execution_count": 17,
   "id": "7ac91c98-2a54-450c-9458-cf433dfb4160",
   "metadata": {},
   "outputs": [
    {
     "data": {
      "text/plain": [
       "array(['F', 'M', 'XNA'], dtype=object)"
      ]
     },
     "execution_count": 17,
     "metadata": {},
     "output_type": "execute_result"
    }
   ],
   "source": [
    "data['gender'].unique()"
   ]
  },
  {
   "cell_type": "markdown",
   "id": "1ef23bf9-828e-4220-b8e1-db289ecc785c",
   "metadata": {},
   "source": [
    "Неявных дубликатов в других признаков нет. Однако обнаружилось аномальное значение в гендере - XNA, посмотрим сколько таких строк:"
   ]
  },
  {
   "cell_type": "code",
   "execution_count": 18,
   "id": "dbef4428-17cd-43ca-9383-a7aaf855020f",
   "metadata": {},
   "outputs": [
    {
     "data": {
      "text/html": [
       "<div>\n",
       "<style scoped>\n",
       "    .dataframe tbody tr th:only-of-type {\n",
       "        vertical-align: middle;\n",
       "    }\n",
       "\n",
       "    .dataframe tbody tr th {\n",
       "        vertical-align: top;\n",
       "    }\n",
       "\n",
       "    .dataframe thead th {\n",
       "        text-align: right;\n",
       "    }\n",
       "</style>\n",
       "<table border=\"1\" class=\"dataframe\">\n",
       "  <thead>\n",
       "    <tr style=\"text-align: right;\">\n",
       "      <th></th>\n",
       "      <th>children</th>\n",
       "      <th>days_employed</th>\n",
       "      <th>dob_years</th>\n",
       "      <th>education</th>\n",
       "      <th>education_id</th>\n",
       "      <th>family_status</th>\n",
       "      <th>family_status_id</th>\n",
       "      <th>gender</th>\n",
       "      <th>income_type</th>\n",
       "      <th>debt</th>\n",
       "      <th>total_income</th>\n",
       "      <th>purpose</th>\n",
       "    </tr>\n",
       "  </thead>\n",
       "  <tbody>\n",
       "    <tr>\n",
       "      <th>10701</th>\n",
       "      <td>0</td>\n",
       "      <td>2358.600502</td>\n",
       "      <td>24</td>\n",
       "      <td>неоконченное высшее</td>\n",
       "      <td>2</td>\n",
       "      <td>гражданский брак</td>\n",
       "      <td>1</td>\n",
       "      <td>XNA</td>\n",
       "      <td>компаньон</td>\n",
       "      <td>0</td>\n",
       "      <td>203905</td>\n",
       "      <td>покупка недвижимости</td>\n",
       "    </tr>\n",
       "  </tbody>\n",
       "</table>\n",
       "</div>"
      ],
      "text/plain": [
       "       children  days_employed  dob_years            education  education_id  \\\n",
       "10701         0    2358.600502         24  неоконченное высшее             2   \n",
       "\n",
       "          family_status  family_status_id gender income_type  debt  \\\n",
       "10701  гражданский брак                 1    XNA   компаньон     0   \n",
       "\n",
       "       total_income               purpose  \n",
       "10701        203905  покупка недвижимости  "
      ]
     },
     "execution_count": 18,
     "metadata": {},
     "output_type": "execute_result"
    }
   ],
   "source": [
    "data.loc[data['gender'] =='XNA']"
   ]
  },
  {
   "cell_type": "markdown",
   "id": "5626867a-8421-44ec-9742-3ec1ef8b4a31",
   "metadata": {},
   "source": [
    "Всего одна строка, вероятно ошибка, удалим ее из датафрейма:"
   ]
  },
  {
   "cell_type": "code",
   "execution_count": 19,
   "id": "fa76396f-54c5-49ef-87e8-db69820ae352",
   "metadata": {},
   "outputs": [
    {
     "name": "stdout",
     "output_type": "stream",
     "text": [
      "<class 'pandas.core.frame.DataFrame'>\n",
      "RangeIndex: 21401 entries, 0 to 21400\n",
      "Data columns (total 12 columns):\n",
      " #   Column            Non-Null Count  Dtype  \n",
      "---  ------            --------------  -----  \n",
      " 0   children          21401 non-null  int64  \n",
      " 1   days_employed     21401 non-null  float64\n",
      " 2   dob_years         21401 non-null  int64  \n",
      " 3   education         21401 non-null  object \n",
      " 4   education_id      21401 non-null  int64  \n",
      " 5   family_status     21401 non-null  object \n",
      " 6   family_status_id  21401 non-null  int64  \n",
      " 7   gender            21401 non-null  object \n",
      " 8   income_type       21401 non-null  object \n",
      " 9   debt              21401 non-null  int64  \n",
      " 10  total_income      21401 non-null  int32  \n",
      " 11  purpose           21401 non-null  object \n",
      "dtypes: float64(1), int32(1), int64(5), object(5)\n",
      "memory usage: 1.9+ MB\n",
      "None\n"
     ]
    }
   ],
   "source": [
    "data.drop(10701, inplace = True)\n",
    "\n",
    "#Обновим индексацию датафрейма\n",
    "data.reset_index(drop=True, inplace= True)\n",
    "\n",
    "#Проверяем\n",
    "print (data.info())"
   ]
  },
  {
   "cell_type": "markdown",
   "id": "ed1ee86f-5e27-415f-ae96-203091512569",
   "metadata": {},
   "source": [
    "Возвращаясь к неявным дубликатам в образовании, для их устранения приведем значения этого столбца к нижнему регистру:"
   ]
  },
  {
   "cell_type": "code",
   "execution_count": 20,
   "id": "5a135928-ead6-4723-a483-663441d21e69",
   "metadata": {},
   "outputs": [],
   "source": [
    "# Приводим данные столбца education к нижнему регистру\n",
    "data['education'] = data['education'].str.lower()"
   ]
  },
  {
   "cell_type": "markdown",
   "id": "1b3d8226-526d-4049-9ddd-77aa712d1350",
   "metadata": {},
   "source": [
    "Посмотрим теперь в целом количество строк-дубликатов:"
   ]
  },
  {
   "cell_type": "code",
   "execution_count": 21,
   "id": "6d09c0dd-819b-4807-98f3-417bd27b2e7e",
   "metadata": {},
   "outputs": [
    {
     "data": {
      "text/plain": [
       "71"
      ]
     },
     "execution_count": 21,
     "metadata": {},
     "output_type": "execute_result"
    }
   ],
   "source": [
    "#смотрим количество дубликатов\n",
    "data.duplicated().sum()"
   ]
  },
  {
   "cell_type": "markdown",
   "id": "657f31fe-d6b8-46bf-ba04-bc3e2eb9e4cb",
   "metadata": {},
   "source": [
    "В нашем датафрейме 71 строк дубликатов, удалим их:"
   ]
  },
  {
   "cell_type": "code",
   "execution_count": 22,
   "id": "2efb1bbd-b63f-4d77-820e-475bc752c01f",
   "metadata": {},
   "outputs": [
    {
     "data": {
      "text/plain": [
       "0"
      ]
     },
     "execution_count": 22,
     "metadata": {},
     "output_type": "execute_result"
    }
   ],
   "source": [
    "# удаляем дубликаты\n",
    "data = data.drop_duplicates() \n",
    "\n",
    "# проверяем количество дубликатов\n",
    "data.duplicated().sum()"
   ]
  },
  {
   "cell_type": "markdown",
   "id": "c65426a6-3136-46e4-ab12-aeb4e7412d7b",
   "metadata": {},
   "source": [
    "#### 2.5 Создание новых признаков:"
   ]
  },
  {
   "cell_type": "markdown",
   "id": "1ecdde12-55d2-4695-b96d-709c4ef6c787",
   "metadata": {},
   "source": [
    "Для анализа добавим в датафрейм столбец total_income_category с категориями зарплат:\n",
    "\n",
    "            0–30000 — `'E'`;\n",
    "            30001–50000 — `'D'`;\n",
    "            50001–200000 — `'C'`;\n",
    "            200001–1000000 — `'B'`;\n",
    "            1000001 и выше — `'A'`."
   ]
  },
  {
   "cell_type": "code",
   "execution_count": 23,
   "id": "aedc398c-0e2a-424d-b657-da032e0b322a",
   "metadata": {},
   "outputs": [],
   "source": [
    "# создаем функцию categorize_income(), которая соотносит ежемесячный доход с категорией\n",
    "def categorize_income(income):\n",
    "    try:\n",
    "        if 0 <= income <= 30000:\n",
    "            return 'E'\n",
    "        elif 30001 <= income <= 50000:\n",
    "            return 'D'\n",
    "        elif 50001 <= income <= 200000:\n",
    "            return 'C'\n",
    "        elif 200001 <= income <= 1000000:\n",
    "            return 'B'\n",
    "        elif income >= 1000001:\n",
    "            return 'A'\n",
    "    except:\n",
    "        pass"
   ]
  },
  {
   "cell_type": "code",
   "execution_count": 24,
   "id": "d8205573-4ae0-4b2b-a503-9a95c7ba0c9e",
   "metadata": {},
   "outputs": [
    {
     "data": {
      "text/html": [
       "<div>\n",
       "<style scoped>\n",
       "    .dataframe tbody tr th:only-of-type {\n",
       "        vertical-align: middle;\n",
       "    }\n",
       "\n",
       "    .dataframe tbody tr th {\n",
       "        vertical-align: top;\n",
       "    }\n",
       "\n",
       "    .dataframe thead th {\n",
       "        text-align: right;\n",
       "    }\n",
       "</style>\n",
       "<table border=\"1\" class=\"dataframe\">\n",
       "  <thead>\n",
       "    <tr style=\"text-align: right;\">\n",
       "      <th></th>\n",
       "      <th>children</th>\n",
       "      <th>days_employed</th>\n",
       "      <th>dob_years</th>\n",
       "      <th>education</th>\n",
       "      <th>education_id</th>\n",
       "      <th>family_status</th>\n",
       "      <th>family_status_id</th>\n",
       "      <th>gender</th>\n",
       "      <th>income_type</th>\n",
       "      <th>debt</th>\n",
       "      <th>total_income</th>\n",
       "      <th>purpose</th>\n",
       "      <th>total_income_category</th>\n",
       "    </tr>\n",
       "  </thead>\n",
       "  <tbody>\n",
       "    <tr>\n",
       "      <th>0</th>\n",
       "      <td>1</td>\n",
       "      <td>8437.673028</td>\n",
       "      <td>42</td>\n",
       "      <td>высшее</td>\n",
       "      <td>0</td>\n",
       "      <td>женат / замужем</td>\n",
       "      <td>0</td>\n",
       "      <td>F</td>\n",
       "      <td>сотрудник</td>\n",
       "      <td>0</td>\n",
       "      <td>253875</td>\n",
       "      <td>покупка жилья</td>\n",
       "      <td>B</td>\n",
       "    </tr>\n",
       "    <tr>\n",
       "      <th>1</th>\n",
       "      <td>1</td>\n",
       "      <td>4024.803754</td>\n",
       "      <td>36</td>\n",
       "      <td>среднее</td>\n",
       "      <td>1</td>\n",
       "      <td>женат / замужем</td>\n",
       "      <td>0</td>\n",
       "      <td>F</td>\n",
       "      <td>сотрудник</td>\n",
       "      <td>0</td>\n",
       "      <td>112080</td>\n",
       "      <td>приобретение автомобиля</td>\n",
       "      <td>C</td>\n",
       "    </tr>\n",
       "    <tr>\n",
       "      <th>2</th>\n",
       "      <td>0</td>\n",
       "      <td>5623.422610</td>\n",
       "      <td>33</td>\n",
       "      <td>среднее</td>\n",
       "      <td>1</td>\n",
       "      <td>женат / замужем</td>\n",
       "      <td>0</td>\n",
       "      <td>M</td>\n",
       "      <td>сотрудник</td>\n",
       "      <td>0</td>\n",
       "      <td>145885</td>\n",
       "      <td>покупка жилья</td>\n",
       "      <td>C</td>\n",
       "    </tr>\n",
       "    <tr>\n",
       "      <th>3</th>\n",
       "      <td>3</td>\n",
       "      <td>4124.747207</td>\n",
       "      <td>32</td>\n",
       "      <td>среднее</td>\n",
       "      <td>1</td>\n",
       "      <td>женат / замужем</td>\n",
       "      <td>0</td>\n",
       "      <td>M</td>\n",
       "      <td>сотрудник</td>\n",
       "      <td>0</td>\n",
       "      <td>267628</td>\n",
       "      <td>дополнительное образование</td>\n",
       "      <td>B</td>\n",
       "    </tr>\n",
       "    <tr>\n",
       "      <th>4</th>\n",
       "      <td>0</td>\n",
       "      <td>340266.072047</td>\n",
       "      <td>53</td>\n",
       "      <td>среднее</td>\n",
       "      <td>1</td>\n",
       "      <td>гражданский брак</td>\n",
       "      <td>1</td>\n",
       "      <td>F</td>\n",
       "      <td>пенсионер</td>\n",
       "      <td>0</td>\n",
       "      <td>158616</td>\n",
       "      <td>сыграть свадьбу</td>\n",
       "      <td>C</td>\n",
       "    </tr>\n",
       "    <tr>\n",
       "      <th>5</th>\n",
       "      <td>0</td>\n",
       "      <td>926.185831</td>\n",
       "      <td>27</td>\n",
       "      <td>высшее</td>\n",
       "      <td>0</td>\n",
       "      <td>гражданский брак</td>\n",
       "      <td>1</td>\n",
       "      <td>M</td>\n",
       "      <td>компаньон</td>\n",
       "      <td>0</td>\n",
       "      <td>255763</td>\n",
       "      <td>покупка жилья</td>\n",
       "      <td>B</td>\n",
       "    </tr>\n",
       "    <tr>\n",
       "      <th>6</th>\n",
       "      <td>0</td>\n",
       "      <td>2879.202052</td>\n",
       "      <td>43</td>\n",
       "      <td>высшее</td>\n",
       "      <td>0</td>\n",
       "      <td>женат / замужем</td>\n",
       "      <td>0</td>\n",
       "      <td>F</td>\n",
       "      <td>компаньон</td>\n",
       "      <td>0</td>\n",
       "      <td>240525</td>\n",
       "      <td>операции с жильем</td>\n",
       "      <td>B</td>\n",
       "    </tr>\n",
       "    <tr>\n",
       "      <th>7</th>\n",
       "      <td>0</td>\n",
       "      <td>152.779569</td>\n",
       "      <td>50</td>\n",
       "      <td>среднее</td>\n",
       "      <td>1</td>\n",
       "      <td>женат / замужем</td>\n",
       "      <td>0</td>\n",
       "      <td>M</td>\n",
       "      <td>сотрудник</td>\n",
       "      <td>0</td>\n",
       "      <td>135823</td>\n",
       "      <td>образование</td>\n",
       "      <td>C</td>\n",
       "    </tr>\n",
       "    <tr>\n",
       "      <th>8</th>\n",
       "      <td>2</td>\n",
       "      <td>6929.865299</td>\n",
       "      <td>35</td>\n",
       "      <td>высшее</td>\n",
       "      <td>0</td>\n",
       "      <td>гражданский брак</td>\n",
       "      <td>1</td>\n",
       "      <td>F</td>\n",
       "      <td>сотрудник</td>\n",
       "      <td>0</td>\n",
       "      <td>95856</td>\n",
       "      <td>на проведение свадьбы</td>\n",
       "      <td>C</td>\n",
       "    </tr>\n",
       "    <tr>\n",
       "      <th>9</th>\n",
       "      <td>0</td>\n",
       "      <td>2188.756445</td>\n",
       "      <td>41</td>\n",
       "      <td>среднее</td>\n",
       "      <td>1</td>\n",
       "      <td>женат / замужем</td>\n",
       "      <td>0</td>\n",
       "      <td>M</td>\n",
       "      <td>сотрудник</td>\n",
       "      <td>0</td>\n",
       "      <td>144425</td>\n",
       "      <td>покупка жилья для семьи</td>\n",
       "      <td>C</td>\n",
       "    </tr>\n",
       "  </tbody>\n",
       "</table>\n",
       "</div>"
      ],
      "text/plain": [
       "   children  days_employed  dob_years education  education_id  \\\n",
       "0         1    8437.673028         42    высшее             0   \n",
       "1         1    4024.803754         36   среднее             1   \n",
       "2         0    5623.422610         33   среднее             1   \n",
       "3         3    4124.747207         32   среднее             1   \n",
       "4         0  340266.072047         53   среднее             1   \n",
       "5         0     926.185831         27    высшее             0   \n",
       "6         0    2879.202052         43    высшее             0   \n",
       "7         0     152.779569         50   среднее             1   \n",
       "8         2    6929.865299         35    высшее             0   \n",
       "9         0    2188.756445         41   среднее             1   \n",
       "\n",
       "      family_status  family_status_id gender income_type  debt  total_income  \\\n",
       "0   женат / замужем                 0      F   сотрудник     0        253875   \n",
       "1   женат / замужем                 0      F   сотрудник     0        112080   \n",
       "2   женат / замужем                 0      M   сотрудник     0        145885   \n",
       "3   женат / замужем                 0      M   сотрудник     0        267628   \n",
       "4  гражданский брак                 1      F   пенсионер     0        158616   \n",
       "5  гражданский брак                 1      M   компаньон     0        255763   \n",
       "6   женат / замужем                 0      F   компаньон     0        240525   \n",
       "7   женат / замужем                 0      M   сотрудник     0        135823   \n",
       "8  гражданский брак                 1      F   сотрудник     0         95856   \n",
       "9   женат / замужем                 0      M   сотрудник     0        144425   \n",
       "\n",
       "                      purpose total_income_category  \n",
       "0               покупка жилья                     B  \n",
       "1     приобретение автомобиля                     C  \n",
       "2               покупка жилья                     C  \n",
       "3  дополнительное образование                     B  \n",
       "4             сыграть свадьбу                     C  \n",
       "5               покупка жилья                     B  \n",
       "6           операции с жильем                     B  \n",
       "7                 образование                     C  \n",
       "8       на проведение свадьбы                     C  \n",
       "9     покупка жилья для семьи                     C  "
      ]
     },
     "metadata": {},
     "output_type": "display_data"
    },
    {
     "name": "stdout",
     "output_type": "stream",
     "text": [
      "None\n"
     ]
    }
   ],
   "source": [
    "# создаем новый столбец total_income_category\n",
    "data['total_income_category'] = data['total_income'].apply(categorize_income)\n",
    "\n",
    "# проверяем изменения датафрейма\n",
    "print(display(data.head(10)))"
   ]
  },
  {
   "cell_type": "markdown",
   "id": "6fec553c-49d8-4ec4-a9c6-e7713920376c",
   "metadata": {},
   "source": [
    "Создадим также еще столбец purpose_category, в который войдут следующие категории:\n",
    "\n",
    "     'операции с автомобилем';\n",
    "     'операции с недвижимостью';\n",
    "     'проведение свадьбы';\n",
    "     'получение образования'."
   ]
  },
  {
   "cell_type": "code",
   "execution_count": 25,
   "id": "616b55ed-236e-448e-85e8-edb87febaeaa",
   "metadata": {},
   "outputs": [
    {
     "data": {
      "text/plain": [
       "array(['покупка жилья', 'приобретение автомобиля',\n",
       "       'дополнительное образование', 'сыграть свадьбу',\n",
       "       'операции с жильем', 'образование', 'на проведение свадьбы',\n",
       "       'покупка жилья для семьи', 'покупка недвижимости',\n",
       "       'покупка коммерческой недвижимости', 'покупка жилой недвижимости',\n",
       "       'строительство собственной недвижимости', 'недвижимость',\n",
       "       'строительство недвижимости', 'на покупку подержанного автомобиля',\n",
       "       'на покупку своего автомобиля',\n",
       "       'операции с коммерческой недвижимостью',\n",
       "       'строительство жилой недвижимости', 'жилье',\n",
       "       'операции со своей недвижимостью', 'автомобили',\n",
       "       'заняться образованием', 'сделка с подержанным автомобилем',\n",
       "       'получение образования', 'автомобиль', 'свадьба',\n",
       "       'получение дополнительного образования', 'покупка своего жилья',\n",
       "       'операции с недвижимостью', 'получение высшего образования',\n",
       "       'свой автомобиль', 'сделка с автомобилем',\n",
       "       'профильное образование', 'высшее образование',\n",
       "       'покупка жилья для сдачи', 'на покупку автомобиля', 'ремонт жилью',\n",
       "       'заняться высшим образованием'], dtype=object)"
      ]
     },
     "execution_count": 25,
     "metadata": {},
     "output_type": "execute_result"
    }
   ],
   "source": [
    "data['purpose'].unique()"
   ]
  },
  {
   "cell_type": "code",
   "execution_count": 26,
   "id": "0b64503a-4ca8-4b7a-b8af-230a49a75b9a",
   "metadata": {},
   "outputs": [],
   "source": [
    "# создаем функцию categorize_income(), которая соотносит цель кредита с категорией\n",
    "def categorize_purpose(row):\n",
    "    try:\n",
    "        if 'авто' in row:\n",
    "            return 'операции с автомобилем'\n",
    "        elif 'жил' in row or 'недвиж' in row:\n",
    "            return 'операции с недвижимостью'\n",
    "        elif 'свадьб' in row:\n",
    "            return 'проведение свадьбы'\n",
    "        elif 'образов' in row:\n",
    "            return 'получение образования'\n",
    "    except:\n",
    "        return 'нет категории'"
   ]
  },
  {
   "cell_type": "code",
   "execution_count": 27,
   "id": "a051ee81-9649-4676-8d3e-0dc5e4f1e1f5",
   "metadata": {},
   "outputs": [
    {
     "data": {
      "text/html": [
       "<div>\n",
       "<style scoped>\n",
       "    .dataframe tbody tr th:only-of-type {\n",
       "        vertical-align: middle;\n",
       "    }\n",
       "\n",
       "    .dataframe tbody tr th {\n",
       "        vertical-align: top;\n",
       "    }\n",
       "\n",
       "    .dataframe thead th {\n",
       "        text-align: right;\n",
       "    }\n",
       "</style>\n",
       "<table border=\"1\" class=\"dataframe\">\n",
       "  <thead>\n",
       "    <tr style=\"text-align: right;\">\n",
       "      <th></th>\n",
       "      <th>children</th>\n",
       "      <th>days_employed</th>\n",
       "      <th>dob_years</th>\n",
       "      <th>education</th>\n",
       "      <th>education_id</th>\n",
       "      <th>family_status</th>\n",
       "      <th>family_status_id</th>\n",
       "      <th>gender</th>\n",
       "      <th>income_type</th>\n",
       "      <th>debt</th>\n",
       "      <th>total_income</th>\n",
       "      <th>purpose</th>\n",
       "      <th>total_income_category</th>\n",
       "      <th>purpose_category</th>\n",
       "    </tr>\n",
       "  </thead>\n",
       "  <tbody>\n",
       "    <tr>\n",
       "      <th>0</th>\n",
       "      <td>1</td>\n",
       "      <td>8437.673028</td>\n",
       "      <td>42</td>\n",
       "      <td>высшее</td>\n",
       "      <td>0</td>\n",
       "      <td>женат / замужем</td>\n",
       "      <td>0</td>\n",
       "      <td>F</td>\n",
       "      <td>сотрудник</td>\n",
       "      <td>0</td>\n",
       "      <td>253875</td>\n",
       "      <td>покупка жилья</td>\n",
       "      <td>B</td>\n",
       "      <td>операции с недвижимостью</td>\n",
       "    </tr>\n",
       "    <tr>\n",
       "      <th>1</th>\n",
       "      <td>1</td>\n",
       "      <td>4024.803754</td>\n",
       "      <td>36</td>\n",
       "      <td>среднее</td>\n",
       "      <td>1</td>\n",
       "      <td>женат / замужем</td>\n",
       "      <td>0</td>\n",
       "      <td>F</td>\n",
       "      <td>сотрудник</td>\n",
       "      <td>0</td>\n",
       "      <td>112080</td>\n",
       "      <td>приобретение автомобиля</td>\n",
       "      <td>C</td>\n",
       "      <td>операции с автомобилем</td>\n",
       "    </tr>\n",
       "    <tr>\n",
       "      <th>2</th>\n",
       "      <td>0</td>\n",
       "      <td>5623.422610</td>\n",
       "      <td>33</td>\n",
       "      <td>среднее</td>\n",
       "      <td>1</td>\n",
       "      <td>женат / замужем</td>\n",
       "      <td>0</td>\n",
       "      <td>M</td>\n",
       "      <td>сотрудник</td>\n",
       "      <td>0</td>\n",
       "      <td>145885</td>\n",
       "      <td>покупка жилья</td>\n",
       "      <td>C</td>\n",
       "      <td>операции с недвижимостью</td>\n",
       "    </tr>\n",
       "    <tr>\n",
       "      <th>3</th>\n",
       "      <td>3</td>\n",
       "      <td>4124.747207</td>\n",
       "      <td>32</td>\n",
       "      <td>среднее</td>\n",
       "      <td>1</td>\n",
       "      <td>женат / замужем</td>\n",
       "      <td>0</td>\n",
       "      <td>M</td>\n",
       "      <td>сотрудник</td>\n",
       "      <td>0</td>\n",
       "      <td>267628</td>\n",
       "      <td>дополнительное образование</td>\n",
       "      <td>B</td>\n",
       "      <td>получение образования</td>\n",
       "    </tr>\n",
       "    <tr>\n",
       "      <th>4</th>\n",
       "      <td>0</td>\n",
       "      <td>340266.072047</td>\n",
       "      <td>53</td>\n",
       "      <td>среднее</td>\n",
       "      <td>1</td>\n",
       "      <td>гражданский брак</td>\n",
       "      <td>1</td>\n",
       "      <td>F</td>\n",
       "      <td>пенсионер</td>\n",
       "      <td>0</td>\n",
       "      <td>158616</td>\n",
       "      <td>сыграть свадьбу</td>\n",
       "      <td>C</td>\n",
       "      <td>проведение свадьбы</td>\n",
       "    </tr>\n",
       "    <tr>\n",
       "      <th>5</th>\n",
       "      <td>0</td>\n",
       "      <td>926.185831</td>\n",
       "      <td>27</td>\n",
       "      <td>высшее</td>\n",
       "      <td>0</td>\n",
       "      <td>гражданский брак</td>\n",
       "      <td>1</td>\n",
       "      <td>M</td>\n",
       "      <td>компаньон</td>\n",
       "      <td>0</td>\n",
       "      <td>255763</td>\n",
       "      <td>покупка жилья</td>\n",
       "      <td>B</td>\n",
       "      <td>операции с недвижимостью</td>\n",
       "    </tr>\n",
       "    <tr>\n",
       "      <th>6</th>\n",
       "      <td>0</td>\n",
       "      <td>2879.202052</td>\n",
       "      <td>43</td>\n",
       "      <td>высшее</td>\n",
       "      <td>0</td>\n",
       "      <td>женат / замужем</td>\n",
       "      <td>0</td>\n",
       "      <td>F</td>\n",
       "      <td>компаньон</td>\n",
       "      <td>0</td>\n",
       "      <td>240525</td>\n",
       "      <td>операции с жильем</td>\n",
       "      <td>B</td>\n",
       "      <td>операции с недвижимостью</td>\n",
       "    </tr>\n",
       "    <tr>\n",
       "      <th>7</th>\n",
       "      <td>0</td>\n",
       "      <td>152.779569</td>\n",
       "      <td>50</td>\n",
       "      <td>среднее</td>\n",
       "      <td>1</td>\n",
       "      <td>женат / замужем</td>\n",
       "      <td>0</td>\n",
       "      <td>M</td>\n",
       "      <td>сотрудник</td>\n",
       "      <td>0</td>\n",
       "      <td>135823</td>\n",
       "      <td>образование</td>\n",
       "      <td>C</td>\n",
       "      <td>получение образования</td>\n",
       "    </tr>\n",
       "    <tr>\n",
       "      <th>8</th>\n",
       "      <td>2</td>\n",
       "      <td>6929.865299</td>\n",
       "      <td>35</td>\n",
       "      <td>высшее</td>\n",
       "      <td>0</td>\n",
       "      <td>гражданский брак</td>\n",
       "      <td>1</td>\n",
       "      <td>F</td>\n",
       "      <td>сотрудник</td>\n",
       "      <td>0</td>\n",
       "      <td>95856</td>\n",
       "      <td>на проведение свадьбы</td>\n",
       "      <td>C</td>\n",
       "      <td>проведение свадьбы</td>\n",
       "    </tr>\n",
       "    <tr>\n",
       "      <th>9</th>\n",
       "      <td>0</td>\n",
       "      <td>2188.756445</td>\n",
       "      <td>41</td>\n",
       "      <td>среднее</td>\n",
       "      <td>1</td>\n",
       "      <td>женат / замужем</td>\n",
       "      <td>0</td>\n",
       "      <td>M</td>\n",
       "      <td>сотрудник</td>\n",
       "      <td>0</td>\n",
       "      <td>144425</td>\n",
       "      <td>покупка жилья для семьи</td>\n",
       "      <td>C</td>\n",
       "      <td>операции с недвижимостью</td>\n",
       "    </tr>\n",
       "  </tbody>\n",
       "</table>\n",
       "</div>"
      ],
      "text/plain": [
       "   children  days_employed  dob_years education  education_id  \\\n",
       "0         1    8437.673028         42    высшее             0   \n",
       "1         1    4024.803754         36   среднее             1   \n",
       "2         0    5623.422610         33   среднее             1   \n",
       "3         3    4124.747207         32   среднее             1   \n",
       "4         0  340266.072047         53   среднее             1   \n",
       "5         0     926.185831         27    высшее             0   \n",
       "6         0    2879.202052         43    высшее             0   \n",
       "7         0     152.779569         50   среднее             1   \n",
       "8         2    6929.865299         35    высшее             0   \n",
       "9         0    2188.756445         41   среднее             1   \n",
       "\n",
       "      family_status  family_status_id gender income_type  debt  total_income  \\\n",
       "0   женат / замужем                 0      F   сотрудник     0        253875   \n",
       "1   женат / замужем                 0      F   сотрудник     0        112080   \n",
       "2   женат / замужем                 0      M   сотрудник     0        145885   \n",
       "3   женат / замужем                 0      M   сотрудник     0        267628   \n",
       "4  гражданский брак                 1      F   пенсионер     0        158616   \n",
       "5  гражданский брак                 1      M   компаньон     0        255763   \n",
       "6   женат / замужем                 0      F   компаньон     0        240525   \n",
       "7   женат / замужем                 0      M   сотрудник     0        135823   \n",
       "8  гражданский брак                 1      F   сотрудник     0         95856   \n",
       "9   женат / замужем                 0      M   сотрудник     0        144425   \n",
       "\n",
       "                      purpose total_income_category          purpose_category  \n",
       "0               покупка жилья                     B  операции с недвижимостью  \n",
       "1     приобретение автомобиля                     C    операции с автомобилем  \n",
       "2               покупка жилья                     C  операции с недвижимостью  \n",
       "3  дополнительное образование                     B     получение образования  \n",
       "4             сыграть свадьбу                     C        проведение свадьбы  \n",
       "5               покупка жилья                     B  операции с недвижимостью  \n",
       "6           операции с жильем                     B  операции с недвижимостью  \n",
       "7                 образование                     C     получение образования  \n",
       "8       на проведение свадьбы                     C        проведение свадьбы  \n",
       "9     покупка жилья для семьи                     C  операции с недвижимостью  "
      ]
     },
     "metadata": {},
     "output_type": "display_data"
    },
    {
     "name": "stdout",
     "output_type": "stream",
     "text": [
      "None\n"
     ]
    }
   ],
   "source": [
    "# создаем новый столбец purpose_category\n",
    "data['purpose_category'] = data['purpose'].apply(categorize_purpose)\n",
    "\n",
    "# проверяем изменения датафрейма\n",
    "print(display(data.head(10)))"
   ]
  },
  {
   "cell_type": "markdown",
   "id": "59fa8a5e-02be-4744-9349-2b56cc7af5bf",
   "metadata": {},
   "source": [
    "### Шаг 3. Анализ данных"
   ]
  },
  {
   "cell_type": "markdown",
   "id": "b10c100a-2bf5-4360-b3ed-9ff8122475d4",
   "metadata": {},
   "source": [
    "#### 3.1 Есть ли зависимость между количеством детей и возвратом кредита в срок?"
   ]
  },
  {
   "cell_type": "markdown",
   "id": "20c3f23f-5330-49be-9671-929ae84818a4",
   "metadata": {},
   "source": [
    "Разделим клиентов на две большие группы: имеющих детей и неимеющих. Посмотрим влияет ли в целом наличие/отсутствие детей на задолжность"
   ]
  },
  {
   "cell_type": "code",
   "execution_count": 28,
   "id": "26ef4d7c-aa1e-4c3b-960c-95898b3dd8a8",
   "metadata": {},
   "outputs": [],
   "source": [
    "#Выделяем группу клиентов с детьми\n",
    "client_with_child = data[data['children'] > 0] \n",
    "\n",
    "#Выделяем группу клиентов без детей\n",
    "client_childless = data.loc[data['children'] == 0]"
   ]
  },
  {
   "cell_type": "code",
   "execution_count": 29,
   "id": "9970355a-c8ef-4e4b-9c13-8df559688fbd",
   "metadata": {},
   "outputs": [],
   "source": [
    "#Получаем количество клиентов с детьми\n",
    "count_client_with_child = client_with_child['children'].count() \n",
    "\n",
    "#Получаем количество клиентов без детей\n",
    "count_client_childless = client_childless['children'].count()\n",
    "\n",
    "#Общее количество клиентов\n",
    "count_client = data['children'].count()"
   ]
  },
  {
   "cell_type": "code",
   "execution_count": 30,
   "id": "8e6230a2-e443-42c8-b088-86550a144388",
   "metadata": {},
   "outputs": [
    {
     "name": "stdout",
     "output_type": "stream",
     "text": [
      "Клиентов имеющих детей в компании: 33.94%, из них должников 9.24%\n",
      "\n",
      "Клиентов неимеющих детей в компании: 66.06%, из них должников 7.54%\n",
      "\n"
     ]
    }
   ],
   "source": [
    "# Среди группы клиентов, не имеющих детей, выявляем процент должников\n",
    "perс_childless = client_childless['debt'].sum() /  count_client_childless\n",
    "\n",
    "perс_with_child = client_with_child['debt'].sum() / count_client_with_child \n",
    "\n",
    "print (f'Клиентов имеющих детей в компании: {count_client_with_child/count_client:.2%}, \\\n",
    "из них должников {perс_with_child:.2%}\\n')\n",
    "print (f'Клиентов неимеющих детей в компании: {count_client_childless/count_client:.2%}, \\\n",
    "из них должников {perс_childless:.2%}\\n')"
   ]
  },
  {
   "cell_type": "code",
   "execution_count": 31,
   "id": "5d031b6f-1ca3-40c7-af00-78f70fd19627",
   "metadata": {},
   "outputs": [],
   "source": [
    "def effect_param_on_dept (df, param):\n",
    "    \"\"\"\n",
    "    Создаем функцию, которая будет возвращать данные о влиянии параметра param на задолжность\n",
    "    В качестве первого аргумента принимает датафрейм с данными, \n",
    "    в качестве второго название столбца, влияние которого на задолжность мы изучаем.\n",
    "    \"\"\"\n",
    "    try:\n",
    "        #Разделяем клиентов на группы по param (например количеству детей). \n",
    "        #И запишем количество клиентов каждой группы в переменную count_client_param\n",
    "        count_client_param = df.groupby(param)[param].count()\n",
    "        \n",
    "        #Выразим в процентах:\n",
    "        perc_client_param = count_client_param / df[param].count()\n",
    "        \n",
    "        #Форматируем для вывода процентов:\n",
    "        perc_client_param = pd.Series([\"{0:.2f}%\".format(val * 100) for val in perc_client_param],\\\n",
    "                                      index = perc_client_param.index)\n",
    "        print ('Клиентов по параметру', param, 'в компании:','\\n\\n', perc_client_param, '\\n\\n')\n",
    "        \n",
    "        #Разделяем клиентов на группы по param (например количеству детей).\n",
    "        #И запишем количество должников каждой группы\n",
    "        count_debt_param= data.groupby(param)['debt'].sum()\n",
    "        \n",
    "        #Выразим в процентах:\n",
    "        perc_debt_param = count_debt_param / count_client_param\n",
    "        \n",
    "        #Форматируем для вывода процентов:\n",
    "        perc_debt_param = pd.Series([\"{0:.2f}%\".format(val * 100) for val in perc_debt_param], \\\n",
    "                                    index = perc_debt_param.index)\n",
    "        \n",
    "        #Выведем результат в порядке возврасттания задолжности в группе\n",
    "        print ('Должников в каждой группе:','\\n\\n', perc_debt_param.sort_values(), '\\n\\n')\n",
    "    except:\n",
    "        print ('not')\n"
   ]
  },
  {
   "cell_type": "markdown",
   "id": "3f777625-dd24-4d39-b7ea-39a2d33b902a",
   "metadata": {},
   "source": [
    "Посмотрим теперь подкатегории: по количеству детей. Для начала вспомним список уникальных значений столбца, чтобы понять клиенты с каким кол-вом детей встречаются"
   ]
  },
  {
   "cell_type": "code",
   "execution_count": 32,
   "id": "6487c3ba-0e6b-4586-b5b9-4ba80827d884",
   "metadata": {},
   "outputs": [
    {
     "data": {
      "text/plain": [
       "array([1, 0, 3, 2, 4, 5], dtype=int64)"
      ]
     },
     "execution_count": 32,
     "metadata": {},
     "output_type": "execute_result"
    }
   ],
   "source": [
    "data['children'].unique() "
   ]
  },
  {
   "cell_type": "markdown",
   "id": "b1959342-c1ca-4b78-811c-5152f257b19e",
   "metadata": {},
   "source": [
    "Применим функцию effect_param_on_dept, чтобы посмотреть как влияет количество детей на задолжность"
   ]
  },
  {
   "cell_type": "code",
   "execution_count": 33,
   "id": "ea08b1b8-3a1c-4a1d-8ea3-3fb823a96f89",
   "metadata": {},
   "outputs": [
    {
     "name": "stdout",
     "output_type": "stream",
     "text": [
      "Клиентов по параметру children в компании: \n",
      "\n",
      " children\n",
      "0    66.06%\n",
      "1    22.54%\n",
      "2     9.62%\n",
      "3     1.55%\n",
      "4     0.19%\n",
      "5     0.04%\n",
      "dtype: object \n",
      "\n",
      "\n",
      "Должников в каждой группе: \n",
      "\n",
      " children\n",
      "5    0.00%\n",
      "0    7.54%\n",
      "3    8.18%\n",
      "1    9.23%\n",
      "2    9.45%\n",
      "4    9.76%\n",
      "dtype: object \n",
      "\n",
      "\n"
     ]
    }
   ],
   "source": [
    "effect_param_on_dept (data, 'children')"
   ]
  },
  {
   "cell_type": "markdown",
   "id": "d6698985-9349-43c2-9e27-ebc48ad72684",
   "metadata": {},
   "source": [
    "**Вывод:**\n",
    "\n",
    "**1)** Клиентов разделили на две большие группы: имеющие детей и неимеющие. По анализу видно, что в большинстве клиентами банка являются люди, неимеющие детей -они составляют 66% от общего числа клиентов. И среди них, реже встречаются задолжности (невозврат кредита в срок). \n",
    "\n",
    "**2)** Разбили клиентов на группы по количеству детей. По анализу также подтверждается, что у неимеющих детей реже встречаются задолжности. Можно выделить еще тех клиентов, у которых трое детей, они лучше возвращают кредиты. В остальном не видно отчетливого влияния количества детей на задолжность. Категория клиентов, у которых пятеро детей очень мала, чтобы давать существенный вклад/влияние."
   ]
  },
  {
   "cell_type": "markdown",
   "id": "bcf9a0ec-01da-41fa-a006-22809e81de73",
   "metadata": {},
   "source": [
    "#### 3.2 Есть ли зависимость между семейным положением и возвратом кредита в срок?"
   ]
  },
  {
   "cell_type": "markdown",
   "id": "af3901e1-9c69-4fd2-b497-e32907a19a7c",
   "metadata": {},
   "source": [
    "Применим функцию effect_param_on_dept, чтобы посмотреть как влияет семейное положение на задолжность"
   ]
  },
  {
   "cell_type": "code",
   "execution_count": 34,
   "id": "b49a1b3e-012a-4056-8286-ba96ed3cd137",
   "metadata": {},
   "outputs": [
    {
     "name": "stdout",
     "output_type": "stream",
     "text": [
      "Клиентов по параметру family_status в компании: \n",
      "\n",
      " family_status\n",
      "Не женат / не замужем    13.11%\n",
      "в разводе                 5.57%\n",
      "вдовец / вдова            4.46%\n",
      "гражданский брак         19.38%\n",
      "женат / замужем          57.48%\n",
      "dtype: object \n",
      "\n",
      "\n",
      "Должников в каждой группе: \n",
      "\n",
      " family_status\n",
      "вдовец / вдова           6.62%\n",
      "в разводе                7.06%\n",
      "женат / замужем          7.56%\n",
      "гражданский брак         9.32%\n",
      "Не женат / не замужем    9.76%\n",
      "dtype: object \n",
      "\n",
      "\n"
     ]
    }
   ],
   "source": [
    "effect_param_on_dept (data, 'family_status')"
   ]
  },
  {
   "cell_type": "markdown",
   "id": "201c5a0e-4b4a-4225-a914-8308c4602466",
   "metadata": {},
   "source": [
    "**Вывод:** \n",
    "\n",
    "Меньше всего задолжностей у клиентов, которые имеют семейное положение вдовец/вдова или в разводе. \n",
    "\n",
    "Большинство задолжностей находятся в группах неженатых/незамужних и тех, кто в гражданском браке."
   ]
  },
  {
   "cell_type": "markdown",
   "id": "e5fe0de9-9d76-4e71-b664-5a91cee1721f",
   "metadata": {},
   "source": [
    "#### 3.3 Есть ли зависимость между уровнем дохода и возвратом кредита в срок?"
   ]
  },
  {
   "cell_type": "code",
   "execution_count": 35,
   "id": "4faa0715-ef4f-4809-b821-93abcea3a0a7",
   "metadata": {},
   "outputs": [
    {
     "name": "stdout",
     "output_type": "stream",
     "text": [
      "Клиентов по параметру total_income_category в компании: \n",
      "\n",
      " total_income_category\n",
      "A     0.12%\n",
      "B    23.50%\n",
      "C    74.64%\n",
      "D     1.64%\n",
      "E     0.10%\n",
      "dtype: object \n",
      "\n",
      "\n",
      "Должников в каждой группе: \n",
      "\n",
      " total_income_category\n",
      "D    6.02%\n",
      "B    7.06%\n",
      "A    8.00%\n",
      "C    8.50%\n",
      "E    9.09%\n",
      "dtype: object \n",
      "\n",
      "\n"
     ]
    }
   ],
   "source": [
    "effect_param_on_dept (data, 'total_income_category')"
   ]
  },
  {
   "cell_type": "markdown",
   "id": "73d7e9be-8fa1-4ecb-9594-e8c85b96ecd1",
   "metadata": {},
   "source": [
    "**Вывод:** \n",
    "\n",
    "Меньше всего задолжностей у клиентов с категорией дохода D и B.\n",
    "\n",
    "Больше всего задолжностей у клиентов с категорией дохода E и C.\n",
    "\n",
    "Однако, клиентов в категории A,D и E очень мало, не будем на них ориентироваться. Можно предположить, что более состоятельный клиент окажется более надежным заемщиком."
   ]
  },
  {
   "cell_type": "markdown",
   "id": "40fdcd0f-b4e6-4bb5-bed3-35194085e09f",
   "metadata": {},
   "source": [
    "#### 3.4 Как разные цели кредита влияют на его возврат в срок?"
   ]
  },
  {
   "cell_type": "code",
   "execution_count": 36,
   "id": "c212be5d-705b-4b8e-8675-fb9082c55ffd",
   "metadata": {},
   "outputs": [
    {
     "name": "stdout",
     "output_type": "stream",
     "text": [
      "Клиентов по параметру purpose_category в компании: \n",
      "\n",
      " purpose_category\n",
      "операции с автомобилем      20.06%\n",
      "операции с недвижимостью    50.40%\n",
      "получение образования       18.70%\n",
      "проведение свадьбы          10.84%\n",
      "dtype: object \n",
      "\n",
      "\n",
      "Должников в каждой группе: \n",
      "\n",
      " purpose_category\n",
      "операции с недвижимостью    7.26%\n",
      "проведение свадьбы          7.91%\n",
      "получение образования       9.25%\n",
      "операции с автомобилем      9.35%\n",
      "dtype: object \n",
      "\n",
      "\n"
     ]
    }
   ],
   "source": [
    "effect_param_on_dept (data, 'purpose_category')"
   ]
  },
  {
   "cell_type": "markdown",
   "id": "80db909a-d7ca-4fd4-b53a-a29ac5bd1157",
   "metadata": {},
   "source": [
    "**Вывод:** \n",
    "\n",
    "Меньше всего задолжностей у клиентов, чья цель кредита 'операции с недвижимостью' или 'проведение свадьбы'.\n",
    "\n",
    "Больше всего задолжностей у клиентов, чья цель кредита 'операции с автомобилем' или 'получение образования'."
   ]
  },
  {
   "cell_type": "markdown",
   "id": "6c72c3d7-cac7-41ee-ba4e-ce1ab3b730fe",
   "metadata": {},
   "source": [
    "### Шаг 4: Общий вывод:"
   ]
  },
  {
   "cell_type": "markdown",
   "id": "a484f72c-4334-4164-bcc9-17352befb104",
   "metadata": {},
   "source": [
    "#### Цели исследования:\n",
    "\n",
    "Нужно разобраться, влияет ли семейное положение и количество детей клиента на факт погашения кредита в срок.\n",
    "\n",
    "Результаты исследования будут учтены при построении модели кредитного скоринга — специальной системы, которая оценивает способность потенциального заёмщика вернуть кредит банку.\n",
    "\n",
    "***\n",
    "\n",
    "#### Полученные данные были проверены на пропуски, аномалии и ошибки:\n",
    "* В двух столбцах `days_employed` (общий трудовой стаж в днях) и `total_income` (ежемесячный доход) было обнаружено по 2174 пропуска из 21525 значений. Пропуски были заполнены медианным стажем и медианным доходом по каждому типу занятости (сотрудник/пенсионер/и др.) \n",
    "* В столбце `children` (количество детей) попалась пара аномальных значений: -1 и 20. Строки с этими значениями были удалены из таблицы.\n",
    "* В таблице были обнаружены и удалены дубликаты в количестве 71 строк.\n",
    "* Для последующего анализа в таблице был добавлен столбец `total_income_category` со следующими категориями зарплат:\n",
    "\n",
    "            0–30000 — `'E'`;\n",
    "            30001–50000 — `'D'`;\n",
    "            50001–200000 — `'C'`;\n",
    "            200001–1000000 — `'B'`;\n",
    "            1000001 и выше — `'A'`.\n",
    "        \n",
    "***\n",
    "\n",
    "#### Результаты и выводы исследования:\n",
    "\n",
    "* Семейное положение и количество детей клиента влияет на факт погашения кредита в срок:\n",
    "\n",
    "    Так самое высокое количество должников встречается среди неженатых/незамужних (9,76%) и живущих в гражданском браке (9,31%), чем у клиентов с другим семейным положением. \n",
    "    Процент должников среди разных групп семейного положения представлен в таблице:\n",
    "    \n",
    "    | Семейное положение    | Доля таких клиентов от общего числа  | Доля должников среди этих клиентов |\n",
    "    |:---------------------:|:------------------------------------:|:----------------------------------:|\n",
    "    | вдовец / вдова        |    4.46%                             |  6.62%                             |\n",
    "    | в разводе             |    5.57%                             |  7.06%                             |\n",
    "    | женат / замужем       |    57.48%                            |  7.56%                             |\n",
    "    | гражданский брак      |    19.38%                            |  9.31%                             |\n",
    "    | Не женат / не замужем |    13.11%                            |  9.76%                             |\n",
    "  "
   ]
  },
  {
   "cell_type": "markdown",
   "id": "cffdaf55-45e7-49e4-a35a-c112ba533c77",
   "metadata": {},
   "source": [
    "    Клиенты неимеющие детей реже имеют задолжности. В остальном, среди клиентов имеющих детей, количество детей не сильно коррелирует с задолжностью. Процент должников среди клиентов с разным количеством детей представлен в таблице:\n",
    "    \n",
    "| Количество детей      | Доля таких клиентов от общего числа  | Доля должников среди этих клиентов |\n",
    "|:---------------------:|:------------------------------------:|:----------------------------------:|\n",
    "| 5 |    0.04%  |  0.00%                             |\n",
    "| 0 |    66.06% |  7.54%                             |\n",
    "| 3 |    1.55%  |  8.18%                             |\n",
    "| 1 |    22.54% |  9.23%                             |\n",
    "| 2 |    9.62%  |  9.45%                             |\n",
    "| 4 |    0.19%  |  9.76%                             |\n",
    "    \n",
    "       Доля клиентов неимеющих детей в компании - 66.06%, из них должников 7.54%\n",
    "    Доля клиентов имеющих детей(одного или больше ребенка) в компании - 33.94%, из них общий процент должников 9.24%\n",
    "      \n",
    "***\n"
   ]
  },
  {
   "cell_type": "markdown",
   "id": "ed449925-4dc0-426a-9a03-d2500c67fd9d",
   "metadata": {},
   "source": [
    "#### Дополнительные результаты и выводы исследования:\n",
    "\n",
    "\n",
    "* Кроме того, на факт погашения кредита в срок влияет цель кредита и уровень дохода:\n",
    "\n",
    "    Так самое высокое количество должников встречается среди тех клиентов, которые берут кредит для операций с автомобилем или для получения образования. Процент должников среди клиентов с разными целями представлен в таблице:\n",
    "    \n",
    "    | Цель кредита          | Доля таких клиентов от общего числа  | Доля должников среди этих клиентов |\n",
    "    |:---------------------:|:------------------------------------:|:----------------------------------:|\n",
    "    | операции с недвижимостью |  50.40%  |  7.26%                            |\n",
    "    | проведение свадьбы |    10.84%|  7.91%                             |\n",
    "    | получение образования |    18.70%  |  9.25%                             |\n",
    "    | операции с автомобилем |    20.06% |  9.35%                            |\n"
   ]
  },
  {
   "cell_type": "markdown",
   "id": "2f95b43c-1ffd-4f12-a473-9996d7a72b20",
   "metadata": {},
   "source": [
    "    По уровню дохода: На малочисленные категории A,D,E не стоит ориентироваться, поэтому можно предположить, что более состоятельный клиент - более надежный. Доля клиентов в каждой категории дохода и доля должников в этих категориях представлены в таблице:\n",
    "    \n",
    "| Категория дохода      | Доля таких клиентов от общего числа  | Доля должников среди этих клиентов |\n",
    "|:----------------------|:------------------------------------:|:----------------------------------:|\n",
    "| D (30001–50000) |  1.64%  |  6.02%                           |\n",
    "| B (200001–1000000) |    23.51%|  7.06%                             |\n",
    "| A (1000001 и выше) |    0.12%  |  8.00%                             |\n",
    "| C (50001–200000) |    74.64% |  8.50%                            |\n",
    "| E (0–30000) |    0.10% |  9.09%                           |\n",
    "            \n"
   ]
  }
 ],
 "metadata": {
  "kernelspec": {
   "display_name": "Python 3 (ipykernel)",
   "language": "python",
   "name": "python3"
  },
  "language_info": {
   "codemirror_mode": {
    "name": "ipython",
    "version": 3
   },
   "file_extension": ".py",
   "mimetype": "text/x-python",
   "name": "python",
   "nbconvert_exporter": "python",
   "pygments_lexer": "ipython3",
   "version": "3.9.18"
  }
 },
 "nbformat": 4,
 "nbformat_minor": 5
}
