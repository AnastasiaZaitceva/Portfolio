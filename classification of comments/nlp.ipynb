{
 "cells": [
  {
   "cell_type": "markdown",
   "metadata": {},
   "source": [
    "# Проект для «Викишоп»\n",
    "\n",
    "***\n",
    "### Задача:\n",
    "\n",
    "Интернет-магазин запускает новый сервис. Теперь пользователи могут редактировать и дополнять описания товаров, как в вики-сообществах. То есть клиенты предлагают свои правки и комментируют изменения других. Магазину нужен инструмент, который будет искать токсичные комментарии и отправлять их на модерацию.\n",
    "\n",
    "Необходимо обучить модель классифицировать комментарии на позитивные и негативные. В нашем распоряжении набор данных с разметкой о токсичности правок.\n",
    "\n",
    "Метрика качества F1 должна быть не меньше 0.75.\n",
    "\n",
    "### Описание данных:\n",
    "\n",
    "Данные находятся в файле /toxic_comments.csv.\n",
    "\n",
    "<br/>\n",
    "\n",
    "***\n",
    "\n",
    "### План работы:\n",
    "\n",
    "**[Шаг 1.](#section_1)** Загрузка, анализ  и подготовка данных.\n",
    "\n",
    "**[Шаг 2.](#section_2)** Обучение и проверка моделей.\n",
    "\n",
    "**[Шаг 3.](#section_3)** Общий вывод\n",
    "\n",
    "<br/>\n"
   ]
  },
  {
   "cell_type": "markdown",
   "metadata": {},
   "source": [
    "<a id='section_1'></a>\n",
    "### Шаг 1. Загрузка, анализ и подготовка данных"
   ]
  },
  {
   "cell_type": "code",
   "execution_count": 1,
   "metadata": {},
   "outputs": [],
   "source": [
    "import pandas as pd\n",
    "import re \n",
    "import nltk\n",
    "import sys\n",
    "import spacy\n",
    "\n",
    "from sklearn.feature_extraction.text import TfidfVectorizer \n",
    "from sklearn.linear_model import LogisticRegression \n",
    "from sklearn.tree import DecisionTreeClassifier\n",
    "from sklearn.metrics import f1_score\n",
    "from nltk.tokenize import word_tokenize\n",
    "from nltk.stem import WordNetLemmatizer \n",
    "from nltk.corpus import(\n",
    "    stopwords as nltk_stopwords,\n",
    "    wordnet)\n",
    "from sklearn.model_selection import(\n",
    "    train_test_split, \n",
    "    GridSearchCV)"
   ]
  },
  {
   "cell_type": "code",
   "execution_count": 2,
   "metadata": {},
   "outputs": [
    {
     "name": "stderr",
     "output_type": "stream",
     "text": [
      "[nltk_data] Downloading collection 'popular'\n",
      "[nltk_data]    | \n",
      "[nltk_data]    | Downloading package cmudict to\n",
      "[nltk_data]    |     C:\\Users\\ratus\\AppData\\Roaming\\nltk_data...\n",
      "[nltk_data]    |   Unzipping corpora\\cmudict.zip.\n",
      "[nltk_data]    | Downloading package gazetteers to\n",
      "[nltk_data]    |     C:\\Users\\ratus\\AppData\\Roaming\\nltk_data...\n",
      "[nltk_data]    |   Unzipping corpora\\gazetteers.zip.\n",
      "[nltk_data]    | Downloading package genesis to\n",
      "[nltk_data]    |     C:\\Users\\ratus\\AppData\\Roaming\\nltk_data...\n",
      "[nltk_data]    |   Unzipping corpora\\genesis.zip.\n",
      "[nltk_data]    | Downloading package gutenberg to\n",
      "[nltk_data]    |     C:\\Users\\ratus\\AppData\\Roaming\\nltk_data...\n",
      "[nltk_data]    |   Unzipping corpora\\gutenberg.zip.\n",
      "[nltk_data]    | Downloading package inaugural to\n",
      "[nltk_data]    |     C:\\Users\\ratus\\AppData\\Roaming\\nltk_data...\n",
      "[nltk_data]    |   Unzipping corpora\\inaugural.zip.\n",
      "[nltk_data]    | Downloading package movie_reviews to\n",
      "[nltk_data]    |     C:\\Users\\ratus\\AppData\\Roaming\\nltk_data...\n",
      "[nltk_data]    |   Unzipping corpora\\movie_reviews.zip.\n",
      "[nltk_data]    | Downloading package names to\n",
      "[nltk_data]    |     C:\\Users\\ratus\\AppData\\Roaming\\nltk_data...\n",
      "[nltk_data]    |   Unzipping corpora\\names.zip.\n",
      "[nltk_data]    | Downloading package shakespeare to\n",
      "[nltk_data]    |     C:\\Users\\ratus\\AppData\\Roaming\\nltk_data...\n",
      "[nltk_data]    |   Unzipping corpora\\shakespeare.zip.\n",
      "[nltk_data]    | Downloading package stopwords to\n",
      "[nltk_data]    |     C:\\Users\\ratus\\AppData\\Roaming\\nltk_data...\n",
      "[nltk_data]    |   Unzipping corpora\\stopwords.zip.\n",
      "[nltk_data]    | Downloading package treebank to\n",
      "[nltk_data]    |     C:\\Users\\ratus\\AppData\\Roaming\\nltk_data...\n",
      "[nltk_data]    |   Unzipping corpora\\treebank.zip.\n",
      "[nltk_data]    | Downloading package twitter_samples to\n",
      "[nltk_data]    |     C:\\Users\\ratus\\AppData\\Roaming\\nltk_data...\n",
      "[nltk_data]    |   Unzipping corpora\\twitter_samples.zip.\n",
      "[nltk_data]    | Downloading package omw to\n",
      "[nltk_data]    |     C:\\Users\\ratus\\AppData\\Roaming\\nltk_data...\n",
      "[nltk_data]    | Downloading package omw-1.4 to\n",
      "[nltk_data]    |     C:\\Users\\ratus\\AppData\\Roaming\\nltk_data...\n",
      "[nltk_data]    | Downloading package wordnet to\n",
      "[nltk_data]    |     C:\\Users\\ratus\\AppData\\Roaming\\nltk_data...\n",
      "[nltk_data]    | Downloading package wordnet2021 to\n",
      "[nltk_data]    |     C:\\Users\\ratus\\AppData\\Roaming\\nltk_data...\n",
      "[nltk_data]    | Downloading package wordnet31 to\n",
      "[nltk_data]    |     C:\\Users\\ratus\\AppData\\Roaming\\nltk_data...\n",
      "[nltk_data]    | Downloading package wordnet_ic to\n",
      "[nltk_data]    |     C:\\Users\\ratus\\AppData\\Roaming\\nltk_data...\n",
      "[nltk_data]    |   Unzipping corpora\\wordnet_ic.zip.\n",
      "[nltk_data]    | Downloading package words to\n",
      "[nltk_data]    |     C:\\Users\\ratus\\AppData\\Roaming\\nltk_data...\n",
      "[nltk_data]    |   Unzipping corpora\\words.zip.\n",
      "[nltk_data]    | Downloading package maxent_ne_chunker to\n",
      "[nltk_data]    |     C:\\Users\\ratus\\AppData\\Roaming\\nltk_data...\n",
      "[nltk_data]    |   Unzipping chunkers\\maxent_ne_chunker.zip.\n",
      "[nltk_data]    | Downloading package punkt to\n",
      "[nltk_data]    |     C:\\Users\\ratus\\AppData\\Roaming\\nltk_data...\n",
      "[nltk_data]    |   Unzipping tokenizers\\punkt.zip.\n",
      "[nltk_data]    | Downloading package snowball_data to\n",
      "[nltk_data]    |     C:\\Users\\ratus\\AppData\\Roaming\\nltk_data...\n",
      "[nltk_data]    | Downloading package averaged_perceptron_tagger to\n",
      "[nltk_data]    |     C:\\Users\\ratus\\AppData\\Roaming\\nltk_data...\n",
      "[nltk_data]    |   Unzipping taggers\\averaged_perceptron_tagger.zip.\n",
      "[nltk_data]    | \n",
      "[nltk_data]  Done downloading collection popular\n",
      "[nltk_data] Downloading package stopwords to\n",
      "[nltk_data]     C:\\Users\\ratus\\AppData\\Roaming\\nltk_data...\n",
      "[nltk_data]   Package stopwords is already up-to-date!\n"
     ]
    },
    {
     "data": {
      "text/plain": [
       "True"
      ]
     },
     "execution_count": 2,
     "metadata": {},
     "output_type": "execute_result"
    }
   ],
   "source": [
    "nltk.download('popular')\n",
    "nltk.download('stopwords')"
   ]
  },
  {
   "cell_type": "code",
   "execution_count": 3,
   "metadata": {},
   "outputs": [],
   "source": [
    "#Сохраняем данные в датафрейм\n",
    "data = pd.read_csv('C:/Users/ratus/DATA_SCIENCE/итоговые проекты/11/toxic_comments.csv')"
   ]
  },
  {
   "cell_type": "code",
   "execution_count": 4,
   "metadata": {},
   "outputs": [
    {
     "name": "stdout",
     "output_type": "stream",
     "text": [
      "<class 'pandas.core.frame.DataFrame'>\n",
      "RangeIndex: 159292 entries, 0 to 159291\n",
      "Data columns (total 3 columns):\n",
      " #   Column      Non-Null Count   Dtype \n",
      "---  ------      --------------   ----- \n",
      " 0   Unnamed: 0  159292 non-null  int64 \n",
      " 1   text        159292 non-null  object\n",
      " 2   toxic       159292 non-null  int64 \n",
      "dtypes: int64(2), object(1)\n",
      "memory usage: 3.6+ MB\n"
     ]
    }
   ],
   "source": [
    "data.info()"
   ]
  },
  {
   "cell_type": "code",
   "execution_count": 5,
   "metadata": {},
   "outputs": [
    {
     "data": {
      "text/html": [
       "<div>\n",
       "<style scoped>\n",
       "    .dataframe tbody tr th:only-of-type {\n",
       "        vertical-align: middle;\n",
       "    }\n",
       "\n",
       "    .dataframe tbody tr th {\n",
       "        vertical-align: top;\n",
       "    }\n",
       "\n",
       "    .dataframe thead th {\n",
       "        text-align: right;\n",
       "    }\n",
       "</style>\n",
       "<table border=\"1\" class=\"dataframe\">\n",
       "  <thead>\n",
       "    <tr style=\"text-align: right;\">\n",
       "      <th></th>\n",
       "      <th>Unnamed: 0</th>\n",
       "      <th>text</th>\n",
       "      <th>toxic</th>\n",
       "    </tr>\n",
       "  </thead>\n",
       "  <tbody>\n",
       "    <tr>\n",
       "      <th>69167</th>\n",
       "      <td>69235</td>\n",
       "      <td>I should be unblocked because I didn't deserve...</td>\n",
       "      <td>0</td>\n",
       "    </tr>\n",
       "    <tr>\n",
       "      <th>89029</th>\n",
       "      <td>89112</td>\n",
       "      <td>betacommandbot not notifying contributor\\nbeta...</td>\n",
       "      <td>0</td>\n",
       "    </tr>\n",
       "    <tr>\n",
       "      <th>98815</th>\n",
       "      <td>98911</td>\n",
       "      <td>\"\\n\\n Wikipedia Admins Use Gestapo Tactics to ...</td>\n",
       "      <td>0</td>\n",
       "    </tr>\n",
       "    <tr>\n",
       "      <th>29285</th>\n",
       "      <td>29322</td>\n",
       "      <td>\"\\nSorry, it is at the end of the \"\"2008 lull\"...</td>\n",
       "      <td>0</td>\n",
       "    </tr>\n",
       "    <tr>\n",
       "      <th>73327</th>\n",
       "      <td>73398</td>\n",
       "      <td>=Anti-Pederasty\\n\\nSome Catholics accuse Non-C...</td>\n",
       "      <td>0</td>\n",
       "    </tr>\n",
       "  </tbody>\n",
       "</table>\n",
       "</div>"
      ],
      "text/plain": [
       "       Unnamed: 0                                               text  toxic\n",
       "69167       69235  I should be unblocked because I didn't deserve...      0\n",
       "89029       89112  betacommandbot not notifying contributor\\nbeta...      0\n",
       "98815       98911  \"\\n\\n Wikipedia Admins Use Gestapo Tactics to ...      0\n",
       "29285       29322  \"\\nSorry, it is at the end of the \"\"2008 lull\"...      0\n",
       "73327       73398  =Anti-Pederasty\\n\\nSome Catholics accuse Non-C...      0"
      ]
     },
     "execution_count": 5,
     "metadata": {},
     "output_type": "execute_result"
    }
   ],
   "source": [
    "data.sample(5)"
   ]
  },
  {
   "cell_type": "markdown",
   "metadata": {},
   "source": [
    "Полученный датафрейм содержит 169292 комментариев. Пустых значений в датафрейме нет. \n",
    "\n",
    "Названия соответствуют стилю snake_case. С типами данных все в порядке.\n",
    "\n",
    "Проверим наличие дубликатов:"
   ]
  },
  {
   "cell_type": "code",
   "execution_count": 6,
   "metadata": {
    "scrolled": true
   },
   "outputs": [
    {
     "name": "stdout",
     "output_type": "stream",
     "text": [
      "0\n"
     ]
    }
   ],
   "source": [
    "print (data.duplicated().sum())"
   ]
  },
  {
   "cell_type": "markdown",
   "metadata": {},
   "source": [
    "Дубликатов нет.\n",
    "\n",
    "Посмотрим на соотношение классов в целевом признаке:"
   ]
  },
  {
   "cell_type": "code",
   "execution_count": 7,
   "metadata": {},
   "outputs": [
    {
     "name": "stdout",
     "output_type": "stream",
     "text": [
      "Относительные значения частоты классов:\n",
      "0    0.898388\n",
      "1    0.101612\n",
      "Name: toxic, dtype: float64 \n",
      "\n"
     ]
    },
    {
     "data": {
      "image/png": "[encoded data removed]",
      "text/plain": [
       "<Figure size 400x400 with 1 Axes>"
      ]
     },
     "metadata": {},
     "output_type": "display_data"
    }
   ],
   "source": [
    "class_frequency = data['toxic'].value_counts(normalize=True)\n",
    "print('Относительные значения частоты классов:')\n",
    "print (class_frequency, '\\n');\n",
    "\n",
    "#Отобразим на графике\n",
    "class_frequency.plot(\n",
    "    kind='pie', \n",
    "    figsize = (4,4),\n",
    "    title = 'Соотношение классов в целевом признаке',\n",
    "    xlabel = ' ',\n",
    "    ylabel = ' ',\n",
    "    autopct='%1.0f%%',\n",
    "    \n",
    ");"
   ]
  },
  {
   "cell_type": "markdown",
   "metadata": {},
   "source": [
    "Видно что в нашем датафрейме токсичных комментариев существенно меньше чем других - дисбаланс классов налицо.\n",
    "\n",
    "Очистим и лемматизируем текст, оставив только буквы и пробелы: "
   ]
  },
  {
   "cell_type": "code",
   "execution_count": 8,
   "metadata": {},
   "outputs": [],
   "source": [
    "def clear_text(text):\n",
    "    \"\"\"\n",
    "    Функция, которая приводит к нижнему регистру \n",
    "    и оставляет к тексте только нужные буквы и пробелы\n",
    "    \"\"\"\n",
    "    text = text.lower()\n",
    "    clear_list = re.sub(r'[^a-z ]', ' ', text)\n",
    "    clear_text = \" \".join(clear_list.split())\n",
    "    return clear_text"
   ]
  },
  {
   "cell_type": "code",
   "execution_count": 9,
   "metadata": {},
   "outputs": [],
   "source": [
    "data['corrected_text'] = data['text'].apply(clear_text)"
   ]
  },
  {
   "cell_type": "code",
   "execution_count": 10,
   "metadata": {},
   "outputs": [],
   "source": [
    "def get_wordnet_pos(word):\n",
    "    \"\"\"\n",
    "    Сопоставление тега POS с первым символом части речи WordNet\n",
    "    \"\"\"\n",
    "    tag = nltk.pos_tag([word])[0][1][0].upper()\n",
    "    tag_dict = {\"J\": wordnet.ADJ,\n",
    "                \"N\": wordnet.NOUN,\n",
    "                \"V\": wordnet.VERB,\n",
    "                \"R\": wordnet.ADV}\n",
    "\n",
    "    return tag_dict.get(tag, wordnet.NOUN)"
   ]
  },
  {
   "cell_type": "code",
   "execution_count": 11,
   "metadata": {},
   "outputs": [],
   "source": [
    "m = WordNetLemmatizer()\n",
    "\n",
    "def lemmatize_pos(text):\n",
    "    \"\"\"\n",
    "    Функция для лемматизации текста\n",
    "    с соответствующим POS-тегом\n",
    "    \"\"\"\n",
    "    #Сначала мы разобъем предложение на слова с помощью tokenize, \n",
    "    #а затем вызываем.lemmatize() для каждого слова\n",
    "    words_list = nltk.word_tokenize(text)\n",
    "    lemm_text = \" \".join([m.lemmatize(word,get_wordnet_pos(word)) for word in words_list])\n",
    "    return lemm_text"
   ]
  },
  {
   "cell_type": "code",
   "execution_count": 12,
   "metadata": {},
   "outputs": [
    {
     "name": "stdout",
     "output_type": "stream",
     "text": [
      "CPU times: total: 52min 55s\n",
      "Wall time: 58min 11s\n"
     ]
    }
   ],
   "source": [
    "%%time\n",
    "data['corrected_text'] = data['corrected_text'].apply(lemmatize_pos)"
   ]
  },
  {
   "cell_type": "markdown",
   "metadata": {},
   "source": [
    "Сохраняю себе в файл, чтобы не прогонять постоянно:"
   ]
  },
  {
   "cell_type": "code",
   "execution_count": 13,
   "metadata": {},
   "outputs": [],
   "source": [
    "data.to_csv('corrected_data_nlp')"
   ]
  },
  {
   "cell_type": "code",
   "execution_count": 14,
   "metadata": {
    "scrolled": true
   },
   "outputs": [
    {
     "data": {
      "text/html": [
       "<div>\n",
       "<style scoped>\n",
       "    .dataframe tbody tr th:only-of-type {\n",
       "        vertical-align: middle;\n",
       "    }\n",
       "\n",
       "    .dataframe tbody tr th {\n",
       "        vertical-align: top;\n",
       "    }\n",
       "\n",
       "    .dataframe thead th {\n",
       "        text-align: right;\n",
       "    }\n",
       "</style>\n",
       "<table border=\"1\" class=\"dataframe\">\n",
       "  <thead>\n",
       "    <tr style=\"text-align: right;\">\n",
       "      <th></th>\n",
       "      <th>Unnamed: 0</th>\n",
       "      <th>text</th>\n",
       "      <th>toxic</th>\n",
       "      <th>corrected_text</th>\n",
       "    </tr>\n",
       "  </thead>\n",
       "  <tbody>\n",
       "    <tr>\n",
       "      <th>0</th>\n",
       "      <td>0</td>\n",
       "      <td>Explanation\\nWhy the edits made under my usern...</td>\n",
       "      <td>0</td>\n",
       "      <td>explanation why the edits make under my userna...</td>\n",
       "    </tr>\n",
       "    <tr>\n",
       "      <th>1</th>\n",
       "      <td>1</td>\n",
       "      <td>D'aww! He matches this background colour I'm s...</td>\n",
       "      <td>0</td>\n",
       "      <td>d aww he match this background colour i m seem...</td>\n",
       "    </tr>\n",
       "    <tr>\n",
       "      <th>2</th>\n",
       "      <td>2</td>\n",
       "      <td>Hey man, I'm really not trying to edit war. It...</td>\n",
       "      <td>0</td>\n",
       "      <td>hey man i m really not try to edit war it s ju...</td>\n",
       "    </tr>\n",
       "    <tr>\n",
       "      <th>3</th>\n",
       "      <td>3</td>\n",
       "      <td>\"\\nMore\\nI can't make any real suggestions on ...</td>\n",
       "      <td>0</td>\n",
       "      <td>more i can t make any real suggestion on impro...</td>\n",
       "    </tr>\n",
       "    <tr>\n",
       "      <th>4</th>\n",
       "      <td>4</td>\n",
       "      <td>You, sir, are my hero. Any chance you remember...</td>\n",
       "      <td>0</td>\n",
       "      <td>you sir be my hero any chance you remember wha...</td>\n",
       "    </tr>\n",
       "  </tbody>\n",
       "</table>\n",
       "</div>"
      ],
      "text/plain": [
       "   Unnamed: 0                                               text  toxic  \\\n",
       "0           0  Explanation\\nWhy the edits made under my usern...      0   \n",
       "1           1  D'aww! He matches this background colour I'm s...      0   \n",
       "2           2  Hey man, I'm really not trying to edit war. It...      0   \n",
       "3           3  \"\\nMore\\nI can't make any real suggestions on ...      0   \n",
       "4           4  You, sir, are my hero. Any chance you remember...      0   \n",
       "\n",
       "                                      corrected_text  \n",
       "0  explanation why the edits make under my userna...  \n",
       "1  d aww he match this background colour i m seem...  \n",
       "2  hey man i m really not try to edit war it s ju...  \n",
       "3  more i can t make any real suggestion on impro...  \n",
       "4  you sir be my hero any chance you remember wha...  "
      ]
     },
     "execution_count": 14,
     "metadata": {},
     "output_type": "execute_result"
    }
   ],
   "source": [
    "#Глянем результат:\n",
    "data.head()"
   ]
  },
  {
   "cell_type": "markdown",
   "metadata": {},
   "source": [
    "Разделим данные на обучающую и тестовую выборку:"
   ]
  },
  {
   "cell_type": "code",
   "execution_count": 15,
   "metadata": {},
   "outputs": [],
   "source": [
    "features = data['corrected_text']\n",
    "target = data['toxic']\n",
    "\n",
    "features_train, features_test, target_train, target_test = train_test_split(\n",
    "    features, target, test_size=0.2, random_state=123)"
   ]
  },
  {
   "cell_type": "code",
   "execution_count": 16,
   "metadata": {},
   "outputs": [
    {
     "name": "stdout",
     "output_type": "stream",
     "text": [
      "(127433,) (31859,)\n"
     ]
    }
   ],
   "source": [
    "#Проверяем размеры выборок:\n",
    "print (features_train.shape, features_test.shape)"
   ]
  },
  {
   "cell_type": "markdown",
   "metadata": {},
   "source": [
    "Вычислим матрицу TF-IDF по корпусу наших текстов, учитывая стоп-слова:"
   ]
  },
  {
   "cell_type": "code",
   "execution_count": 17,
   "metadata": {},
   "outputs": [],
   "source": [
    "stopwords = set(nltk_stopwords.words('english'))\n",
    "#создаем счетчик указаав стоп слова\n",
    "count_tf_idf = TfidfVectorizer(stop_words=list(stopwords))\n",
    "\n",
    "#получаем tf-idf для обучающей и тестовой выборки:\n",
    "tf_idf_train = count_tf_idf.fit_transform(features_train) \n",
    "tf_idf_test = count_tf_idf.transform(features_test) "
   ]
  },
  {
   "cell_type": "markdown",
   "metadata": {},
   "source": [
    "<a id='section_1'></a>\n",
    "### Шаг 2. Обучение и проверка моделей"
   ]
  },
  {
   "cell_type": "markdown",
   "metadata": {},
   "source": [
    "Попробуем простые модели LogisticRegression и  DecisionTreeClassifier.\n",
    "\n",
    "Для борьбы с дисбалансом применим взвешивание.\n",
    "\n",
    "Метрика у нас F1 должна быть не меньше 0.75."
   ]
  },
  {
   "cell_type": "markdown",
   "metadata": {},
   "source": [
    "#### 2.1 Модель логистической регрессии"
   ]
  },
  {
   "cell_type": "code",
   "execution_count": 18,
   "metadata": {},
   "outputs": [
    {
     "name": "stdout",
     "output_type": "stream",
     "text": [
      "лучшие параметры {'C': 5, 'max_iter': 150, 'solver': 'liblinear'}\n",
      "Метрика F1 на тренировочной выборке = 0.76\n",
      "CPU times: total: 13.9 s\n",
      "Wall time: 1min 5s\n"
     ]
    }
   ],
   "source": [
    "%%time\n",
    "\n",
    "#Cоздаем словарик, содержащий параметры, которые будем подбирать GridSearch’ем\n",
    "parametrs_log = { \n",
    "    'solver': ['liblinear','newton-cg'],\n",
    "    'C': [0.1,1,5,10],\n",
    "    'max_iter' : [150,200]\n",
    "}\n",
    "\n",
    "#Запускаем обучение\n",
    "grid_lr = GridSearchCV(\n",
    "    LogisticRegression(random_state=123,class_weight='balanced'), \n",
    "    parametrs_log,\n",
    "    scoring='f1',\n",
    "    n_jobs=-1\n",
    ");\n",
    "grid_lr.fit(tf_idf_train, target_train);\n",
    "\n",
    "#Записываем лучший результат:\n",
    "best_params_log = grid_lr.best_params_\n",
    "best_model_lr = grid_lr.best_estimator_\n",
    "\n",
    "print ('лучшие параметры', best_params_log)\n",
    "print ('Метрика F1 на тренировочной выборке = {:.2f}'.format(grid_lr.best_score_))"
   ]
  },
  {
   "cell_type": "markdown",
   "metadata": {},
   "source": [
    "Уже даже на простой модели логистической регрессии мы получили не меньше 0.75, понятное дело что это только на обучающих данных, но очень неплохо."
   ]
  },
  {
   "cell_type": "markdown",
   "metadata": {},
   "source": [
    "#### 2.2 Модель дерева решений"
   ]
  },
  {
   "cell_type": "code",
   "execution_count": 19,
   "metadata": {},
   "outputs": [
    {
     "name": "stdout",
     "output_type": "stream",
     "text": [
      "лучшие параметры {'max_depth': 14, 'min_samples_leaf': 6}\n",
      "Метрика F1 на тренировочной выборке = 0.60\n",
      "CPU times: total: 22.1 s\n",
      "Wall time: 4min 26s\n"
     ]
    }
   ],
   "source": [
    "%%time\n",
    "\n",
    "#Cоздаем словарик, содержащий параметры, которые будем подбирать GridSearch’ем\n",
    "parametrs_tree = { 'max_depth': range (2,18,4),\n",
    "            'min_samples_leaf': range (2,10,4)}\n",
    "\n",
    "#Запускаем обучение\n",
    "grid_tree = GridSearchCV(\n",
    "    DecisionTreeClassifier(random_state=123, class_weight='balanced'), \n",
    "    parametrs_tree, \n",
    "    scoring='f1',\n",
    "    n_jobs=-1\n",
    ");\n",
    "grid_tree.fit(tf_idf_train, target_train);\n",
    "\n",
    "#Записываем лучший результат:\n",
    "best_params_tree = grid_tree.best_params_\n",
    "best_model_tree = grid_tree.best_estimator_\n",
    "\n",
    "print ('лучшие параметры', best_params_tree)\n",
    "print ('Метрика F1 на тренировочной выборке = {:.2f}'.format(grid_tree.best_score_))"
   ]
  },
  {
   "cell_type": "markdown",
   "metadata": {},
   "source": [
    "Модель дерева решения показала результат значительно хуже (F1 = 0.60). Для тестирования выберем логистическую регрессию:"
   ]
  },
  {
   "cell_type": "markdown",
   "metadata": {},
   "source": [
    "#### 2.3 Тестирование модели"
   ]
  },
  {
   "cell_type": "code",
   "execution_count": 20,
   "metadata": {},
   "outputs": [
    {
     "name": "stdout",
     "output_type": "stream",
     "text": [
      " Метрика качества F1 на тестовой выборке = 0.76\n"
     ]
    }
   ],
   "source": [
    "predicted_test = best_model_lr.predict(tf_idf_test)\n",
    "\n",
    "f1_test = f1_score(target_test, predicted_test)\n",
    "print(f' Метрика качества F1 на тестовой выборке = {f1_test:.2f}')"
   ]
  },
  {
   "cell_type": "markdown",
   "metadata": {},
   "source": [
    "О, отлично, модель показала очень хорошее качество, не мешьше 0.75 как и необходимо заказчику.\n"
   ]
  },
  {
   "cell_type": "markdown",
   "metadata": {},
   "source": [
    "<a id='section_3'></a>\n",
    "### Шаг 3. Общий вывод."
   ]
  },
  {
   "attachments": {
    "13c6ccc0-b0d1-45ed-8d47-559b8268d7b7.png": {
     "image/png": "[encoded data removed]"
    }
   },
   "cell_type": "markdown",
   "metadata": {},
   "source": [
    "#### Цели исследования\n",
    "\n",
    "Необходимо обучить модель классификации комментариев на позитивные и негативные. Метрика качества F1 должна быть не меньше 0.75.  \n",
    "\n",
    "<br/> \n",
    "\n",
    "#### Полученные данные были изучены и прошли следующую предобработку:\n",
    "\n",
    "* Полученный датафрейм содержит 169292 комментариев. Пустых значений в датафрейме нет.\n",
    "\n",
    "* Названия соответствуют стилю snake_case. \n",
    "\n",
    "* С типами данных все в порядке.\n",
    "\n",
    "* Дубликатов в датафрейме нет.\n",
    "\n",
    "* Видно что в нашем датафрейме токсичных комментариев существенно меньше чем других - дисбаланс классов налицо:\n",
    "\n",
    "![image.png](attachment:13c6ccc0-b0d1-45ed-8d47-559b8268d7b7.png)\n",
    "\n",
    "* Текст был очищен (оставили только буквы и пробелы) и лемматизирован.\n",
    "\n",
    "* Данные были разделены на обучающую и тестовую выборку (80/20%).\n",
    "\n",
    "* Также были вычислена матрицу TF-IDF по корпусу наших текстов, учитывая стоп-слова.\n",
    "\n",
    "<br/> \n",
    "\n",
    "\n",
    "#### Обучение и проверка моделей:\n",
    "\n",
    "Были опробованы простые модели LogisticRegression и DecisionTreeClassifier.\n",
    "\n",
    "Для борьбы с дисбалансом применялось взвешивание. Метрика у нас как и заявлено в целях F1.\n",
    "\n",
    "Гиперпараметры моделей подбирались с помощью GridSearchCV.\n",
    "\n",
    "* Для модели логистической регрессии лучшие параметры {'C': 5, 'max_iter': 150, 'solver': 'liblinear'}\n",
    "    Метрика F1 на тренировочной выборке = 0.76\n",
    "\n",
    "Уже даже на простой модели логистической регрессии мы получили не меньше 0.75, очень неплохо.\n",
    "\n",
    "* Для модели дерева решений лучшие параметры {'max_depth': 14, 'min_samples_leaf': 6}\n",
    "    Метрика F1 на тренировочной выборке = 0.60\n",
    "\n",
    "Модель дерева решения показала результат значительно хуже. Для тестирования была выбрана логистическая регрессия.\n",
    "\n",
    "**Тестирование:**\n",
    "Значение метрики F1  на тестовых данных = 0.76. Модель показала очень хорошее качество, не мешьше 0.75 как и необходимо заказчику.\n",
    "\n",
    "<br/>\n",
    "\n",
    "### Вывод и рекомендации:\n",
    "\n",
    "По итогу работы можно рекомендовать модель логистической регрессии, с указанными выше характеристиками для классификации комментариев.\n",
    "\n",
    "Мы надеемся, что данная модель поможет улучшить работу сервиса, и готовы провести дополнительное исследование, если текущий результат недостаточен.\n",
    "\n",
    "<br/>"
   ]
  }
 ],
 "metadata": {
  "ExecuteTimeLog": [
   {
    "duration": 2420,
    "start_time": "2023-12-12T14:29:45.132Z"
   },
   {
    "duration": 16505,
    "start_time": "2023-12-12T14:29:47.554Z"
   },
   {
    "duration": 3417,
    "start_time": "2023-12-12T14:30:04.060Z"
   },
   {
    "duration": 31,
    "start_time": "2023-12-12T14:30:07.479Z"
   },
   {
    "duration": 25,
    "start_time": "2023-12-12T14:30:07.512Z"
   },
   {
    "duration": 229,
    "start_time": "2023-12-12T14:30:07.539Z"
   },
   {
    "duration": 535,
    "start_time": "2023-12-12T14:30:07.770Z"
   },
   {
    "duration": 2764,
    "start_time": "2023-12-12T14:30:08.307Z"
   },
   {
    "duration": 2026,
    "start_time": "2023-12-12T14:30:11.073Z"
   },
   {
    "duration": 1207,
    "start_time": "2023-12-12T14:30:13.101Z"
   },
   {
    "duration": 1041,
    "start_time": "2023-12-12T14:30:14.310Z"
   }
  ],
  "kernelspec": {
   "display_name": "Python 3 (ipykernel)",
   "language": "python",
   "name": "python3"
  },
  "language_info": {
   "codemirror_mode": {
    "name": "ipython",
    "version": 3
   },
   "file_extension": ".py",
   "mimetype": "text/x-python",
   "name": "python",
   "nbconvert_exporter": "python",
   "pygments_lexer": "ipython3",
   "version": "3.11.5"
  },
  "toc": {
   "base_numbering": 1,
   "nav_menu": {},
   "number_sections": true,
   "sideBar": true,
   "skip_h1_title": true,
   "title_cell": "Содержание",
   "title_sidebar": "Contents",
   "toc_cell": true,
   "toc_position": {
    "height": "calc(100% - 180px)",
    "left": "10px",
    "top": "150px",
    "width": "302.391px"
   },
   "toc_section_display": true,
   "toc_window_display": false
  }
 },
 "nbformat": 4,
 "nbformat_minor": 4
}
