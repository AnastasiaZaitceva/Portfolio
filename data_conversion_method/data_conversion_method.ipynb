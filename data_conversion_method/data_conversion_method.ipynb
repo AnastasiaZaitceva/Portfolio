{
 "cells": [
  {
   "cell_type": "markdown",
   "metadata": {
    "editable": true,
    "slideshow": {
     "slide_type": ""
    },
    "tags": []
   },
   "source": [
    "# Задача для страховой компании\n",
    "\n",
    "***\n",
    "### Задача:\n",
    "\n",
    "Нужно защитить данные клиентов страховой компании.\n",
    "    \n",
    "Необходимо разработать такой метод преобразования данных, чтобы по ним было сложно восстановить персональную информацию. Необходимо обосновать корректность его работы.\n",
    "\n",
    "Нужно защитить данные, чтобы при преобразовании качество моделей машинного обучения не ухудшилось. Подбирать наилучшую модель не требуется.\n",
    "\n",
    "<br/>\n",
    "\n",
    "***\n",
    "\n",
    "### План работы:\n",
    "\n",
    "**[Шаг 1.](#section_1)** Загрузка, изучение и обработка данных.\n",
    "\n",
    "**[Шаг 2.](#section_2)** Создание модели линейной регрессии и анализ преобразования данных.\n",
    "\n",
    "**[Шаг 3.](#section_3)** Реализация алгоритма преобразования данных.\n",
    "\n",
    "**[Шаг 4.](#section_4)** Общий вывод.\n",
    "\n",
    "<br/>\n"
   ]
  },
  {
   "cell_type": "markdown",
   "metadata": {
    "editable": true,
    "slideshow": {
     "slide_type": ""
    },
    "tags": []
   },
   "source": [
    "<a id='section_1'></a>\n",
    "### Шаг 1. Загрузка, изучение и обработка данных"
   ]
  },
  {
   "cell_type": "code",
   "execution_count": 1,
   "metadata": {
    "editable": true,
    "slideshow": {
     "slide_type": ""
    },
    "tags": []
   },
   "outputs": [],
   "source": [
    "#Загрузка необходимых библиотек:\n",
    "import pandas as pd\n",
    "import matplotlib.pyplot as plt\n",
    "import numpy as np\n",
    "\n",
    "from sklearn.model_selection import train_test_split\n",
    "from sklearn.metrics import r2_score"
   ]
  },
  {
   "cell_type": "code",
   "execution_count": 2,
   "metadata": {},
   "outputs": [],
   "source": [
    "#Сохраняем данные в датафрейм\n",
    "df = pd.read_csv('C:/Users/ratus/DATA_SCIENCE/итоговые проекты/8/insurance.csv')"
   ]
  },
  {
   "cell_type": "code",
   "execution_count": 3,
   "metadata": {},
   "outputs": [
    {
     "name": "stdout",
     "output_type": "stream",
     "text": [
      "<class 'pandas.core.frame.DataFrame'>\n",
      "RangeIndex: 5000 entries, 0 to 4999\n",
      "Data columns (total 5 columns):\n",
      " #   Column             Non-Null Count  Dtype  \n",
      "---  ------             --------------  -----  \n",
      " 0   Пол                5000 non-null   int64  \n",
      " 1   Возраст            5000 non-null   float64\n",
      " 2   Зарплата           5000 non-null   float64\n",
      " 3   Члены семьи        5000 non-null   int64  \n",
      " 4   Страховые выплаты  5000 non-null   int64  \n",
      "dtypes: float64(2), int64(3)\n",
      "memory usage: 195.4 KB\n"
     ]
    },
    {
     "data": {
      "text/html": [
       "<div>\n",
       "<style scoped>\n",
       "    .dataframe tbody tr th:only-of-type {\n",
       "        vertical-align: middle;\n",
       "    }\n",
       "\n",
       "    .dataframe tbody tr th {\n",
       "        vertical-align: top;\n",
       "    }\n",
       "\n",
       "    .dataframe thead th {\n",
       "        text-align: right;\n",
       "    }\n",
       "</style>\n",
       "<table border=\"1\" class=\"dataframe\">\n",
       "  <thead>\n",
       "    <tr style=\"text-align: right;\">\n",
       "      <th></th>\n",
       "      <th>Пол</th>\n",
       "      <th>Возраст</th>\n",
       "      <th>Зарплата</th>\n",
       "      <th>Члены семьи</th>\n",
       "      <th>Страховые выплаты</th>\n",
       "    </tr>\n",
       "  </thead>\n",
       "  <tbody>\n",
       "    <tr>\n",
       "      <th>18</th>\n",
       "      <td>1</td>\n",
       "      <td>42.0</td>\n",
       "      <td>49700.0</td>\n",
       "      <td>0</td>\n",
       "      <td>1</td>\n",
       "    </tr>\n",
       "    <tr>\n",
       "      <th>711</th>\n",
       "      <td>1</td>\n",
       "      <td>47.0</td>\n",
       "      <td>36700.0</td>\n",
       "      <td>1</td>\n",
       "      <td>1</td>\n",
       "    </tr>\n",
       "    <tr>\n",
       "      <th>824</th>\n",
       "      <td>0</td>\n",
       "      <td>22.0</td>\n",
       "      <td>29100.0</td>\n",
       "      <td>2</td>\n",
       "      <td>0</td>\n",
       "    </tr>\n",
       "    <tr>\n",
       "      <th>241</th>\n",
       "      <td>1</td>\n",
       "      <td>27.0</td>\n",
       "      <td>32400.0</td>\n",
       "      <td>1</td>\n",
       "      <td>0</td>\n",
       "    </tr>\n",
       "    <tr>\n",
       "      <th>3244</th>\n",
       "      <td>1</td>\n",
       "      <td>25.0</td>\n",
       "      <td>24700.0</td>\n",
       "      <td>2</td>\n",
       "      <td>0</td>\n",
       "    </tr>\n",
       "  </tbody>\n",
       "</table>\n",
       "</div>"
      ],
      "text/plain": [
       "      Пол  Возраст  Зарплата  Члены семьи  Страховые выплаты\n",
       "18      1     42.0   49700.0            0                  1\n",
       "711     1     47.0   36700.0            1                  1\n",
       "824     0     22.0   29100.0            2                  0\n",
       "241     1     27.0   32400.0            1                  0\n",
       "3244    1     25.0   24700.0            2                  0"
      ]
     },
     "metadata": {},
     "output_type": "display_data"
    },
    {
     "name": "stdout",
     "output_type": "stream",
     "text": [
      "None\n"
     ]
    }
   ],
   "source": [
    "#Общая информация по датафрейму и несколько строк\n",
    "df.info()\n",
    "print (display(df.sample(5)))"
   ]
  },
  {
   "cell_type": "markdown",
   "metadata": {},
   "source": [
    "В датафрейме содержится информация о 5тыс клиентов.\n",
    "\n",
    "Пропусков в датафреймах нет.\n",
    "\n",
    "С типами данных все в порядке, только возраст нужно поменять на целочисленный тип, так как возраст это всегда целое число.\n",
    "\n",
    "Названия столбцов не соответствуют стилю snake_case, переименуем:"
   ]
  },
  {
   "cell_type": "code",
   "execution_count": 4,
   "metadata": {},
   "outputs": [
    {
     "data": {
      "text/plain": [
       "Index(['gender', 'age', 'salary', 'family_members', 'insurance_payments'], dtype='object')"
      ]
     },
     "execution_count": 4,
     "metadata": {},
     "output_type": "execute_result"
    }
   ],
   "source": [
    "#Переименовываем\n",
    "df = df.rename(columns = {'Пол': 'gender', \n",
    "                          'Возраст':'age',\n",
    "                          'Зарплата':'salary',\n",
    "                          'Члены семьи':'family_members',\n",
    "                          'Страховые выплаты':'insurance_payments'\n",
    "                         } )\n",
    "\n",
    "#Проверяем\n",
    "df.columns"
   ]
  },
  {
   "cell_type": "markdown",
   "metadata": {},
   "source": [
    "Изменим тип столбца, содержащего возраст:"
   ]
  },
  {
   "cell_type": "code",
   "execution_count": 5,
   "metadata": {},
   "outputs": [],
   "source": [
    "#Меняем тип данных столбца ежемесячного дохода на целочисленный (int)\n",
    "df['age'] = df['age'].astype(int)"
   ]
  },
  {
   "cell_type": "markdown",
   "metadata": {},
   "source": [
    "Посмотрим данные на наличие аномальностей и выбросов:"
   ]
  },
  {
   "cell_type": "code",
   "execution_count": 6,
   "metadata": {},
   "outputs": [
    {
     "data": {
      "image/png": "[encoded data removed]",
      "text/plain": [
       "<Figure size 1200x400 with 2 Axes>"
      ]
     },
     "metadata": {},
     "output_type": "display_data"
    }
   ],
   "source": [
    "# Общая гистограмма для числовых столбцов\n",
    "df[['age','salary']].hist(\n",
    "    figsize=(12,4), \n",
    "    color = '#616161', edgecolor = 'black');"
   ]
  },
  {
   "cell_type": "code",
   "execution_count": 7,
   "metadata": {},
   "outputs": [
    {
     "data": {
      "text/plain": [
       "array([1, 0, 2, 4, 3, 5, 6], dtype=int64)"
      ]
     },
     "execution_count": 7,
     "metadata": {},
     "output_type": "execute_result"
    }
   ],
   "source": [
    "df['family_members'].unique()"
   ]
  },
  {
   "cell_type": "code",
   "execution_count": 8,
   "metadata": {},
   "outputs": [
    {
     "data": {
      "text/plain": [
       "array([0, 1, 2, 3, 5, 4], dtype=int64)"
      ]
     },
     "execution_count": 8,
     "metadata": {},
     "output_type": "execute_result"
    }
   ],
   "source": [
    "df['insurance_payments'].unique()"
   ]
  },
  {
   "cell_type": "code",
   "execution_count": 9,
   "metadata": {},
   "outputs": [
    {
     "data": {
      "text/plain": [
       "array([1, 0], dtype=int64)"
      ]
     },
     "execution_count": 9,
     "metadata": {},
     "output_type": "execute_result"
    }
   ],
   "source": [
    "df['gender'].unique()"
   ]
  },
  {
   "cell_type": "code",
   "execution_count": 10,
   "metadata": {},
   "outputs": [
    {
     "data": {
      "text/html": [
       "<div>\n",
       "<style scoped>\n",
       "    .dataframe tbody tr th:only-of-type {\n",
       "        vertical-align: middle;\n",
       "    }\n",
       "\n",
       "    .dataframe tbody tr th {\n",
       "        vertical-align: top;\n",
       "    }\n",
       "\n",
       "    .dataframe thead th {\n",
       "        text-align: right;\n",
       "    }\n",
       "</style>\n",
       "<table border=\"1\" class=\"dataframe\">\n",
       "  <thead>\n",
       "    <tr style=\"text-align: right;\">\n",
       "      <th></th>\n",
       "      <th>gender</th>\n",
       "      <th>age</th>\n",
       "      <th>salary</th>\n",
       "      <th>family_members</th>\n",
       "      <th>insurance_payments</th>\n",
       "    </tr>\n",
       "  </thead>\n",
       "  <tbody>\n",
       "    <tr>\n",
       "      <th>count</th>\n",
       "      <td>5000.000000</td>\n",
       "      <td>5000.000000</td>\n",
       "      <td>5000.000000</td>\n",
       "      <td>5000.000000</td>\n",
       "      <td>5000.000000</td>\n",
       "    </tr>\n",
       "    <tr>\n",
       "      <th>mean</th>\n",
       "      <td>0.499000</td>\n",
       "      <td>30.952800</td>\n",
       "      <td>39916.360000</td>\n",
       "      <td>1.194200</td>\n",
       "      <td>0.148000</td>\n",
       "    </tr>\n",
       "    <tr>\n",
       "      <th>std</th>\n",
       "      <td>0.500049</td>\n",
       "      <td>8.440807</td>\n",
       "      <td>9900.083569</td>\n",
       "      <td>1.091387</td>\n",
       "      <td>0.463183</td>\n",
       "    </tr>\n",
       "    <tr>\n",
       "      <th>min</th>\n",
       "      <td>0.000000</td>\n",
       "      <td>18.000000</td>\n",
       "      <td>5300.000000</td>\n",
       "      <td>0.000000</td>\n",
       "      <td>0.000000</td>\n",
       "    </tr>\n",
       "    <tr>\n",
       "      <th>25%</th>\n",
       "      <td>0.000000</td>\n",
       "      <td>24.000000</td>\n",
       "      <td>33300.000000</td>\n",
       "      <td>0.000000</td>\n",
       "      <td>0.000000</td>\n",
       "    </tr>\n",
       "    <tr>\n",
       "      <th>50%</th>\n",
       "      <td>0.000000</td>\n",
       "      <td>30.000000</td>\n",
       "      <td>40200.000000</td>\n",
       "      <td>1.000000</td>\n",
       "      <td>0.000000</td>\n",
       "    </tr>\n",
       "    <tr>\n",
       "      <th>75%</th>\n",
       "      <td>1.000000</td>\n",
       "      <td>37.000000</td>\n",
       "      <td>46600.000000</td>\n",
       "      <td>2.000000</td>\n",
       "      <td>0.000000</td>\n",
       "    </tr>\n",
       "    <tr>\n",
       "      <th>max</th>\n",
       "      <td>1.000000</td>\n",
       "      <td>65.000000</td>\n",
       "      <td>79000.000000</td>\n",
       "      <td>6.000000</td>\n",
       "      <td>5.000000</td>\n",
       "    </tr>\n",
       "  </tbody>\n",
       "</table>\n",
       "</div>"
      ],
      "text/plain": [
       "            gender          age        salary  family_members  \\\n",
       "count  5000.000000  5000.000000   5000.000000     5000.000000   \n",
       "mean      0.499000    30.952800  39916.360000        1.194200   \n",
       "std       0.500049     8.440807   9900.083569        1.091387   \n",
       "min       0.000000    18.000000   5300.000000        0.000000   \n",
       "25%       0.000000    24.000000  33300.000000        0.000000   \n",
       "50%       0.000000    30.000000  40200.000000        1.000000   \n",
       "75%       1.000000    37.000000  46600.000000        2.000000   \n",
       "max       1.000000    65.000000  79000.000000        6.000000   \n",
       "\n",
       "       insurance_payments  \n",
       "count         5000.000000  \n",
       "mean             0.148000  \n",
       "std              0.463183  \n",
       "min              0.000000  \n",
       "25%              0.000000  \n",
       "50%              0.000000  \n",
       "75%              0.000000  \n",
       "max              5.000000  "
      ]
     },
     "execution_count": 10,
     "metadata": {},
     "output_type": "execute_result"
    }
   ],
   "source": [
    "df.describe()"
   ]
  },
  {
   "cell_type": "markdown",
   "metadata": {},
   "source": [
    "Выбивающихся значений не обнаружено. \n",
    "\n",
    "Проверим есть ли в данных дубликаты:"
   ]
  },
  {
   "cell_type": "code",
   "execution_count": 11,
   "metadata": {},
   "outputs": [
    {
     "name": "stdout",
     "output_type": "stream",
     "text": [
      "153\n"
     ]
    }
   ],
   "source": [
    "#Ищем дубликаты по всему датафрейму\n",
    "print (df.duplicated().sum())"
   ]
  },
  {
   "cell_type": "markdown",
   "metadata": {},
   "source": [
    "В данных 153 дублирующих строки неизвестного для нас происхождения, удалим их."
   ]
  },
  {
   "cell_type": "code",
   "execution_count": 12,
   "metadata": {
    "editable": true,
    "slideshow": {
     "slide_type": ""
    },
    "tags": []
   },
   "outputs": [
    {
     "data": {
      "text/plain": [
       "0"
      ]
     },
     "execution_count": 12,
     "metadata": {},
     "output_type": "execute_result"
    }
   ],
   "source": [
    "# удаляем дубликаты\n",
    "df = df.drop_duplicates() \n",
    "\n",
    "# проверяем количество дубликатов\n",
    "df.duplicated().sum()"
   ]
  },
  {
   "cell_type": "markdown",
   "metadata": {},
   "source": [
    "<a id='section_2'></a>\n",
    "### Шаг 2. Создание модели линейной регрессии и анализ преобразования данных"
   ]
  },
  {
   "cell_type": "markdown",
   "metadata": {},
   "source": [
    "Разделим данные на обучающую (75%) и валидационную (25%) выборки:"
   ]
  },
  {
   "cell_type": "code",
   "execution_count": 13,
   "metadata": {},
   "outputs": [
    {
     "name": "stdout",
     "output_type": "stream",
     "text": [
      "3635 1212\n"
     ]
    }
   ],
   "source": [
    "#Выделяем общие признаки и целевой\n",
    "features = df.drop('insurance_payments', axis=1)\n",
    "target = df['insurance_payments']\n",
    "\n",
    "#Отделим 25% в валидационную выборку features_valid, target_valid\n",
    "#оставшиеся 75% будут в обучающей features_train,target_train\n",
    "features_train, features_valid, target_train, target_valid = train_test_split(\n",
    "   features, target, test_size = 0.25, random_state=123) \n",
    "\n",
    "#Проверим размер выборок\n",
    "print (len(features_train), len(features_valid))"
   ]
  },
  {
   "cell_type": "markdown",
   "metadata": {},
   "source": [
    "Введем обозначения:\n",
    "\n",
    "- $X$ — матрица признаков (нулевой столбец состоит из единиц)\n",
    "\n",
    "- $y$ — вектор целевого признака\n",
    "\n",
    "- $P$ — матрица, на которую умножаются признаки\n",
    "\n",
    "- $w$ — вектор весов линейной регрессии (нулевой элемент равен сдвигу)\n",
    "\n",
    "Предсказания:\n",
    "\n",
    "$$\n",
    "a = Xw\n",
    "$$\n",
    "\n",
    "Задача обучения:\n",
    "\n",
    "$$\n",
    "w = \\arg\\min_w MSE(Xw, y)\n",
    "$$\n",
    "\n",
    "Минимальное MSE получается когда веса равны:\n",
    "\n",
    "$$\n",
    "w = (X^T X)^{-1} X^T y\n",
    "$$\n",
    "\n",
    "Определим теперь класс модели линейной регрессии:"
   ]
  },
  {
   "cell_type": "code",
   "execution_count": 14,
   "metadata": {
    "editable": true,
    "slideshow": {
     "slide_type": ""
    },
    "tags": []
   },
   "outputs": [],
   "source": [
    "class LinearRegression:\n",
    "    def fit(self, train_features, train_target):\n",
    "        X = np.concatenate((np.ones((train_features.shape[0], 1)), train_features), axis=1)\n",
    "        y = train_target\n",
    "        w = (np.linalg.inv(X.T.dot(X))).dot(X.T).dot(y)\n",
    "        self.w = w[1:]\n",
    "        self.w0 = w[0]\n",
    "        \n",
    "    def predict(self, test_features):\n",
    "        return test_features.dot(self.w) + self.w0"
   ]
  },
  {
   "cell_type": "markdown",
   "metadata": {},
   "source": [
    "Посмотрим на результаты линейной модели:"
   ]
  },
  {
   "cell_type": "code",
   "execution_count": 15,
   "metadata": {},
   "outputs": [
    {
     "name": "stdout",
     "output_type": "stream",
     "text": [
      "метрика R2 = 0.41\n"
     ]
    }
   ],
   "source": [
    "model_lr = LinearRegression()\n",
    "#обучаем\n",
    "model_lr.fit(features_train, target_train)\n",
    "\n",
    "#Делаем предсказание\n",
    "predictions = model_lr.predict(features_valid)\n",
    "\n",
    "#Смотрим качество\n",
    "print(f'метрика R2 = {r2_score(target_valid, predictions):.2f}')"
   ]
  },
  {
   "cell_type": "markdown",
   "metadata": {
    "editable": true,
    "slideshow": {
     "slide_type": ""
    },
    "tags": []
   },
   "source": [
    "#### Шаг 2.1. Проверим, изменится ли качество линейной регрессии если признаки умножить на обратимую матрицу $P$"
   ]
  },
  {
   "cell_type": "code",
   "execution_count": 16,
   "metadata": {},
   "outputs": [],
   "source": [
    "def get_rand_matrix(shape):\n",
    "    \"\"\"\n",
    "    Функция для генерации квадратной случайной обратимой матрицы.\n",
    "    На вход принимает размер матрицы.\n",
    "    Возвращает сгенерированную матрицу.\n",
    "    \"\"\"\n",
    "    #Переменная хранящая значение определителя матрицы\n",
    "    det = 0\n",
    "    \n",
    "    #Матрица, обратная к A, существует тогда и только тогда, \n",
    "    #когда матрица A невырожденна\n",
    "    # т.е. когда ее определитель не равен нулю\n",
    "    while det == 0:\n",
    "        matrix = np.random.normal(0,1, size=(shape, shape))\n",
    "        det = np.linalg.det(matrix)\n",
    "    return matrix"
   ]
  },
  {
   "cell_type": "code",
   "execution_count": 17,
   "metadata": {},
   "outputs": [
    {
     "data": {
      "text/plain": [
       "array([[ 4.21954980e-01, -2.76955704e-01, -9.50945513e-01,\n",
       "         1.21583563e-01],\n",
       "       [-5.57183289e-02,  9.12688265e-02, -1.04643143e-01,\n",
       "        -1.76283029e+00],\n",
       "       [ 7.84088286e-02, -9.54420243e-01,  5.40211988e-02,\n",
       "        -5.97034542e-01],\n",
       "       [ 3.26177588e-01,  9.56404602e-01, -1.84746233e-01,\n",
       "        -1.16500685e-03]])"
      ]
     },
     "execution_count": 17,
     "metadata": {},
     "output_type": "execute_result"
    }
   ],
   "source": [
    "#Создадим случайную квадратную матрицу с n = кол-ву признаков\n",
    "matrix_P = get_rand_matrix(features_train.shape[1])\n",
    "\n",
    "matrix_P"
   ]
  },
  {
   "cell_type": "markdown",
   "metadata": {},
   "source": [
    "Проверим теперь как влияет домножение признаков на эту матрицу на качество модели:"
   ]
  },
  {
   "cell_type": "code",
   "execution_count": 18,
   "metadata": {},
   "outputs": [
    {
     "name": "stdout",
     "output_type": "stream",
     "text": [
      "Несколько строк преобразованной матрицы признаков:\n"
     ]
    },
    {
     "data": {
      "text/html": [
       "<div>\n",
       "<style scoped>\n",
       "    .dataframe tbody tr th:only-of-type {\n",
       "        vertical-align: middle;\n",
       "    }\n",
       "\n",
       "    .dataframe tbody tr th {\n",
       "        vertical-align: top;\n",
       "    }\n",
       "\n",
       "    .dataframe thead th {\n",
       "        text-align: right;\n",
       "    }\n",
       "</style>\n",
       "<table border=\"1\" class=\"dataframe\">\n",
       "  <thead>\n",
       "    <tr style=\"text-align: right;\">\n",
       "      <th></th>\n",
       "      <th>0</th>\n",
       "      <th>1</th>\n",
       "      <th>2</th>\n",
       "      <th>3</th>\n",
       "    </tr>\n",
       "  </thead>\n",
       "  <tbody>\n",
       "    <tr>\n",
       "      <th>1654</th>\n",
       "      <td>3008.773590</td>\n",
       "      <td>-36644.765088</td>\n",
       "      <td>2069.624990</td>\n",
       "      <td>-23003.692101</td>\n",
       "    </tr>\n",
       "    <tr>\n",
       "      <th>2676</th>\n",
       "      <td>4304.230265</td>\n",
       "      <td>-52392.520391</td>\n",
       "      <td>2962.593497</td>\n",
       "      <td>-32821.270594</td>\n",
       "    </tr>\n",
       "    <tr>\n",
       "      <th>4121</th>\n",
       "      <td>2389.988672</td>\n",
       "      <td>-29105.487201</td>\n",
       "      <td>1642.325146</td>\n",
       "      <td>-18279.946316</td>\n",
       "    </tr>\n",
       "    <tr>\n",
       "      <th>4745</th>\n",
       "      <td>2782.772813</td>\n",
       "      <td>-33877.724087</td>\n",
       "      <td>1914.766987</td>\n",
       "      <td>-21238.799319</td>\n",
       "    </tr>\n",
       "    <tr>\n",
       "      <th>2974</th>\n",
       "      <td>2327.563992</td>\n",
       "      <td>-28342.860546</td>\n",
       "      <td>1601.419494</td>\n",
       "      <td>-17779.523473</td>\n",
       "    </tr>\n",
       "  </tbody>\n",
       "</table>\n",
       "</div>"
      ],
      "text/plain": [
       "                0             1            2             3\n",
       "1654  3008.773590 -36644.765088  2069.624990 -23003.692101\n",
       "2676  4304.230265 -52392.520391  2962.593497 -32821.270594\n",
       "4121  2389.988672 -29105.487201  1642.325146 -18279.946316\n",
       "4745  2782.772813 -33877.724087  1914.766987 -21238.799319\n",
       "2974  2327.563992 -28342.860546  1601.419494 -17779.523473"
      ]
     },
     "execution_count": 18,
     "metadata": {},
     "output_type": "execute_result"
    }
   ],
   "source": [
    "#Домножаем признаки на полученную обратимую матрицу\n",
    "features_train_p = features_train.dot(matrix_P)\n",
    "features_valid_p = features_valid.dot(matrix_P)\n",
    "\n",
    "print ('Несколько строк преобразованной матрицы признаков:')\n",
    "features_train_p.sample(5)"
   ]
  },
  {
   "cell_type": "code",
   "execution_count": 19,
   "metadata": {},
   "outputs": [
    {
     "name": "stdout",
     "output_type": "stream",
     "text": [
      "метрика R2 = 0.41\n",
      "True\n"
     ]
    }
   ],
   "source": [
    "#Задаем новую модель\n",
    "model_lr2 = LinearRegression()\n",
    "\n",
    "#обучаем на преобразованных данных\n",
    "model_lr2.fit(features_train_p, target_train)\n",
    "\n",
    "#Делаем предсказание на преобразованных данных\n",
    "predictions2 = model_lr2.predict(features_valid_p)\n",
    "\n",
    "#Смотрим качество\n",
    "print(f'метрика R2 = {r2_score(target_valid, predictions2):.2f}')\n",
    "\n",
    "#Проверяем одинаковые ли получили предсказания?\n",
    "print((\n",
    "    round(predictions2, 2) == round(predictions, 2)\n",
    ").sum() == predictions.shape[0])"
   ]
  },
  {
   "cell_type": "markdown",
   "metadata": {},
   "source": [
    "Домножение матрицы признаков на случайную обратимую матрицу не изменяет качество модели. Предсказания совпадают как минимум до второго знака после запятой.\n",
    "\n",
    "Подставим в формулу, и проверим, что в общем случае домножение на обратимую квадратную матрицу $P$ не изменяет результат предсказания, т.е что $a = a_p$ :\n",
    "\n",
    "$$ a = Xw = X (X^T X)^{-1} X^T y $$\n",
    "$$ a_p = XPw $$\n",
    "\n",
    "где $ w = (X^T X)^{-1} X^T y$\n",
    "\n",
    "<br>\n",
    "\n",
    "Для этого вспомним некоторые свойства матриц:\n",
    "\n",
    "1) $ X^{-1}X = E $\n",
    "\n",
    "2) $ E X = X E =X $\n",
    "\n",
    "3) $(X P)^{-1} = P^{-1} X^{-1} $\n",
    "\n",
    "4) $(X^T)^{-1} = (X^{-1})^T $\n",
    "\n",
    "5) $(X P)^T = X^T P^T $\n",
    "\n",
    "6) $(ABС)^{-1} = ((AB)С)^{-1} = ((AB)С)^{-1} = С^{-1}(AB)^{-1} = С^{-1}B^{-1}A^{-1}$\n",
    "\n",
    "И не забываем, что только квадратная матрица может иметь обратную.\n",
    "\n",
    "<br>\n",
    "\n",
    "Подставляем и преобразуем нашу формулу весов с домножением:\n",
    "\n",
    "$$\n",
    "w_p = ((XP)^T XP)^{-1} (XP)^T y = (P^T(X^T X) P)^{-1} P^T X^T y =P^{-1}(X^T X)^{-1} (P^T)^{-1} P^T X^T  y =  P^{-1}(X^T X)^{-1} X^T y\n",
    "$$\n",
    "\n",
    "Подставим теперь значение весов в формулу предсказания:\n",
    "$$ a_p = XPw_p = X P P^{-1} (X^T X)^{-1} X^T y =  X (X^T X)^{-1} X^T y $$\n",
    "\n",
    "Получили равенство $a = a_p$, что доказывает неизменность результата предсказания при домножении признаков на обратимую матрицу $P$, и соответсвенно качество предсказания также не изменяется.\n",
    "\n",
    "Как видно выше $w_p = P^{-1}w $ Параметры моделей связаны обратной матрицей $P$"
   ]
  },
  {
   "attachments": {
    "207b8c3b-f307-4f06-93a8-ac9f7120b94b.png": {
     "image/png": "[encoded data removed]"
    }
   },
   "cell_type": "markdown",
   "metadata": {},
   "source": [
    "***\n",
    "\n",
    "<div class=\"info\">\n",
    "<font size=\"4\"><b>Способ доказательства №2:</b></font>\n",
    "    \n",
    "Для нашей модели линейной регрессии надо найти такие параметры модели (набор весов $w$) чтобы функция потерь была минимальной (эта функция принимает на вход правильные ответы и предсказания, и возвращает число - потерю). \n",
    "    \n",
    "Один из простых способов найти такие значения параметров модели (вектор $w$) - метод наименьших квадратов, который минимизирует среднеквадратичную ошибку между реальным значением и прогнозом выданным моделью.                                                  \n",
    "\n",
    "Вспомним формулу среднеквадратичного отклонения, которая в нашем случае будет выглядеть так:\n",
    "    \n",
    "$\\begin{equation} MSE=\\sum_{i=1}^n {(y_i - Xw)^{2}} \\end{equation}$\n",
    "    \n",
    "Эта формула представляет собой функцию $F(y,X,w)$. Для каждой конкретной линейной функции, которую задают веса, мы получаем число, которое оценивает, насколько точно эта функция приближает наши значения.\n",
    "Нам надо найти лучшее приближение, т.е. минимальное значение этой функции(минимизировать среднеквадратичную ошибку).\n",
    "    \n",
    "Для поиска минимума надо взять первую производную и приравнять к нулю ( в нашем случае матричное дифференцирование). Вспомним некоторые свойства:\n",
    "    \n",
    "![image.png](attachment:207b8c3b-f307-4f06-93a8-ac9f7120b94b.png)\n",
    "    \n",
    "берем производную по $w$\n",
    "    \n",
    "$$F'_w = <(y - Xw),(y - Xw)>'$$\n",
    "    \n",
    "Применим формулу дифференциала произведения, и воспользуемся симметричностью скалярного произведения:\n",
    "    \n",
    "$$F'_w  = <(y - Xw)',(y - Xw)> + <(y - Xw),(y - Xw)'> = 2 <(y - Xw), -X> = -2X^{T}(y - Xw) = 2X^{T}Xw -2X^{T}y$$\n",
    "    \n",
    "Приравняем теперь к нулю:\n",
    "\n",
    "$$ 2X^{T}Xw -2X^{T}y = 0$$\n",
    "\n",
    "$$ 2X^{T}Xw = 2X^{T}y $$\n",
    "\n",
    "$$ w = (X^{T}X)^{-1} X^{T}y$$ \n",
    "\n",
    "Можно предполагать, что минимум достигается при данном значении $w$, где градиент обращается в ноль, но чтобы с уверенностью сказать о том что это минимум, необходимо проверить положительна ли вторая производная. \n",
    "    \n",
    "$$F\"_w = (2X^{T}Xw -2X^{T}y)' = 2X^{T}X $$\n",
    "\n",
    "Вторая производная константная не зависит от $w$ что и логично, так как в исходной функции у нас была вторая степень. \n",
    "$X^{T}X$ это квадратная матрица, положительно определенная, соответсвенно при заданном значении $ w = (X^{T}X)^{-1} X^{T}y$  достигается минимум. \n",
    "    \n",
    "Предсказания вычисляются по формуле $$ a = Xw $$\n",
    "    \n",
    "Посмотрим какая производная, минимумы и предсказания получились бы при домножении матрицы $XP$:\n",
    "\n",
    "$$F'_w  = <(y - XPw_p)',(y - XPw_p)> + <(y - XPw_p),(y - XPw_p)'> = 2 <(y - XPw_p), -XP> = -2(XP)^{T}(y - XPw_p) = 2(XP)^{T}XPw_p -2(XP)^{T}y = 2P^{T}X^{T}XPw_p -2P^{T}X^{T}y$$\n",
    "    \n",
    "Приравняем теперь к нулю:\n",
    "\n",
    "$$2P^{T}X^{T}XPw_p - 2P^{T}X^{T}y = 0$$ \n",
    "\n",
    "$$P^{T}X^{T}XPw_p = P^{T}X^{T}y $$\n",
    "\n",
    "$$w_p = (P^{T}X^{T}XP)^{-1}P^{T}X^{T}y $$\n",
    "\n",
    "$$w_p = P^{-1}(X^{T}X)^{-1}(P^{T})^{-1}P^{T}X^{T}y $$\n",
    "    \n",
    "$$w_p = P^{-1}(X^{T}X)^{-1}X^{T}y $$    \n",
    "    \n",
    "Ну а дальше подставляем наши веса в формулу предсказаний\n",
    "    \n",
    "$$ a_p = XPw_p = X P P^{-1} (X^T X)^{-1} X^T y =  X (X^T X)^{-1} X^T y $$\n",
    "\n",
    "Получили равенство $a = a_p$, что доказывает неизменность результата предсказания при домножении признаков на обратимую матрицу $P$, и соответсвенно качество предсказания также не изменяется.\n",
    "\n",
    "Как видно выше $w_p = P^{-1}w $ Параметры моделей связаны обратной матрицей $P$\n",
    "\n",
    "***\n",
    "\n",
    "<font size=\"4\"><b>Способ доказательства №3:</b></font>\n",
    "    \n",
    "Для исходных данных мы решаем это  \n",
    "    \n",
    "$$\n",
    "w = \\arg\\min_w MSE(Xw, y)\n",
    "$$\n",
    "    \n",
    "  \n",
    "Для преобразованных данных решаем это  \n",
    "    \n",
    "$$\n",
    "w_P = \\arg\\min_w MSE(XPw_p, y)\n",
    "$$  \n",
    "    \n",
    "    \n",
    "Сделаем замену   w_p на $P^{-1}w$ (Конечно мы это соотношение не берём из первого доказательства, иначе смысла в этом доказательстве просто нет. Тут из разряда математической интуиции, исходя из того, что нам нужно избавиться от P пробуем такую замену.)\n",
    " \n",
    "И подставим:    \n",
    "    \n",
    "$$\n",
    "\\arg\\min_w MSE(XPP^{-1}w, y)\n",
    "$$\n",
    "    \n",
    "сократим и получим \n",
    "    \n",
    "$$\n",
    "\\arg\\min_w MSE(Xw, y)\n",
    "$$    \n",
    "  \n",
    "Получается если заменить $w_p$ на $P^{-1}w$, то получаем ту же самую постановку задачи!  \n",
    "     "
   ]
  },
  {
   "cell_type": "markdown",
   "metadata": {},
   "source": [
    "<a id='section_3'></a>\n",
    "### Шаг 3. Алгоритм преобразования данных для решения задачи\n",
    "\n",
    "Проведя исследования в шаге 2, мы по сути создали подходящий алгоритм преобразования данных, на котором и остановимся.\n",
    "\n",
    "**Алгоритм преобразования:**\n",
    "\n",
    "1) Генерируется обратимая матрица случайных значений размерностью $n*n$, где $n$ = количеству общих признаков задачи;\n",
    "2) На полученную обратимую матрицу домножаются все признаки, кроме целевого.\n",
    "\n",
    "После этих шагов данные можно подавать в модель.\n",
    "\n",
    "В шаге 2 также было обосновано что при таком преобразовании, предсказания и качество линейной регрессии не поменяется, но при этом мы можем обеспечить защиту данных клиента. При таком раскладе восстановить исходную персональную информацию о клиентах представляется практически невозможным.\n",
    "\n",
    "**Код алгоритма:**\n",
    "\n",
    "    1)\n",
    "\n",
    "\n"
   ]
  },
  {
   "cell_type": "code",
   "execution_count": 20,
   "metadata": {},
   "outputs": [],
   "source": [
    "def get_rand_matrix(shape):\n",
    "    \"\"\"\n",
    "    Функция для генерации квадратной случайной обратимой матрицы.\n",
    "    На вход принимает размер матрицы.\n",
    "    Возвращает сгенерированную матрицу.\n",
    "    \"\"\"\n",
    "    #Переменная хранящая значение определителя матрицы\n",
    "    det = 0\n",
    "    \n",
    "    #Матрица, обратная к A, существует тогда и только тогда, \n",
    "    #когда матрица A невырожденна\n",
    "    # т.е. когда ее определитель не равен нулю\n",
    "    while det == 0:\n",
    "        matrix = np.random.normal(0,1, size=(shape, shape))\n",
    "        det = np.linalg.det(matrix)\n",
    "    return matrix"
   ]
  },
  {
   "cell_type": "code",
   "execution_count": 21,
   "metadata": {},
   "outputs": [
    {
     "data": {
      "text/plain": [
       "array([[ 0.02936236, -0.47781636, -0.83801362,  1.75477089],\n",
       "       [ 0.60924816, -2.820579  ,  0.16677195, -0.57684566],\n",
       "       [ 0.23339649,  1.12779187, -0.18403109,  1.37370196],\n",
       "       [ 0.72995666,  0.82908634,  1.18716682, -0.74274446]])"
      ]
     },
     "execution_count": 21,
     "metadata": {},
     "output_type": "execute_result"
    }
   ],
   "source": [
    "#Создадим случайную квадратную матрицу с n = кол-ву признаков\n",
    "matrix_P = get_rand_matrix(features_train.shape[1])\n",
    "\n",
    "matrix_P"
   ]
  },
  {
   "cell_type": "markdown",
   "metadata": {},
   "source": [
    "    2)"
   ]
  },
  {
   "cell_type": "code",
   "execution_count": 22,
   "metadata": {},
   "outputs": [
    {
     "name": "stdout",
     "output_type": "stream",
     "text": [
      "Несколько строк преобразованной матрицы признаков:\n"
     ]
    },
    {
     "data": {
      "text/html": [
       "<div>\n",
       "<style scoped>\n",
       "    .dataframe tbody tr th:only-of-type {\n",
       "        vertical-align: middle;\n",
       "    }\n",
       "\n",
       "    .dataframe tbody tr th {\n",
       "        vertical-align: top;\n",
       "    }\n",
       "\n",
       "    .dataframe thead th {\n",
       "        text-align: right;\n",
       "    }\n",
       "</style>\n",
       "<table border=\"1\" class=\"dataframe\">\n",
       "  <thead>\n",
       "    <tr style=\"text-align: right;\">\n",
       "      <th></th>\n",
       "      <th>0</th>\n",
       "      <th>1</th>\n",
       "      <th>2</th>\n",
       "      <th>3</th>\n",
       "    </tr>\n",
       "  </thead>\n",
       "  <tbody>\n",
       "    <tr>\n",
       "      <th>4656</th>\n",
       "      <td>3089.267791</td>\n",
       "      <td>-37600.696333</td>\n",
       "      <td>2125.021932</td>\n",
       "      <td>-23558.298297</td>\n",
       "    </tr>\n",
       "    <tr>\n",
       "      <th>694</th>\n",
       "      <td>2100.416925</td>\n",
       "      <td>-25572.036956</td>\n",
       "      <td>1441.867932</td>\n",
       "      <td>-16074.446502</td>\n",
       "    </tr>\n",
       "    <tr>\n",
       "      <th>3872</th>\n",
       "      <td>3189.066310</td>\n",
       "      <td>-38841.344395</td>\n",
       "      <td>2194.581709</td>\n",
       "      <td>-24368.056231</td>\n",
       "    </tr>\n",
       "    <tr>\n",
       "      <th>976</th>\n",
       "      <td>2900.855596</td>\n",
       "      <td>-35308.218658</td>\n",
       "      <td>1994.139877</td>\n",
       "      <td>-22143.044865</td>\n",
       "    </tr>\n",
       "    <tr>\n",
       "      <th>3691</th>\n",
       "      <td>2703.703496</td>\n",
       "      <td>-32923.712636</td>\n",
       "      <td>1860.302675</td>\n",
       "      <td>-20652.340594</td>\n",
       "    </tr>\n",
       "  </tbody>\n",
       "</table>\n",
       "</div>"
      ],
      "text/plain": [
       "                0             1            2             3\n",
       "4656  3089.267791 -37600.696333  2125.021932 -23558.298297\n",
       "694   2100.416925 -25572.036956  1441.867932 -16074.446502\n",
       "3872  3189.066310 -38841.344395  2194.581709 -24368.056231\n",
       "976   2900.855596 -35308.218658  1994.139877 -22143.044865\n",
       "3691  2703.703496 -32923.712636  1860.302675 -20652.340594"
      ]
     },
     "execution_count": 22,
     "metadata": {},
     "output_type": "execute_result"
    }
   ],
   "source": [
    "#Выделяем общие признаки\n",
    "features = df.drop('insurance_payments', axis=1)\n",
    "\n",
    "#Домножаем признаки на полученную обратимую матрицу\n",
    "features_p = features.dot(matrix_P)\n",
    "\n",
    "print ('Несколько строк преобразованной матрицы признаков:')\n",
    "features_train_p.sample(5)"
   ]
  },
  {
   "cell_type": "markdown",
   "metadata": {},
   "source": [
    "В переменной features_p получаем необходимую преобразованную матрицу."
   ]
  },
  {
   "cell_type": "markdown",
   "metadata": {},
   "source": [
    "<a id='section_4'></a>\n",
    "### Шаг 4. Общий вывод"
   ]
  },
  {
   "cell_type": "markdown",
   "metadata": {
    "editable": true,
    "slideshow": {
     "slide_type": ""
    },
    "tags": []
   },
   "source": [
    "\n",
    "<br/>\n",
    "\n",
    "#### Цели исследования\n",
    "\n",
    "Нужно защитить данные клиентов страховой компании «Хоть потоп»\n",
    "\n",
    "Необходимо разработать такой метод преобразования данных, чтобы по ним было сложно восстановить персональную информацию. Необходимо обосновать корректность его работы.\n",
    "\n",
    "Нужно защитить данные, чтобы при преобразовании качество моделей машинного обучения не ухудшилось. Подбирать наилучшую модель не требуется.\n",
    "\n",
    "<br/> \n",
    "\n",
    "#### Полученные данные были изучены и прошли следующую предобработку:\n",
    "\n",
    "* В полученом датафрейме содержится информация о 5тыс клиентов.\n",
    "\n",
    "* Пропусков в датафреймах нет.\n",
    "\n",
    "* С типами данных все в порядке, только тип признака возраст был изменен на целочисленный, так как возраст это всегда целое число.\n",
    "\n",
    "* Все названия признаков были переименованы для соответствия стилю snake_case.\n",
    "\n",
    "* Аномальных значений не обнаружено. \n",
    "\n",
    "* В данных было обнаружено 153 дублирующих строк неизвестного для нас происхождения, которые были удалены. \n",
    "\n",
    "* Существенная корреляция наблюдается между возрастом и страховыми выплатами. Между остальными признаками нет ощутимой корреляции.\n",
    "\n",
    "#### Создание модели линейной регрессии и анализ преобразования данных:\n",
    "\n",
    "* Была написана модель линейной регрессии. Для оценки качества используется метрика R2.\n",
    "\n",
    "* Данные были разделены на обучающую (75%) и валидационную (25%) выборки.\n",
    "\n",
    "* Было  проанализировано преобразование данных путем домножения общих признаков на случайную обратимую матрицу $P$ размерностью $n*n$, где $n$ = кол-ву признаков. Такое преобразование не изменяет предсказания модели и соотвественно не влияет на метрику. Данный вывод был обоснован для общего случая любой квадратной обратимой матрицы.\n",
    "   \n",
    "#### Алгоритм преобразования данных для решения задачи:\n",
    "\n",
    "Было решено остановить выбор на преобразовании данных, проанализированного в шаге 2.\n",
    "\n",
    "**Алгоритм преобразования:**\n",
    "\n",
    "1) Генерируется матрица случайных значений размерностью $n*n$, где $n$ = количеству общих признаков задачи;\n",
    "2) Матрица проверяется на обратимость;\n",
    "3) На полученную обратимую матрицу домножаются все признаки, кроме целевого.\n",
    "\n",
    "После этих шагов данные можно подавать в модель. В шаге 2 было обосновано что при таком преобразовании, предсказания и качество линейной регрессии не поменяется, но при этом мы можем обеспечить защиту данных клиента.\n",
    "\n",
    "\n",
    "<br/>\n",
    "\n",
    "### Вывод и рекомендации:\n",
    "\n",
    "По итогу работы можно рекомендовать метод преобразования данных путем домножения на случайную обратимую матрицу как описано выше. \n",
    "\n",
    "Такое преобразование позволит защитить данные клиентов. \n",
    "Персональную информацию восстановить по таким данных будет практически невозможно, и такие данные при попадании в третьи руки окажутся бесполезными.\n",
    "\n",
    "<br/>"
   ]
  }
 ],
 "metadata": {
  "ExecuteTimeLog": [
   {
    "duration": 3309,
    "start_time": "2023-11-05T13:09:40.466Z"
   },
   {
    "duration": 29,
    "start_time": "2023-11-05T13:09:43.777Z"
   },
   {
    "duration": 22,
    "start_time": "2023-11-05T13:09:43.808Z"
   },
   {
    "duration": 12,
    "start_time": "2023-11-05T13:09:43.831Z"
   },
   {
    "duration": 5,
    "start_time": "2023-11-05T13:09:43.845Z"
   },
   {
    "duration": 603,
    "start_time": "2023-11-05T13:09:43.852Z"
   },
   {
    "duration": 6,
    "start_time": "2023-11-05T13:09:44.457Z"
   },
   {
    "duration": 24,
    "start_time": "2023-11-05T13:09:44.465Z"
   },
   {
    "duration": 380,
    "start_time": "2023-11-05T13:09:44.490Z"
   },
   {
    "duration": 8,
    "start_time": "2023-11-05T13:09:44.873Z"
   },
   {
    "duration": 18,
    "start_time": "2023-11-05T13:09:44.883Z"
   },
   {
    "duration": 11,
    "start_time": "2023-11-05T13:09:44.903Z"
   },
   {
    "duration": 86,
    "start_time": "2023-11-05T13:09:44.917Z"
   },
   {
    "duration": 96,
    "start_time": "2023-11-05T13:09:45.007Z"
   },
   {
    "duration": 21,
    "start_time": "2023-11-05T13:09:45.105Z"
   }
  ],
  "kernelspec": {
   "display_name": "Python 3 (ipykernel)",
   "language": "python",
   "name": "python3"
  },
  "language_info": {
   "codemirror_mode": {
    "name": "ipython",
    "version": 3
   },
   "file_extension": ".py",
   "mimetype": "text/x-python",
   "name": "python",
   "nbconvert_exporter": "python",
   "pygments_lexer": "ipython3",
   "version": "3.11.5"
  },
  "toc": {
   "base_numbering": 1,
   "nav_menu": {},
   "number_sections": true,
   "sideBar": true,
   "skip_h1_title": true,
   "title_cell": "Содержание",
   "title_sidebar": "Contents",
   "toc_cell": true,
   "toc_position": {},
   "toc_section_display": true,
   "toc_window_display": false
  }
 },
 "nbformat": 4,
 "nbformat_minor": 4
}
